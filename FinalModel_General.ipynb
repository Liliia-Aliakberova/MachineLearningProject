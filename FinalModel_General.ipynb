{
 "cells": [
  {
   "attachments": {},
   "cell_type": "markdown",
   "id": "b7df141b",
   "metadata": {},
   "source": [
    "# Part 2 Preprocess\n",
    "* * *"
   ]
  },
  {
   "attachments": {},
   "cell_type": "markdown",
   "id": "9e6d07de",
   "metadata": {},
   "source": [
    "### Library import"
   ]
  },
  {
   "cell_type": "code",
   "execution_count": 1,
   "id": "caf8dfd0",
   "metadata": {},
   "outputs": [],
   "source": [
    "#%matplotlib notebook\n",
    "import numpy as np\n",
    "import matplotlib.pyplot as plt\n",
    "import seaborn as sn\n",
    "import pandas as pd\n",
    "from collections import Counter\n",
    "from IPython.core.interactiveshell import InteractiveShell\n",
    "# extra imports\n",
    "from pandas import read_csv\n",
    "from sklearn.neighbors import KNeighborsClassifier\n",
    "from sklearn.neighbors import LocalOutlierFactor\n",
    "from sklearn import preprocessing\n",
    "from statsmodels.genmod.generalized_linear_model import GLM\n",
    "from pandas.plotting import scatter_matrix\n",
    "from scipy.stats import boxcox\n",
    "\n",
    "from sklearn.model_selection import train_test_split,  KFold, cross_val_score\n",
    "from sklearn.linear_model import LinearRegression, Ridge, RidgeCV, Lasso, LassoCV\n",
    "from sklearn.metrics import mean_absolute_error, r2_score\n",
    "from sklearn.preprocessing import  StandardScaler\n",
    "import statsmodels.api as sm\n",
    "from scipy import stats\n",
    "\n",
    "\n",
    "from sklearn.ensemble import GradientBoostingClassifier\n",
    "from sklearn.model_selection import cross_val_score\n",
    "from sklearn import metrics\n",
    "\n",
    "import matplotlib.pylab as plt\n",
    "from matplotlib.pylab import rcParams\n",
    "rcParams['figure.figsize'] = 12, 4\n",
    "\n",
    "InteractiveShell.ast_node_interactivity = \"all\""
   ]
  },
  {
   "attachments": {},
   "cell_type": "markdown",
   "id": "79aaafc0",
   "metadata": {},
   "source": [
    "### Loading data"
   ]
  },
  {
   "attachments": {},
   "cell_type": "markdown",
   "id": "6c27709b",
   "metadata": {},
   "source": [
    "Create a list of all files and add the corresponding city names and day type"
   ]
  },
  {
   "cell_type": "code",
   "execution_count": 2,
   "id": "9f9e4209",
   "metadata": {},
   "outputs": [],
   "source": [
    "data_paths = [(\"/Users/lauraforerocamacho/Downloads/data/amsterdam_weekdays.csv\", \"Amsterdam\", \"Weekdays\"),\n",
    "                 (\"/Users/lauraforerocamacho/Downloads/data/athens_weekdays.csv\", \"Athens\",\"Weekdays\"),\n",
    "                 (\"/Users/lauraforerocamacho/Downloads/data/barcelona_weekdays.csv\", \"Barcelona\", \"Weekdays\"),\n",
    "                 (\"/Users/lauraforerocamacho/Downloads/data/berlin_weekdays.csv\", \"Berlin\", \"Weekdays\"),\n",
    "                 (\"/Users/lauraforerocamacho/Downloads/data/budapest_weekdays.csv\", \"Budapest\", \"Weekdays\"),\n",
    "                 (\"/Users/lauraforerocamacho/Downloads/data/lisbon_weekdays.csv\", \"Lisbon\", \"Weekdays\"),\n",
    "                 (\"/Users/lauraforerocamacho/Downloads/data/London_weekdays.csv\", \"London\", \"Weekdays\"),\n",
    "                 (\"/Users/lauraforerocamacho/Downloads/data/rome_weekdays.csv\", \"Rome\", \"Weekdays\"),\n",
    "                 (\"/Users/lauraforerocamacho/Downloads/data/paris_weekdays.csv\", \"Paris\", \"Weekdays\"),\n",
    "                 (\"/Users/lauraforerocamacho/Downloads/data/Vienna_weekdays.csv\", \"Vienna\", \"Weekdays\"),\n",
    "                 (\"/Users/lauraforerocamacho/Downloads/data/amsterdam_weekends.csv\", \"Amsterdam\", \"Weekends\"),\n",
    "                 (\"/Users/lauraforerocamacho/Downloads/data/athens_weekends.csv\", \"Athens\", \"Weekends\"),\n",
    "                 (\"/Users/lauraforerocamacho/Downloads/data/barcelona_weekends.csv\", \"Barcelona\", \"Weekends\"),\n",
    "                 (\"/Users/lauraforerocamacho/Downloads/data/berlin_weekends.csv\", \"Berlin\", \"Weekends\"),\n",
    "                 (\"/Users/lauraforerocamacho/Downloads/data/budapest_weekends.csv\", \"Budapest\", \"Weekends\"),\n",
    "                 (\"/Users/lauraforerocamacho/Downloads/data/lisbon_weekends.csv\", \"Lisbon\", \"Weekends\"),\n",
    "                 (\"/Users/lauraforerocamacho/Downloads/data/London_weekends.csv\", \"London\", \"Weekends\"),\n",
    "                 (\"/Users/lauraforerocamacho/Downloads/data/rome_weekends.csv\", \"Rome\", \"Weekends\"),\n",
    "                 (\"/Users/lauraforerocamacho/Downloads/data/paris_weekends.csv\", \"Paris\", \"Weekends\"),\n",
    "                 (\"/Users/lauraforerocamacho/Downloads/data/Vienna_weekends.csv\", \"Vienna\", \"Weekends\")]\n"
   ]
  },
  {
   "attachments": {},
   "cell_type": "markdown",
   "id": "d3624e6f",
   "metadata": {},
   "source": [
    "Merge data from all csv into one data frame "
   ]
  },
  {
   "cell_type": "code",
   "execution_count": 3,
   "id": "6d56ed1d",
   "metadata": {},
   "outputs": [],
   "source": [
    "def load_data(data_paths):\n",
    "    dfs = []\n",
    "    for file_path, city_name, day_type in data_paths:\n",
    "        df = pd.read_csv(file_path, usecols=lambda col: col != 'Unnamed: 0')\n",
    "        df = df.assign(city=city_name, type=day_type)\n",
    "        dfs.append(df)\n",
    "    data = pd.concat(dfs)\n",
    "    return data\n",
    "\n",
    "data=load_data(data_paths)"
   ]
  },
  {
   "attachments": {},
   "cell_type": "markdown",
   "id": "fce89f17",
   "metadata": {},
   "source": [
    "### Basic Inspection of the dataset"
   ]
  },
  {
   "attachments": {},
   "cell_type": "markdown",
   "id": "afdc169e",
   "metadata": {},
   "source": [
    "Get information about the dataset"
   ]
  },
  {
   "cell_type": "code",
   "execution_count": 4,
   "id": "73e76fd0",
   "metadata": {},
   "outputs": [],
   "source": [
    "numeric_colums= [\"realSum\", \"person_capacity\",\"cleanliness_rating\",\"guest_satisfaction_overall\",'bedrooms', 'dist','metro_dist', 'attr_index', 'attr_index_norm', 'rest_index', 'rest_index_norm', 'lng', 'lat']\n",
    "categorical_colums= [\"room_type\",\"room_shared\", \"room_private\", \"host_is_superhost\",\"multi\", \"biz\" , 'city', 'type']"
   ]
  },
  {
   "attachments": {},
   "cell_type": "markdown",
   "id": "5f997818",
   "metadata": {},
   "source": [
    "Convert all categorical columns to objects"
   ]
  },
  {
   "cell_type": "code",
   "execution_count": 5,
   "id": "a7861195",
   "metadata": {},
   "outputs": [],
   "source": [
    "def format_features(data_t, categorical_colums):\n",
    "    for i in categorical_colums:\n",
    "        data_t[i] = data_t[i].astype('object')\n",
    "        data_t[i].unique()\n",
    "    return data_t\n",
    "data=format_features(data,categorical_colums)"
   ]
  },
  {
   "attachments": {},
   "cell_type": "markdown",
   "id": "942d6afd",
   "metadata": {},
   "source": [
    "Create a lat and lng for each city"
   ]
  },
  {
   "cell_type": "code",
   "execution_count": 6,
   "id": "f3b4d7f1",
   "metadata": {},
   "outputs": [
    {
     "name": "stderr",
     "output_type": "stream",
     "text": [
      "/var/folders/zv/hzjbp8kd1l103x8tgl0s00z80000gn/T/ipykernel_5900/2364620546.py:7: SettingWithCopyWarning: \n",
      "A value is trying to be set on a copy of a slice from a DataFrame\n",
      "\n",
      "See the caveats in the documentation: https://pandas.pydata.org/pandas-docs/stable/user_guide/indexing.html#returning-a-view-versus-a-copy\n",
      "  data_clean['lat_'+data_clean['city'][ind]][ind]=data_clean['lat'][ind]\n",
      "/var/folders/zv/hzjbp8kd1l103x8tgl0s00z80000gn/T/ipykernel_5900/2364620546.py:8: SettingWithCopyWarning: \n",
      "A value is trying to be set on a copy of a slice from a DataFrame\n",
      "\n",
      "See the caveats in the documentation: https://pandas.pydata.org/pandas-docs/stable/user_guide/indexing.html#returning-a-view-versus-a-copy\n",
      "  data_clean['lng_'+data_clean['city'][ind]][ind]=data_clean['lng'][ind]\n",
      "/var/folders/zv/hzjbp8kd1l103x8tgl0s00z80000gn/T/ipykernel_5900/2364620546.py:7: SettingWithCopyWarning: \n",
      "A value is trying to be set on a copy of a slice from a DataFrame\n",
      "\n",
      "See the caveats in the documentation: https://pandas.pydata.org/pandas-docs/stable/user_guide/indexing.html#returning-a-view-versus-a-copy\n",
      "  data_clean['lat_'+data_clean['city'][ind]][ind]=data_clean['lat'][ind]\n",
      "/var/folders/zv/hzjbp8kd1l103x8tgl0s00z80000gn/T/ipykernel_5900/2364620546.py:8: SettingWithCopyWarning: \n",
      "A value is trying to be set on a copy of a slice from a DataFrame\n",
      "\n",
      "See the caveats in the documentation: https://pandas.pydata.org/pandas-docs/stable/user_guide/indexing.html#returning-a-view-versus-a-copy\n",
      "  data_clean['lng_'+data_clean['city'][ind]][ind]=data_clean['lng'][ind]\n",
      "/var/folders/zv/hzjbp8kd1l103x8tgl0s00z80000gn/T/ipykernel_5900/2364620546.py:7: SettingWithCopyWarning: \n",
      "A value is trying to be set on a copy of a slice from a DataFrame\n",
      "\n",
      "See the caveats in the documentation: https://pandas.pydata.org/pandas-docs/stable/user_guide/indexing.html#returning-a-view-versus-a-copy\n",
      "  data_clean['lat_'+data_clean['city'][ind]][ind]=data_clean['lat'][ind]\n",
      "/var/folders/zv/hzjbp8kd1l103x8tgl0s00z80000gn/T/ipykernel_5900/2364620546.py:8: SettingWithCopyWarning: \n",
      "A value is trying to be set on a copy of a slice from a DataFrame\n",
      "\n",
      "See the caveats in the documentation: https://pandas.pydata.org/pandas-docs/stable/user_guide/indexing.html#returning-a-view-versus-a-copy\n",
      "  data_clean['lng_'+data_clean['city'][ind]][ind]=data_clean['lng'][ind]\n",
      "/var/folders/zv/hzjbp8kd1l103x8tgl0s00z80000gn/T/ipykernel_5900/2364620546.py:7: SettingWithCopyWarning: \n",
      "A value is trying to be set on a copy of a slice from a DataFrame\n",
      "\n",
      "See the caveats in the documentation: https://pandas.pydata.org/pandas-docs/stable/user_guide/indexing.html#returning-a-view-versus-a-copy\n",
      "  data_clean['lat_'+data_clean['city'][ind]][ind]=data_clean['lat'][ind]\n",
      "/var/folders/zv/hzjbp8kd1l103x8tgl0s00z80000gn/T/ipykernel_5900/2364620546.py:8: SettingWithCopyWarning: \n",
      "A value is trying to be set on a copy of a slice from a DataFrame\n",
      "\n",
      "See the caveats in the documentation: https://pandas.pydata.org/pandas-docs/stable/user_guide/indexing.html#returning-a-view-versus-a-copy\n",
      "  data_clean['lng_'+data_clean['city'][ind]][ind]=data_clean['lng'][ind]\n",
      "/var/folders/zv/hzjbp8kd1l103x8tgl0s00z80000gn/T/ipykernel_5900/2364620546.py:7: SettingWithCopyWarning: \n",
      "A value is trying to be set on a copy of a slice from a DataFrame\n",
      "\n",
      "See the caveats in the documentation: https://pandas.pydata.org/pandas-docs/stable/user_guide/indexing.html#returning-a-view-versus-a-copy\n",
      "  data_clean['lat_'+data_clean['city'][ind]][ind]=data_clean['lat'][ind]\n",
      "/var/folders/zv/hzjbp8kd1l103x8tgl0s00z80000gn/T/ipykernel_5900/2364620546.py:8: SettingWithCopyWarning: \n",
      "A value is trying to be set on a copy of a slice from a DataFrame\n",
      "\n",
      "See the caveats in the documentation: https://pandas.pydata.org/pandas-docs/stable/user_guide/indexing.html#returning-a-view-versus-a-copy\n",
      "  data_clean['lng_'+data_clean['city'][ind]][ind]=data_clean['lng'][ind]\n",
      "/var/folders/zv/hzjbp8kd1l103x8tgl0s00z80000gn/T/ipykernel_5900/2364620546.py:7: SettingWithCopyWarning: \n",
      "A value is trying to be set on a copy of a slice from a DataFrame\n",
      "\n",
      "See the caveats in the documentation: https://pandas.pydata.org/pandas-docs/stable/user_guide/indexing.html#returning-a-view-versus-a-copy\n",
      "  data_clean['lat_'+data_clean['city'][ind]][ind]=data_clean['lat'][ind]\n",
      "/var/folders/zv/hzjbp8kd1l103x8tgl0s00z80000gn/T/ipykernel_5900/2364620546.py:8: SettingWithCopyWarning: \n",
      "A value is trying to be set on a copy of a slice from a DataFrame\n",
      "\n",
      "See the caveats in the documentation: https://pandas.pydata.org/pandas-docs/stable/user_guide/indexing.html#returning-a-view-versus-a-copy\n",
      "  data_clean['lng_'+data_clean['city'][ind]][ind]=data_clean['lng'][ind]\n",
      "/var/folders/zv/hzjbp8kd1l103x8tgl0s00z80000gn/T/ipykernel_5900/2364620546.py:7: SettingWithCopyWarning: \n",
      "A value is trying to be set on a copy of a slice from a DataFrame\n",
      "\n",
      "See the caveats in the documentation: https://pandas.pydata.org/pandas-docs/stable/user_guide/indexing.html#returning-a-view-versus-a-copy\n",
      "  data_clean['lat_'+data_clean['city'][ind]][ind]=data_clean['lat'][ind]\n",
      "/var/folders/zv/hzjbp8kd1l103x8tgl0s00z80000gn/T/ipykernel_5900/2364620546.py:8: SettingWithCopyWarning: \n",
      "A value is trying to be set on a copy of a slice from a DataFrame\n",
      "\n",
      "See the caveats in the documentation: https://pandas.pydata.org/pandas-docs/stable/user_guide/indexing.html#returning-a-view-versus-a-copy\n",
      "  data_clean['lng_'+data_clean['city'][ind]][ind]=data_clean['lng'][ind]\n",
      "/var/folders/zv/hzjbp8kd1l103x8tgl0s00z80000gn/T/ipykernel_5900/2364620546.py:7: SettingWithCopyWarning: \n",
      "A value is trying to be set on a copy of a slice from a DataFrame\n",
      "\n",
      "See the caveats in the documentation: https://pandas.pydata.org/pandas-docs/stable/user_guide/indexing.html#returning-a-view-versus-a-copy\n",
      "  data_clean['lat_'+data_clean['city'][ind]][ind]=data_clean['lat'][ind]\n",
      "/var/folders/zv/hzjbp8kd1l103x8tgl0s00z80000gn/T/ipykernel_5900/2364620546.py:8: SettingWithCopyWarning: \n",
      "A value is trying to be set on a copy of a slice from a DataFrame\n",
      "\n",
      "See the caveats in the documentation: https://pandas.pydata.org/pandas-docs/stable/user_guide/indexing.html#returning-a-view-versus-a-copy\n",
      "  data_clean['lng_'+data_clean['city'][ind]][ind]=data_clean['lng'][ind]\n",
      "/var/folders/zv/hzjbp8kd1l103x8tgl0s00z80000gn/T/ipykernel_5900/2364620546.py:7: SettingWithCopyWarning: \n",
      "A value is trying to be set on a copy of a slice from a DataFrame\n",
      "\n",
      "See the caveats in the documentation: https://pandas.pydata.org/pandas-docs/stable/user_guide/indexing.html#returning-a-view-versus-a-copy\n",
      "  data_clean['lat_'+data_clean['city'][ind]][ind]=data_clean['lat'][ind]\n",
      "/var/folders/zv/hzjbp8kd1l103x8tgl0s00z80000gn/T/ipykernel_5900/2364620546.py:8: SettingWithCopyWarning: \n",
      "A value is trying to be set on a copy of a slice from a DataFrame\n",
      "\n",
      "See the caveats in the documentation: https://pandas.pydata.org/pandas-docs/stable/user_guide/indexing.html#returning-a-view-versus-a-copy\n",
      "  data_clean['lng_'+data_clean['city'][ind]][ind]=data_clean['lng'][ind]\n",
      "/var/folders/zv/hzjbp8kd1l103x8tgl0s00z80000gn/T/ipykernel_5900/2364620546.py:7: SettingWithCopyWarning: \n",
      "A value is trying to be set on a copy of a slice from a DataFrame\n",
      "\n",
      "See the caveats in the documentation: https://pandas.pydata.org/pandas-docs/stable/user_guide/indexing.html#returning-a-view-versus-a-copy\n",
      "  data_clean['lat_'+data_clean['city'][ind]][ind]=data_clean['lat'][ind]\n",
      "/var/folders/zv/hzjbp8kd1l103x8tgl0s00z80000gn/T/ipykernel_5900/2364620546.py:8: SettingWithCopyWarning: \n",
      "A value is trying to be set on a copy of a slice from a DataFrame\n",
      "\n",
      "See the caveats in the documentation: https://pandas.pydata.org/pandas-docs/stable/user_guide/indexing.html#returning-a-view-versus-a-copy\n",
      "  data_clean['lng_'+data_clean['city'][ind]][ind]=data_clean['lng'][ind]\n"
     ]
    }
   ],
   "source": [
    "def add_lat_lng_percity(data_clean):\n",
    "    for i in  ['Amsterdam','Athens','Barcelona', 'Berlin', 'Budapest', 'Lisbon', 'London', 'Paris', 'Rome','Vienna']:\n",
    "        data_clean[\"lat_\"+i]=0\n",
    "        data_clean[\"lng_\"+i]=0\n",
    "    data_clean = data_clean.reset_index()\n",
    "    for ind in data_clean.index:\n",
    "        data_clean['lat_'+data_clean['city'][ind]][ind]=data_clean['lat'][ind]\n",
    "        data_clean['lng_'+data_clean['city'][ind]][ind]=data_clean['lng'][ind]\n",
    "    data_clean.drop(columns=['lng','lat'],inplace=True)\n",
    "    return data_clean\n",
    "data=add_lat_lng_percity(data)"
   ]
  },
  {
   "attachments": {},
   "cell_type": "markdown",
   "id": "d38d30c7",
   "metadata": {},
   "source": [
    "### Outlier analysis"
   ]
  },
  {
   "attachments": {},
   "cell_type": "markdown",
   "id": "437f065c",
   "metadata": {},
   "source": [
    "For the outlier detection we will apply z-score method. First, separate the data for each city"
   ]
  },
  {
   "cell_type": "code",
   "execution_count": 7,
   "id": "54ed1dcb",
   "metadata": {},
   "outputs": [
    {
     "name": "stdout",
     "output_type": "stream",
     "text": [
      "<bound method DataFrame.count of        index     realSum        room_type room_shared room_private   \n",
      "0          0  194.033698     Private room       False         True  \\\n",
      "1          1  344.245776     Private room       False         True   \n",
      "2          2  264.101422     Private room       False         True   \n",
      "3          3  433.529398     Private room       False         True   \n",
      "4          4  485.552926     Private room       False         True   \n",
      "...      ...         ...              ...         ...          ...   \n",
      "51702   1794  715.938574  Entire home/apt       False        False   \n",
      "51703   1795  304.793960  Entire home/apt       False        False   \n",
      "51704   1796  637.168969  Entire home/apt       False        False   \n",
      "51705   1797  301.054157     Private room       False         True   \n",
      "51706   1798  133.230489     Private room       False         True   \n",
      "\n",
      "       person_capacity host_is_superhost multi biz  cleanliness_rating  ...   \n",
      "0                  2.0             False     1   0                10.0  ...  \\\n",
      "1                  4.0             False     0   0                 8.0  ...   \n",
      "2                  2.0             False     0   1                 9.0  ...   \n",
      "3                  4.0             False     0   1                 9.0  ...   \n",
      "4                  2.0              True     0   0                10.0  ...   \n",
      "...                ...               ...   ...  ..                 ...  ...   \n",
      "51702              6.0             False     0   1                10.0  ...   \n",
      "51703              2.0             False     0   0                 8.0  ...   \n",
      "51704              2.0             False     0   0                10.0  ...   \n",
      "51705              2.0             False     0   0                10.0  ...   \n",
      "51706              4.0              True     1   0                10.0  ...   \n",
      "\n",
      "       lat_Lisbon  lng_Lisbon  lat_London  lng_London  lat_Paris  lng_Paris   \n",
      "0             0.0         0.0         0.0         0.0        0.0        0.0  \\\n",
      "1             0.0         0.0         0.0         0.0        0.0        0.0   \n",
      "2             0.0         0.0         0.0         0.0        0.0        0.0   \n",
      "3             0.0         0.0         0.0         0.0        0.0        0.0   \n",
      "4             0.0         0.0         0.0         0.0        0.0        0.0   \n",
      "...           ...         ...         ...         ...        ...        ...   \n",
      "51702         0.0         0.0         0.0         0.0        0.0        0.0   \n",
      "51703         0.0         0.0         0.0         0.0        0.0        0.0   \n",
      "51704         0.0         0.0         0.0         0.0        0.0        0.0   \n",
      "51705         0.0         0.0         0.0         0.0        0.0        0.0   \n",
      "51706         0.0         0.0         0.0         0.0        0.0        0.0   \n",
      "\n",
      "       lat_Rome  lng_Rome lat_Vienna lng_Vienna  \n",
      "0           0.0       0.0    0.00000    0.00000  \n",
      "1           0.0       0.0    0.00000    0.00000  \n",
      "2           0.0       0.0    0.00000    0.00000  \n",
      "3           0.0       0.0    0.00000    0.00000  \n",
      "4           0.0       0.0    0.00000    0.00000  \n",
      "...         ...       ...        ...        ...  \n",
      "51702       0.0       0.0   48.21136   16.37940  \n",
      "51703       0.0       0.0   48.20296   16.38070  \n",
      "51704       0.0       0.0   48.20460   16.38568  \n",
      "51705       0.0       0.0   48.19200   16.34100  \n",
      "51706       0.0       0.0   48.20811   16.39066  \n",
      "\n",
      "[51707 rows x 40 columns]>\n"
     ]
    }
   ],
   "source": [
    "cdf = data\n",
    "print(cdf.count)\n",
    "cities = cdf['city'].unique()"
   ]
  },
  {
   "attachments": {},
   "cell_type": "markdown",
   "id": "523e4c66",
   "metadata": {},
   "source": [
    "Function for outlier detection"
   ]
  },
  {
   "cell_type": "code",
   "execution_count": 8,
   "id": "f9499cb3",
   "metadata": {},
   "outputs": [],
   "source": [
    "def detect_outliers_zscore(data, threshold=3):\n",
    "    z_scores = (data - data.mean()) / data.std()  # Calculate the z-scores\n",
    "    outliers = data[abs(z_scores) > threshold]  # Identify outliers using the specified threshold\n",
    "    return outliers"
   ]
  },
  {
   "attachments": {},
   "cell_type": "markdown",
   "id": "08cfe9e0",
   "metadata": {},
   "source": [
    "Perform outlier detection and print outliers for each city"
   ]
  },
  {
   "cell_type": "code",
   "execution_count": 9,
   "id": "de0ddbba",
   "metadata": {},
   "outputs": [
    {
     "name": "stdout",
     "output_type": "stream",
     "text": [
      "Detected outliers in Amsterdam:\n",
      "7        2771.307384\n",
      "99       3004.944579\n",
      "133      3637.663159\n",
      "158      2556.183067\n",
      "214      1997.281654\n",
      "253      2500.878776\n",
      "271      2458.228857\n",
      "388      2061.959553\n",
      "538      1892.531577\n",
      "574      2058.210109\n",
      "970      7782.907225\n",
      "1056     1941.508682\n",
      "1098     2486.115342\n",
      "25504    2771.541724\n",
      "25594    3005.413259\n",
      "25629    3638.131840\n",
      "25656    2556.886087\n",
      "25691    1997.515994\n",
      "25730    2501.113116\n",
      "25741    2458.463197\n",
      "25839    2062.662574\n",
      "25905    2175.614557\n",
      "25967    1892.765918\n",
      "25993    2058.913130\n",
      "26320    2199.985940\n",
      "26359    8130.668104\n",
      "26433    1941.977363\n",
      "26471    2486.584023\n",
      "Name: realSum, dtype: float64\n",
      "Detected outliers in Athens:\n",
      "2613     18545.450280\n",
      "3743      1043.282638\n",
      "28088     1043.282638\n",
      "Name: realSum, dtype: float64\n",
      "Detected outliers in Barcelona:\n",
      "3942     1619.847790\n",
      "4820     6943.700980\n",
      "4821     6943.700980\n",
      "5072     1620.080527\n",
      "5104     4467.149208\n",
      "5309     1770.661205\n",
      "29261    1619.847790\n",
      "29598    6086.298787\n",
      "29605    2950.636535\n",
      "29869    1770.661205\n",
      "30002    6942.770033\n",
      "30003    6942.770033\n",
      "30194    1620.080527\n",
      "30223    4467.149208\n",
      "Name: realSum, dtype: float64\n",
      "Detected outliers in Berlin:\n",
      "5600     1449.471815\n",
      "5705     1159.437225\n",
      "5880     1507.431990\n",
      "6158     1380.059830\n",
      "6248     2319.341872\n",
      "6297     2317.004768\n",
      "6390     1507.431990\n",
      "6396     5857.483407\n",
      "30466     950.733851\n",
      "30645    1449.471815\n",
      "30756    1159.437225\n",
      "30921    1507.431990\n",
      "30992    1029.494251\n",
      "31185    1449.004394\n",
      "31272    2318.874451\n",
      "31312    2316.303637\n",
      "31397    1507.198280\n",
      "31404    5856.081144\n",
      "Name: realSum, dtype: float64\n",
      "Detected outliers in Budapest:\n",
      "6762      757.155614\n",
      "6782      654.227570\n",
      "6794      692.531842\n",
      "6900      597.123655\n",
      "6998      843.163980\n",
      "7009      597.358650\n",
      "7011      596.653664\n",
      "7116      620.623208\n",
      "7301      761.855525\n",
      "7438     1650.373643\n",
      "7449      793.344926\n",
      "7844     2330.215726\n",
      "7850      712.741458\n",
      "8298      583.023923\n",
      "8482      705.926587\n",
      "8528      929.407341\n",
      "8533     3630.681017\n",
      "8591      730.131128\n",
      "8654     1078.864502\n",
      "31624     760.210556\n",
      "31699     638.482869\n",
      "32070    1614.419326\n",
      "32378     711.331485\n",
      "32706     730.131128\n",
      "32888    3751.233727\n",
      "32953     817.079475\n",
      "32955     917.892560\n",
      "33022     591.013771\n",
      "33077     695.351788\n",
      "33143     576.209052\n",
      "33275     868.308502\n",
      "33304     596.888659\n",
      "33315     695.351788\n",
      "33318     695.351788\n",
      "33324     695.351788\n",
      "33362     711.566480\n",
      "33455    2328.335762\n",
      "33473     790.994971\n",
      "33476     652.347605\n",
      "33478     596.888659\n",
      "33480     601.823565\n",
      "33484     761.385534\n",
      "Name: realSum, dtype: float64\n",
      "Detected outliers in Lisbon:\n",
      "8711      647.279550\n",
      "8745      860.928705\n",
      "9123      605.300188\n",
      "9187     1193.245779\n",
      "9229      577.157598\n",
      "            ...     \n",
      "36084     756.801126\n",
      "36137     665.806754\n",
      "36190     578.799250\n",
      "36226     876.407129\n",
      "36255     691.135084\n",
      "Name: realSum, Length: 75, dtype: float64\n",
      "Detected outliers in London:\n",
      "11551    2173.851690\n",
      "11581    2180.436981\n",
      "11634    2979.609116\n",
      "11680    3413.767963\n",
      "12043    2200.192855\n",
      "            ...     \n",
      "41404    1940.779416\n",
      "41413    3001.716880\n",
      "41441    7115.642419\n",
      "41444    2587.549096\n",
      "41785    2328.841224\n",
      "Name: realSum, Length: 85, dtype: float64\n",
      "Detected outliers in Rome:\n",
      "16375     576.531924\n",
      "16495    2286.956725\n",
      "16514     594.533935\n",
      "16745    1268.089683\n",
      "16817     887.709536\n",
      "            ...     \n",
      "46329     667.944731\n",
      "46331     681.738480\n",
      "46343     601.080121\n",
      "46346     582.376733\n",
      "46347     878.591635\n",
      "Name: realSum, Length: 93, dtype: float64\n",
      "Detected outliers in Paris:\n",
      "20863     3081.834281\n",
      "20931     1660.452978\n",
      "21027     1778.124709\n",
      "21046     1894.398360\n",
      "21052     1778.124709\n",
      "21106     3261.720570\n",
      "21292     2024.419797\n",
      "21346     1738.512443\n",
      "21461     1402.740237\n",
      "21514     1506.897195\n",
      "21518     1412.992823\n",
      "21570     1583.558580\n",
      "21571     1634.355485\n",
      "21659     1924.224066\n",
      "21673     4068.645727\n",
      "21787     1518.314848\n",
      "21806     1535.790847\n",
      "21819     1535.790847\n",
      "22866     1600.801566\n",
      "22931     1517.149781\n",
      "22980    16445.614689\n",
      "23081     2213.859633\n",
      "23095     1692.142791\n",
      "23102     1787.445242\n",
      "23146     2005.312704\n",
      "23160     1460.527542\n",
      "23272     1848.960761\n",
      "23292     1443.051543\n",
      "23398     2967.424737\n",
      "23404     1452.372076\n",
      "23445     1611.054152\n",
      "23529     3037.095722\n",
      "23718     4184.686364\n",
      "46606     3081.834281\n",
      "46616     2086.401342\n",
      "46679     1952.418678\n",
      "46773     1778.124709\n",
      "46794     1778.124709\n",
      "46848     3260.322490\n",
      "47071     2070.789449\n",
      "47124     1738.512443\n",
      "47316     1506.897195\n",
      "47325     1412.992823\n",
      "47392     1686.550471\n",
      "47394     1634.355485\n",
      "47488     1924.224066\n",
      "47510     4068.645727\n",
      "47649     3338.381955\n",
      "47652     1518.314848\n",
      "48525     1704.026470\n",
      "48919     1600.801566\n",
      "48985     1517.149781\n",
      "49176     1786.513189\n",
      "49228     2007.176811\n",
      "49245     1461.692609\n",
      "49382     1850.358841\n",
      "49546     2970.220897\n",
      "49554     1453.537142\n",
      "49597     1612.685246\n",
      "49857     4188.414577\n",
      "Name: realSum, dtype: float64\n",
      "Detected outliers in Vienna:\n",
      "23807    12942.991375\n",
      "23972    13664.305916\n",
      "50787    13656.358834\n",
      "Name: realSum, dtype: float64\n"
     ]
    }
   ],
   "source": [
    "for city in cities:\n",
    "    city_data = cdf[cdf['city'] == city]['realSum']  \n",
    "\n",
    "    outliers = detect_outliers_zscore(city_data)\n",
    "    \n",
    "    if len(outliers) > 0:\n",
    "        print(f\"Detected outliers in {city}:\")\n",
    "        print(outliers)\n",
    "    else:\n",
    "        print(f\"No outliers detected in {city}.\")\n",
    "\n"
   ]
  },
  {
   "attachments": {},
   "cell_type": "markdown",
   "id": "a1e08483",
   "metadata": {},
   "source": [
    "Perform the deletion of the found outliers"
   ]
  },
  {
   "cell_type": "code",
   "execution_count": 10,
   "id": "16ea7e86",
   "metadata": {},
   "outputs": [
    {
     "name": "stdout",
     "output_type": "stream",
     "text": [
      "Detected outliers in Amsterdam:\n",
      "7        2771.307384\n",
      "99       3004.944579\n",
      "133      3637.663159\n",
      "158      2556.183067\n",
      "214      1997.281654\n",
      "253      2500.878776\n",
      "271      2458.228857\n",
      "388      2061.959553\n",
      "538      1892.531577\n",
      "574      2058.210109\n",
      "970      7782.907225\n",
      "1056     1941.508682\n",
      "1098     2486.115342\n",
      "25504    2771.541724\n",
      "25594    3005.413259\n",
      "25629    3638.131840\n",
      "25656    2556.886087\n",
      "25691    1997.515994\n",
      "25730    2501.113116\n",
      "25741    2458.463197\n",
      "25839    2062.662574\n",
      "25905    2175.614557\n",
      "25967    1892.765918\n",
      "25993    2058.913130\n",
      "26320    2199.985940\n",
      "26359    8130.668104\n",
      "26433    1941.977363\n",
      "26471    2486.584023\n",
      "Name: realSum, dtype: float64\n",
      "Detected outliers in Athens:\n",
      "2613     18545.450280\n",
      "3743      1043.282638\n",
      "28088     1043.282638\n",
      "Name: realSum, dtype: float64\n",
      "Detected outliers in Barcelona:\n",
      "3942     1619.847790\n",
      "4820     6943.700980\n",
      "4821     6943.700980\n",
      "5072     1620.080527\n",
      "5104     4467.149208\n",
      "5309     1770.661205\n",
      "29261    1619.847790\n",
      "29598    6086.298787\n",
      "29605    2950.636535\n",
      "29869    1770.661205\n",
      "30002    6942.770033\n",
      "30003    6942.770033\n",
      "30194    1620.080527\n",
      "30223    4467.149208\n",
      "Name: realSum, dtype: float64\n",
      "Detected outliers in Berlin:\n",
      "5600     1449.471815\n",
      "5705     1159.437225\n",
      "5880     1507.431990\n",
      "6158     1380.059830\n",
      "6248     2319.341872\n",
      "6297     2317.004768\n",
      "6390     1507.431990\n",
      "6396     5857.483407\n",
      "30466     950.733851\n",
      "30645    1449.471815\n",
      "30756    1159.437225\n",
      "30921    1507.431990\n",
      "30992    1029.494251\n",
      "31185    1449.004394\n",
      "31272    2318.874451\n",
      "31312    2316.303637\n",
      "31397    1507.198280\n",
      "31404    5856.081144\n",
      "Name: realSum, dtype: float64\n",
      "Detected outliers in Budapest:\n",
      "6762      757.155614\n",
      "6782      654.227570\n",
      "6794      692.531842\n",
      "6900      597.123655\n",
      "6998      843.163980\n",
      "7009      597.358650\n",
      "7011      596.653664\n",
      "7116      620.623208\n",
      "7301      761.855525\n",
      "7438     1650.373643\n",
      "7449      793.344926\n",
      "7844     2330.215726\n",
      "7850      712.741458\n",
      "8298      583.023923\n",
      "8482      705.926587\n",
      "8528      929.407341\n",
      "8533     3630.681017\n",
      "8591      730.131128\n",
      "8654     1078.864502\n",
      "31624     760.210556\n",
      "31699     638.482869\n",
      "32070    1614.419326\n",
      "32378     711.331485\n",
      "32706     730.131128\n",
      "32888    3751.233727\n",
      "32953     817.079475\n",
      "32955     917.892560\n",
      "33022     591.013771\n",
      "33077     695.351788\n",
      "33143     576.209052\n",
      "33275     868.308502\n",
      "33304     596.888659\n",
      "33315     695.351788\n",
      "33318     695.351788\n",
      "33324     695.351788\n",
      "33362     711.566480\n",
      "33455    2328.335762\n",
      "33473     790.994971\n",
      "33476     652.347605\n",
      "33478     596.888659\n",
      "33480     601.823565\n",
      "33484     761.385534\n",
      "Name: realSum, dtype: float64\n",
      "Detected outliers in Lisbon:\n",
      "8711      647.279550\n",
      "8745      860.928705\n",
      "9123      605.300188\n",
      "9187     1193.245779\n",
      "9229      577.157598\n",
      "            ...     \n",
      "36084     756.801126\n",
      "36137     665.806754\n",
      "36190     578.799250\n",
      "36226     876.407129\n",
      "36255     691.135084\n",
      "Name: realSum, Length: 75, dtype: float64\n",
      "Detected outliers in London:\n",
      "11551    2173.851690\n",
      "11581    2180.436981\n",
      "11634    2979.609116\n",
      "11680    3413.767963\n",
      "12043    2200.192855\n",
      "            ...     \n",
      "41404    1940.779416\n",
      "41413    3001.716880\n",
      "41441    7115.642419\n",
      "41444    2587.549096\n",
      "41785    2328.841224\n",
      "Name: realSum, Length: 85, dtype: float64\n",
      "Detected outliers in Rome:\n",
      "16375     576.531924\n",
      "16495    2286.956725\n",
      "16514     594.533935\n",
      "16745    1268.089683\n",
      "16817     887.709536\n",
      "            ...     \n",
      "46329     667.944731\n",
      "46331     681.738480\n",
      "46343     601.080121\n",
      "46346     582.376733\n",
      "46347     878.591635\n",
      "Name: realSum, Length: 93, dtype: float64\n",
      "Detected outliers in Paris:\n",
      "20863     3081.834281\n",
      "20931     1660.452978\n",
      "21027     1778.124709\n",
      "21046     1894.398360\n",
      "21052     1778.124709\n",
      "21106     3261.720570\n",
      "21292     2024.419797\n",
      "21346     1738.512443\n",
      "21461     1402.740237\n",
      "21514     1506.897195\n",
      "21518     1412.992823\n",
      "21570     1583.558580\n",
      "21571     1634.355485\n",
      "21659     1924.224066\n",
      "21673     4068.645727\n",
      "21787     1518.314848\n",
      "21806     1535.790847\n",
      "21819     1535.790847\n",
      "22866     1600.801566\n",
      "22931     1517.149781\n",
      "22980    16445.614689\n",
      "23081     2213.859633\n",
      "23095     1692.142791\n",
      "23102     1787.445242\n",
      "23146     2005.312704\n",
      "23160     1460.527542\n",
      "23272     1848.960761\n",
      "23292     1443.051543\n",
      "23398     2967.424737\n",
      "23404     1452.372076\n",
      "23445     1611.054152\n",
      "23529     3037.095722\n",
      "23718     4184.686364\n",
      "46606     3081.834281\n",
      "46616     2086.401342\n",
      "46679     1952.418678\n",
      "46773     1778.124709\n",
      "46794     1778.124709\n",
      "46848     3260.322490\n",
      "47071     2070.789449\n",
      "47124     1738.512443\n",
      "47316     1506.897195\n",
      "47325     1412.992823\n",
      "47392     1686.550471\n",
      "47394     1634.355485\n",
      "47488     1924.224066\n",
      "47510     4068.645727\n",
      "47649     3338.381955\n",
      "47652     1518.314848\n",
      "48525     1704.026470\n",
      "48919     1600.801566\n",
      "48985     1517.149781\n",
      "49176     1786.513189\n",
      "49228     2007.176811\n",
      "49245     1461.692609\n",
      "49382     1850.358841\n",
      "49546     2970.220897\n",
      "49554     1453.537142\n",
      "49597     1612.685246\n",
      "49857     4188.414577\n",
      "Name: realSum, dtype: float64\n",
      "Detected outliers in Vienna:\n",
      "23807    12942.991375\n",
      "23972    13664.305916\n",
      "50787    13656.358834\n",
      "Name: realSum, dtype: float64\n",
      "Number of deleted outliers:  421\n"
     ]
    }
   ],
   "source": [
    "def remove_outliers(data, threshold=3):\n",
    "    cities = data['city'].unique()\n",
    "    for city in cities:\n",
    "        city_data = data[data['city'] == city]['realSum']\n",
    "        outliers = detect_outliers_zscore(city_data, threshold)\n",
    "        if len(outliers) > 0:\n",
    "            print(f\"Detected outliers in {city}:\")\n",
    "            print(outliers)\n",
    "            # Remove the outliers from the original dataset\n",
    "            data = data.drop(outliers.index)\n",
    "        else:\n",
    "            print(f\"No outliers detected in {city}.\")\n",
    "    return data\n",
    "\n",
    "# Apply the remove_outliers function to the cdf dataset\n",
    "cdf_clean = remove_outliers(cdf)\n",
    "print('Number of deleted outliers: ', len(cdf)-len(cdf_clean))\n",
    "    "
   ]
  },
  {
   "attachments": {},
   "cell_type": "markdown",
   "id": "1f89a7b4",
   "metadata": {},
   "source": [
    "### Formating columns\n"
   ]
  },
  {
   "cell_type": "code",
   "execution_count": 11,
   "id": "4e1d7f76",
   "metadata": {},
   "outputs": [],
   "source": [
    "numerical_colums=[ 'person_capacity', 'cleanliness_rating', 'guest_satisfaction_overall',\n",
    " 'bedrooms', 'dist', 'attr_index', 'rest_index','lat_Athens', 'lng_Athens','lat_Barcelona', 'lng_Barcelona', 'lat_Berlin', 'lng_Berlin',\n",
    " 'lat_Budapest', 'lng_Budapest', 'lat_Lisbon', 'lng_Lisbon','lat_London', 'lng_London', 'lat_Paris', 'lng_Paris', 'lat_Rome','lng_Rome',\n",
    "   'lat_Vienna', 'lng_Vienna', 'lat_Amsterdam','lng_Amsterdam']"
   ]
  },
  {
   "attachments": {},
   "cell_type": "markdown",
   "id": "e9607738",
   "metadata": {},
   "source": [
    "Standarize data"
   ]
  },
  {
   "cell_type": "code",
   "execution_count": 12,
   "id": "c51ae9be",
   "metadata": {},
   "outputs": [],
   "source": [
    "for i in [\"room_shared\",\t\"room_private\",\t\"host_is_superhost\"]:\n",
    "    cdf_clean[i].replace([False, True],[0,1],inplace=True)"
   ]
  },
  {
   "attachments": {},
   "cell_type": "markdown",
   "metadata": {},
   "source": [
    "One Hot encoding"
   ]
  },
  {
   "cell_type": "code",
   "execution_count": 13,
   "id": "503faa27",
   "metadata": {},
   "outputs": [],
   "source": [
    "for column in [ \"city\", \"type\"]:\n",
    "    X_one_hot = pd.get_dummies(cdf_clean[column] , dtype=int, drop_first=False)\n",
    "    cdf_clean = pd.concat([cdf_clean, X_one_hot], axis='columns')\n",
    "\n",
    "# drop the values\n",
    "cdf_clean= cdf_clean.drop([\"room_type\", \"city\", \"type\"], axis='columns')"
   ]
  },
  {
   "attachments": {},
   "cell_type": "markdown",
   "id": "b7f2bd06",
   "metadata": {},
   "source": [
    "Statistical Outlier Detection by columns "
   ]
  },
  {
   "cell_type": "code",
   "execution_count": 14,
   "id": "14415d7f",
   "metadata": {},
   "outputs": [
    {
     "name": "stderr",
     "output_type": "stream",
     "text": [
      "/Users/lauraforerocamacho/Library/Python/3.8/lib/python/site-packages/sklearn/base.py:409: UserWarning: X does not have valid feature names, but IsolationForest was fitted with feature names\n",
      "  warnings.warn(\n"
     ]
    },
    {
     "data": {
      "text/html": [
       "<style>#sk-container-id-1 {color: black;background-color: white;}#sk-container-id-1 pre{padding: 0;}#sk-container-id-1 div.sk-toggleable {background-color: white;}#sk-container-id-1 label.sk-toggleable__label {cursor: pointer;display: block;width: 100%;margin-bottom: 0;padding: 0.3em;box-sizing: border-box;text-align: center;}#sk-container-id-1 label.sk-toggleable__label-arrow:before {content: \"▸\";float: left;margin-right: 0.25em;color: #696969;}#sk-container-id-1 label.sk-toggleable__label-arrow:hover:before {color: black;}#sk-container-id-1 div.sk-estimator:hover label.sk-toggleable__label-arrow:before {color: black;}#sk-container-id-1 div.sk-toggleable__content {max-height: 0;max-width: 0;overflow: hidden;text-align: left;background-color: #f0f8ff;}#sk-container-id-1 div.sk-toggleable__content pre {margin: 0.2em;color: black;border-radius: 0.25em;background-color: #f0f8ff;}#sk-container-id-1 input.sk-toggleable__control:checked~div.sk-toggleable__content {max-height: 200px;max-width: 100%;overflow: auto;}#sk-container-id-1 input.sk-toggleable__control:checked~label.sk-toggleable__label-arrow:before {content: \"▾\";}#sk-container-id-1 div.sk-estimator input.sk-toggleable__control:checked~label.sk-toggleable__label {background-color: #d4ebff;}#sk-container-id-1 div.sk-label input.sk-toggleable__control:checked~label.sk-toggleable__label {background-color: #d4ebff;}#sk-container-id-1 input.sk-hidden--visually {border: 0;clip: rect(1px 1px 1px 1px);clip: rect(1px, 1px, 1px, 1px);height: 1px;margin: -1px;overflow: hidden;padding: 0;position: absolute;width: 1px;}#sk-container-id-1 div.sk-estimator {font-family: monospace;background-color: #f0f8ff;border: 1px dotted black;border-radius: 0.25em;box-sizing: border-box;margin-bottom: 0.5em;}#sk-container-id-1 div.sk-estimator:hover {background-color: #d4ebff;}#sk-container-id-1 div.sk-parallel-item::after {content: \"\";width: 100%;border-bottom: 1px solid gray;flex-grow: 1;}#sk-container-id-1 div.sk-label:hover label.sk-toggleable__label {background-color: #d4ebff;}#sk-container-id-1 div.sk-serial::before {content: \"\";position: absolute;border-left: 1px solid gray;box-sizing: border-box;top: 0;bottom: 0;left: 50%;z-index: 0;}#sk-container-id-1 div.sk-serial {display: flex;flex-direction: column;align-items: center;background-color: white;padding-right: 0.2em;padding-left: 0.2em;position: relative;}#sk-container-id-1 div.sk-item {position: relative;z-index: 1;}#sk-container-id-1 div.sk-parallel {display: flex;align-items: stretch;justify-content: center;background-color: white;position: relative;}#sk-container-id-1 div.sk-item::before, #sk-container-id-1 div.sk-parallel-item::before {content: \"\";position: absolute;border-left: 1px solid gray;box-sizing: border-box;top: 0;bottom: 0;left: 50%;z-index: -1;}#sk-container-id-1 div.sk-parallel-item {display: flex;flex-direction: column;z-index: 1;position: relative;background-color: white;}#sk-container-id-1 div.sk-parallel-item:first-child::after {align-self: flex-end;width: 50%;}#sk-container-id-1 div.sk-parallel-item:last-child::after {align-self: flex-start;width: 50%;}#sk-container-id-1 div.sk-parallel-item:only-child::after {width: 0;}#sk-container-id-1 div.sk-dashed-wrapped {border: 1px dashed gray;margin: 0 0.4em 0.5em 0.4em;box-sizing: border-box;padding-bottom: 0.4em;background-color: white;}#sk-container-id-1 div.sk-label label {font-family: monospace;font-weight: bold;display: inline-block;line-height: 1.2em;}#sk-container-id-1 div.sk-label-container {text-align: center;}#sk-container-id-1 div.sk-container {/* jupyter's `normalize.less` sets `[hidden] { display: none; }` but bootstrap.min.css set `[hidden] { display: none !important; }` so we also need the `!important` here to be able to override the default hidden behavior on the sphinx rendered scikit-learn.org. See: https://github.com/scikit-learn/scikit-learn/issues/21755 */display: inline-block !important;position: relative;}#sk-container-id-1 div.sk-text-repr-fallback {display: none;}</style><div id=\"sk-container-id-1\" class=\"sk-top-container\"><div class=\"sk-text-repr-fallback\"><pre>IsolationForest(contamination=0.1, random_state=42)</pre><b>In a Jupyter environment, please rerun this cell to show the HTML representation or trust the notebook. <br />On GitHub, the HTML representation is unable to render, please try loading this page with nbviewer.org.</b></div><div class=\"sk-container\" hidden><div class=\"sk-item\"><div class=\"sk-estimator sk-toggleable\"><input class=\"sk-toggleable__control sk-hidden--visually\" id=\"sk-estimator-id-1\" type=\"checkbox\" checked><label for=\"sk-estimator-id-1\" class=\"sk-toggleable__label sk-toggleable__label-arrow\">IsolationForest</label><div class=\"sk-toggleable__content\"><pre>IsolationForest(contamination=0.1, random_state=42)</pre></div></div></div></div></div>"
      ],
      "text/plain": [
       "IsolationForest(contamination=0.1, random_state=42)"
      ]
     },
     "execution_count": 14,
     "metadata": {},
     "output_type": "execute_result"
    }
   ],
   "source": [
    "import pandas as pd\n",
    "from sklearn.ensemble import IsolationForest\n",
    "\n",
    "prevdata=cdf_clean\n",
    "# Assuming you have the 'prevdata' DataFrame\n",
    "contamination = 0.10 \n",
    "# Specify the columns on which you want to detect outliers\n",
    "columns_to_check = prevdata.columns  # Replace with your actual column names\n",
    "\n",
    "# Create a subset DataFrame with only the columns to check for outliers\n",
    "subset_df = prevdata[columns_to_check]\n",
    "\n",
    "# Create an IsolationForest model\n",
    "isolation_forest = IsolationForest(contamination=contamination, random_state=42)\n",
    "\n",
    "# Fit the IsolationForest model to the data\n",
    "isolation_forest.fit(subset_df)\n",
    "\n",
    "# Predict the outlier labels for each row\n",
    "outlier_labels = isolation_forest.predict(subset_df)\n",
    "\n",
    "# Filter the DataFrame to keep only non-outlier rows\n",
    "filtered_df = prevdata[outlier_labels != -1]\n",
    "\n",
    "filtered_df = filtered_df.reset_index()"
   ]
  },
  {
   "attachments": {},
   "cell_type": "markdown",
   "id": "077e8e56",
   "metadata": {},
   "source": [
    "Split data"
   ]
  },
  {
   "cell_type": "code",
   "execution_count": 15,
   "id": "a9bc865a",
   "metadata": {},
   "outputs": [],
   "source": [
    "filtered_df= filtered_df.drop(['level_0', 'index'], axis='columns')"
   ]
  },
  {
   "cell_type": "code",
   "execution_count": 16,
   "id": "dbda70b8",
   "metadata": {},
   "outputs": [],
   "source": [
    "X = filtered_df.loc[:,filtered_df.columns != 'realSum']\n",
    "y = filtered_df['realSum']\n",
    "\n",
    "X_train, X_test, y_train, y_test = train_test_split(X, y, test_size=0.30, random_state=42\n",
    "    ,stratify=X[[  'room_shared', 'room_private'  ]])\n",
    "\n",
    "y_train_t= np.log(y_train + 0.000001)\n",
    "y_test_t= np.log(y_test + 0.000001)\n"
   ]
  },
  {
   "cell_type": "code",
   "execution_count": 17,
   "id": "7ce29623",
   "metadata": {},
   "outputs": [],
   "source": [
    "X_n = X_train\n",
    "y_n = y_train\n"
   ]
  },
  {
   "attachments": {},
   "cell_type": "markdown",
   "id": "b1a49cf9",
   "metadata": {},
   "source": [
    "Identify features with multicollinearity"
   ]
  },
  {
   "cell_type": "code",
   "execution_count": 18,
   "id": "03f135bc",
   "metadata": {},
   "outputs": [
    {
     "name": "stderr",
     "output_type": "stream",
     "text": [
      "/Users/lauraforerocamacho/Library/Python/3.8/lib/python/site-packages/statsmodels/stats/outliers_influence.py:195: RuntimeWarning: divide by zero encountered in scalar divide\n",
      "  vif = 1. / (1. - r_squared_i)\n"
     ]
    },
    {
     "name": "stdout",
     "output_type": "stream",
     "text": [
      "Remaining predictors without multicollinearity:\n",
      "Index(['room_shared', 'room_private', 'person_capacity', 'host_is_superhost',\n",
      "       'multi', 'biz', 'cleanliness_rating', 'guest_satisfaction_overall',\n",
      "       'bedrooms', 'dist', 'metro_dist', 'lng_London'],\n",
      "      dtype='object')\n"
     ]
    }
   ],
   "source": [
    "import pandas as pd\n",
    "import numpy as np\n",
    "from statsmodels.stats.outliers_influence import variance_inflation_factor\n",
    "\n",
    "\n",
    "# Select the predictors (independent variables) for the regression model\n",
    "predictors =  X_n.copy()\n",
    "predictors.fillna(predictors.mean(), inplace=True)\n",
    "\n",
    "# Calculate the VIF for each predictor\n",
    "vif = pd.DataFrame()\n",
    "vif['Predictor'] = predictors.columns\n",
    "vif['VIF'] = [variance_inflation_factor(predictors.values, i) for i in range(predictors.shape[1])]\n",
    "\n",
    "# Identify predictors with high VIF (typically, VIF > 5 indicates multicollinearity)\n",
    "high_vif_predictors = vif[vif['VIF'] > 7]['Predictor']\n",
    "\n",
    "# Remove highly correlated predictors from the dataset\n",
    "filtered_data = predictors.drop(high_vif_predictors, axis=1)\n",
    "\n",
    "# Print the remaining predictors without multicollinearity\n",
    "print(\"Remaining predictors without multicollinearity:\")\n",
    "print(filtered_data.columns)\n"
   ]
  },
  {
   "attachments": {},
   "cell_type": "markdown",
   "id": "c66415db",
   "metadata": {},
   "source": [
    "### Selection feature"
   ]
  },
  {
   "attachments": {},
   "cell_type": "markdown",
   "id": "9092d70c",
   "metadata": {},
   "source": [
    "Selection feature based on correlation"
   ]
  },
  {
   "cell_type": "code",
   "execution_count": 19,
   "id": "5664b2be",
   "metadata": {},
   "outputs": [],
   "source": [
    "X_n_temp= X_n.copy()\n",
    "X_n_temp[\"realSum\"]=np.log(y_n + 0.000001)\n",
    "# Calculate correlations with the target variable\n",
    "correlations = X_n_temp.corr()['realSum'].abs().sort_values(ascending=False)\n",
    "\n",
    "# Select the top correlated features (e.g., top 5)\n",
    "top_features = correlations[1:len(X_n_temp.columns)].index\n",
    "\n",
    "# Subset the DataFrame with selected features\n",
    "selected_data = X_n_temp[top_features]"
   ]
  },
  {
   "attachments": {},
   "cell_type": "markdown",
   "id": "0c7b8b5d",
   "metadata": {},
   "source": [
    "Selection feature based on KBest"
   ]
  },
  {
   "cell_type": "code",
   "execution_count": 20,
   "id": "66895641",
   "metadata": {},
   "outputs": [
    {
     "data": {
      "text/html": [
       "<style>#sk-container-id-2 {color: black;background-color: white;}#sk-container-id-2 pre{padding: 0;}#sk-container-id-2 div.sk-toggleable {background-color: white;}#sk-container-id-2 label.sk-toggleable__label {cursor: pointer;display: block;width: 100%;margin-bottom: 0;padding: 0.3em;box-sizing: border-box;text-align: center;}#sk-container-id-2 label.sk-toggleable__label-arrow:before {content: \"▸\";float: left;margin-right: 0.25em;color: #696969;}#sk-container-id-2 label.sk-toggleable__label-arrow:hover:before {color: black;}#sk-container-id-2 div.sk-estimator:hover label.sk-toggleable__label-arrow:before {color: black;}#sk-container-id-2 div.sk-toggleable__content {max-height: 0;max-width: 0;overflow: hidden;text-align: left;background-color: #f0f8ff;}#sk-container-id-2 div.sk-toggleable__content pre {margin: 0.2em;color: black;border-radius: 0.25em;background-color: #f0f8ff;}#sk-container-id-2 input.sk-toggleable__control:checked~div.sk-toggleable__content {max-height: 200px;max-width: 100%;overflow: auto;}#sk-container-id-2 input.sk-toggleable__control:checked~label.sk-toggleable__label-arrow:before {content: \"▾\";}#sk-container-id-2 div.sk-estimator input.sk-toggleable__control:checked~label.sk-toggleable__label {background-color: #d4ebff;}#sk-container-id-2 div.sk-label input.sk-toggleable__control:checked~label.sk-toggleable__label {background-color: #d4ebff;}#sk-container-id-2 input.sk-hidden--visually {border: 0;clip: rect(1px 1px 1px 1px);clip: rect(1px, 1px, 1px, 1px);height: 1px;margin: -1px;overflow: hidden;padding: 0;position: absolute;width: 1px;}#sk-container-id-2 div.sk-estimator {font-family: monospace;background-color: #f0f8ff;border: 1px dotted black;border-radius: 0.25em;box-sizing: border-box;margin-bottom: 0.5em;}#sk-container-id-2 div.sk-estimator:hover {background-color: #d4ebff;}#sk-container-id-2 div.sk-parallel-item::after {content: \"\";width: 100%;border-bottom: 1px solid gray;flex-grow: 1;}#sk-container-id-2 div.sk-label:hover label.sk-toggleable__label {background-color: #d4ebff;}#sk-container-id-2 div.sk-serial::before {content: \"\";position: absolute;border-left: 1px solid gray;box-sizing: border-box;top: 0;bottom: 0;left: 50%;z-index: 0;}#sk-container-id-2 div.sk-serial {display: flex;flex-direction: column;align-items: center;background-color: white;padding-right: 0.2em;padding-left: 0.2em;position: relative;}#sk-container-id-2 div.sk-item {position: relative;z-index: 1;}#sk-container-id-2 div.sk-parallel {display: flex;align-items: stretch;justify-content: center;background-color: white;position: relative;}#sk-container-id-2 div.sk-item::before, #sk-container-id-2 div.sk-parallel-item::before {content: \"\";position: absolute;border-left: 1px solid gray;box-sizing: border-box;top: 0;bottom: 0;left: 50%;z-index: -1;}#sk-container-id-2 div.sk-parallel-item {display: flex;flex-direction: column;z-index: 1;position: relative;background-color: white;}#sk-container-id-2 div.sk-parallel-item:first-child::after {align-self: flex-end;width: 50%;}#sk-container-id-2 div.sk-parallel-item:last-child::after {align-self: flex-start;width: 50%;}#sk-container-id-2 div.sk-parallel-item:only-child::after {width: 0;}#sk-container-id-2 div.sk-dashed-wrapped {border: 1px dashed gray;margin: 0 0.4em 0.5em 0.4em;box-sizing: border-box;padding-bottom: 0.4em;background-color: white;}#sk-container-id-2 div.sk-label label {font-family: monospace;font-weight: bold;display: inline-block;line-height: 1.2em;}#sk-container-id-2 div.sk-label-container {text-align: center;}#sk-container-id-2 div.sk-container {/* jupyter's `normalize.less` sets `[hidden] { display: none; }` but bootstrap.min.css set `[hidden] { display: none !important; }` so we also need the `!important` here to be able to override the default hidden behavior on the sphinx rendered scikit-learn.org. See: https://github.com/scikit-learn/scikit-learn/issues/21755 */display: inline-block !important;position: relative;}#sk-container-id-2 div.sk-text-repr-fallback {display: none;}</style><div id=\"sk-container-id-2\" class=\"sk-top-container\"><div class=\"sk-text-repr-fallback\"><pre>SelectKBest(score_func=&lt;function f_regression at 0x128e19940&gt;)</pre><b>In a Jupyter environment, please rerun this cell to show the HTML representation or trust the notebook. <br />On GitHub, the HTML representation is unable to render, please try loading this page with nbviewer.org.</b></div><div class=\"sk-container\" hidden><div class=\"sk-item\"><div class=\"sk-estimator sk-toggleable\"><input class=\"sk-toggleable__control sk-hidden--visually\" id=\"sk-estimator-id-2\" type=\"checkbox\" checked><label for=\"sk-estimator-id-2\" class=\"sk-toggleable__label sk-toggleable__label-arrow\">SelectKBest</label><div class=\"sk-toggleable__content\"><pre>SelectKBest(score_func=&lt;function f_regression at 0x128e19940&gt;)</pre></div></div></div></div></div>"
      ],
      "text/plain": [
       "SelectKBest(score_func=<function f_regression at 0x128e19940>)"
      ]
     },
     "execution_count": 20,
     "metadata": {},
     "output_type": "execute_result"
    },
    {
     "name": "stdout",
     "output_type": "stream",
     "text": [
      "room_private: 3926.3402666344787\n",
      "person_capacity: 3139.944971515661\n",
      "attr_index: 3631.517916652002\n",
      "attr_index_norm: 9374.279166980004\n",
      "lat_Athens: 3350.6448441296025\n",
      "lng_Athens: 3350.3377144852725\n",
      "lat_Paris: 3715.7357941510563\n",
      "lng_Paris: 3686.978177088297\n",
      "Athens: 3349.9497960901463\n",
      "Paris: 3715.9622386995134\n",
      " \n"
     ]
    }
   ],
   "source": [
    "from sklearn.feature_selection import SelectKBest, f_regression\n",
    "\n",
    "#Selecting the Best important features according to Logistic Regression\n",
    "sfs_selector = SelectKBest(score_func=f_regression)\n",
    "sfs_selector.fit(X_n,y_train_t)\n",
    "selected_feature_names = X_n.columns[sfs_selector.get_support(indices=True)]\n",
    "feature_scores = zip(selected_feature_names, sfs_selector.scores_[sfs_selector.get_support(indices=True)])\n",
    "for feature, score in feature_scores:\n",
    "    print(f\"{feature}: {score}\")\n",
    "print(\" \")\n"
   ]
  },
  {
   "attachments": {},
   "cell_type": "markdown",
   "id": "c901a554",
   "metadata": {},
   "source": [
    "Cross Validation Feature selection"
   ]
  },
  {
   "cell_type": "code",
   "execution_count": 47,
   "id": "2c64fe77",
   "metadata": {},
   "outputs": [],
   "source": [
    "def modelfit(alg, dtrain, ytrain, predictors, performCV=True, printFeatureImportance=True, cv_folds=5):\n",
    "    \n",
    "        \n",
    "    #Predict training set:\n",
    "    dtrain_predictions = alg.predict(dtrain)\n",
    "    \n",
    "    #Perform cross-validation:\n",
    "    if performCV:\n",
    "        cv_score = cross_val_score(alg, dtrain, ytrain, cv=cv_folds, scoring='neg_mean_absolute_error')\n",
    "    \n",
    "    #Print model report:\n",
    "    print (\"\\nModel Report\")\n",
    "    print( \"Mean absolute error : %.4g\" % metrics.mean_absolute_error(ytrain, dtrain_predictions))\n",
    "\n",
    "\n",
    "    if performCV:\n",
    "        print (\"CV Score : Mean - %.7g | Std - %.7g | Min - %.7g | Max - %.7g\" % (np.mean(cv_score),np.std(cv_score),np.min(cv_score),np.max(cv_score)))\n",
    "        \n",
    "    #Print Feature Importance:\n",
    "    if printFeatureImportance:\n",
    "        feat_imp = pd.Series(alg.feature_importances_, predictors).sort_values(ascending=False)\n",
    "        feat_imp.plot(kind='bar', title='Feature Importances')\n",
    "        plt.ylabel('Feature Importance Score')\n",
    "        print( pd.Series(alg.feature_importances_, predictors).sort_values(ascending=False))\n",
    "        "
   ]
  },
  {
   "cell_type": "code",
   "execution_count": 48,
   "id": "ec2f3a46",
   "metadata": {},
   "outputs": [
    {
     "data": {
      "text/html": [
       "<style>#sk-container-id-7 {color: black;background-color: white;}#sk-container-id-7 pre{padding: 0;}#sk-container-id-7 div.sk-toggleable {background-color: white;}#sk-container-id-7 label.sk-toggleable__label {cursor: pointer;display: block;width: 100%;margin-bottom: 0;padding: 0.3em;box-sizing: border-box;text-align: center;}#sk-container-id-7 label.sk-toggleable__label-arrow:before {content: \"▸\";float: left;margin-right: 0.25em;color: #696969;}#sk-container-id-7 label.sk-toggleable__label-arrow:hover:before {color: black;}#sk-container-id-7 div.sk-estimator:hover label.sk-toggleable__label-arrow:before {color: black;}#sk-container-id-7 div.sk-toggleable__content {max-height: 0;max-width: 0;overflow: hidden;text-align: left;background-color: #f0f8ff;}#sk-container-id-7 div.sk-toggleable__content pre {margin: 0.2em;color: black;border-radius: 0.25em;background-color: #f0f8ff;}#sk-container-id-7 input.sk-toggleable__control:checked~div.sk-toggleable__content {max-height: 200px;max-width: 100%;overflow: auto;}#sk-container-id-7 input.sk-toggleable__control:checked~label.sk-toggleable__label-arrow:before {content: \"▾\";}#sk-container-id-7 div.sk-estimator input.sk-toggleable__control:checked~label.sk-toggleable__label {background-color: #d4ebff;}#sk-container-id-7 div.sk-label input.sk-toggleable__control:checked~label.sk-toggleable__label {background-color: #d4ebff;}#sk-container-id-7 input.sk-hidden--visually {border: 0;clip: rect(1px 1px 1px 1px);clip: rect(1px, 1px, 1px, 1px);height: 1px;margin: -1px;overflow: hidden;padding: 0;position: absolute;width: 1px;}#sk-container-id-7 div.sk-estimator {font-family: monospace;background-color: #f0f8ff;border: 1px dotted black;border-radius: 0.25em;box-sizing: border-box;margin-bottom: 0.5em;}#sk-container-id-7 div.sk-estimator:hover {background-color: #d4ebff;}#sk-container-id-7 div.sk-parallel-item::after {content: \"\";width: 100%;border-bottom: 1px solid gray;flex-grow: 1;}#sk-container-id-7 div.sk-label:hover label.sk-toggleable__label {background-color: #d4ebff;}#sk-container-id-7 div.sk-serial::before {content: \"\";position: absolute;border-left: 1px solid gray;box-sizing: border-box;top: 0;bottom: 0;left: 50%;z-index: 0;}#sk-container-id-7 div.sk-serial {display: flex;flex-direction: column;align-items: center;background-color: white;padding-right: 0.2em;padding-left: 0.2em;position: relative;}#sk-container-id-7 div.sk-item {position: relative;z-index: 1;}#sk-container-id-7 div.sk-parallel {display: flex;align-items: stretch;justify-content: center;background-color: white;position: relative;}#sk-container-id-7 div.sk-item::before, #sk-container-id-7 div.sk-parallel-item::before {content: \"\";position: absolute;border-left: 1px solid gray;box-sizing: border-box;top: 0;bottom: 0;left: 50%;z-index: -1;}#sk-container-id-7 div.sk-parallel-item {display: flex;flex-direction: column;z-index: 1;position: relative;background-color: white;}#sk-container-id-7 div.sk-parallel-item:first-child::after {align-self: flex-end;width: 50%;}#sk-container-id-7 div.sk-parallel-item:last-child::after {align-self: flex-start;width: 50%;}#sk-container-id-7 div.sk-parallel-item:only-child::after {width: 0;}#sk-container-id-7 div.sk-dashed-wrapped {border: 1px dashed gray;margin: 0 0.4em 0.5em 0.4em;box-sizing: border-box;padding-bottom: 0.4em;background-color: white;}#sk-container-id-7 div.sk-label label {font-family: monospace;font-weight: bold;display: inline-block;line-height: 1.2em;}#sk-container-id-7 div.sk-label-container {text-align: center;}#sk-container-id-7 div.sk-container {/* jupyter's `normalize.less` sets `[hidden] { display: none; }` but bootstrap.min.css set `[hidden] { display: none !important; }` so we also need the `!important` here to be able to override the default hidden behavior on the sphinx rendered scikit-learn.org. See: https://github.com/scikit-learn/scikit-learn/issues/21755 */display: inline-block !important;position: relative;}#sk-container-id-7 div.sk-text-repr-fallback {display: none;}</style><div id=\"sk-container-id-7\" class=\"sk-top-container\"><div class=\"sk-text-repr-fallback\"><pre>GradientBoostingRegressor(random_state=0)</pre><b>In a Jupyter environment, please rerun this cell to show the HTML representation or trust the notebook. <br />On GitHub, the HTML representation is unable to render, please try loading this page with nbviewer.org.</b></div><div class=\"sk-container\" hidden><div class=\"sk-item\"><div class=\"sk-estimator sk-toggleable\"><input class=\"sk-toggleable__control sk-hidden--visually\" id=\"sk-estimator-id-7\" type=\"checkbox\" checked><label for=\"sk-estimator-id-7\" class=\"sk-toggleable__label sk-toggleable__label-arrow\">GradientBoostingRegressor</label><div class=\"sk-toggleable__content\"><pre>GradientBoostingRegressor(random_state=0)</pre></div></div></div></div></div>"
      ],
      "text/plain": [
       "GradientBoostingRegressor(random_state=0)"
      ]
     },
     "execution_count": 48,
     "metadata": {},
     "output_type": "execute_result"
    },
    {
     "name": "stdout",
     "output_type": "stream",
     "text": [
      "\n",
      "Model Report\n",
      "Mean absolute error : 0.2209\n",
      "CV Score : Mean - -0.2236819 | Std - 0.00143502 | Min - -0.2256746 | Max - -0.221256\n",
      "attr_index_norm               0.297103\n",
      "room_private                  0.140494\n",
      "bedrooms                      0.071577\n",
      "person_capacity               0.068698\n",
      "lng_Athens                    0.064760\n",
      "lat_Budapest                  0.046407\n",
      "lat_Athens                    0.040144\n",
      "lat_Paris                     0.036545\n",
      "lng_Budapest                  0.024601\n",
      "lat_London                    0.022973\n",
      "lng_London                    0.022773\n",
      "lng_Rome                      0.018236\n",
      "Amsterdam                     0.018134\n",
      "lng_Amsterdam                 0.017864\n",
      "room_shared                   0.014200\n",
      "Budapest                      0.011918\n",
      "lng_Paris                     0.010341\n",
      "guest_satisfaction_overall    0.009650\n",
      "cleanliness_rating            0.009074\n",
      "rest_index                    0.009071\n",
      "lat_Amsterdam                 0.008624\n",
      "lat_Rome                      0.006786\n",
      "biz                           0.006118\n",
      "lng_Lisbon                    0.004902\n",
      "lng_Barcelona                 0.004791\n",
      "Lisbon                        0.002721\n",
      "attr_index                    0.002588\n",
      "lat_Barcelona                 0.002007\n",
      "dist                          0.001629\n",
      "Rome                          0.001332\n",
      "lng_Vienna                    0.001023\n",
      "metro_dist                    0.000878\n",
      "Paris                         0.000496\n",
      "rest_index_norm               0.000431\n",
      "Weekdays                      0.000394\n",
      "lat_Lisbon                    0.000320\n",
      "Weekends                      0.000310\n",
      "lat_Vienna                    0.000086\n",
      "Barcelona                     0.000000\n",
      "Berlin                        0.000000\n",
      "Athens                        0.000000\n",
      "host_is_superhost             0.000000\n",
      "London                        0.000000\n",
      "multi                         0.000000\n",
      "Vienna                        0.000000\n",
      "lat_Berlin                    0.000000\n",
      "lng_Berlin                    0.000000\n",
      "dtype: float64\n"
     ]
    },
    {
     "data": {
      "image/png": "[encoded data removed]",
      "text/plain": [
       "<Figure size 864x288 with 1 Axes>"
      ]
     },
     "metadata": {
      "needs_background": "light"
     },
     "output_type": "display_data"
    }
   ],
   "source": [
    "from sklearn.ensemble import GradientBoostingRegressor\n",
    "\n",
    "predictors =X_n.columns\n",
    "\n",
    "model = GradientBoostingRegressor(random_state=0)\n",
    "model.fit(X_n,y_train_t)\n",
    "\n",
    "modelfit(model, X_n,y_train_t, predictors)"
   ]
  },
  {
   "attachments": {},
   "cell_type": "markdown",
   "id": "f9679d61",
   "metadata": {},
   "source": [
    "New variables according to feature selection"
   ]
  },
  {
   "cell_type": "code",
   "execution_count": 20,
   "id": "0b9c4c2f",
   "metadata": {},
   "outputs": [],
   "source": [
    "new_variables=['attr_index_norm' ,'room_private','bedrooms' ,'person_capacity','lng_Athens',\n",
    "'lat_Budapest','lat_Athens','lat_Paris' ,'lng_Budapest','lat_London','lng_London','lng_Rome',                      \n",
    "'Amsterdam','lng_Amsterdam','room_shared','Budapest','lng_Paris','guest_satisfaction_overall',\n",
    "'cleanliness_rating','rest_index','lat_Amsterdam','lat_Rome','biz','lng_Lisbon','lng_Barcelona',                 \n",
    "'Lisbon','lat_Barcelona','dist','Rome','lng_Vienna' ,'metro_dist','Paris']"
   ]
  },
  {
   "attachments": {},
   "cell_type": "markdown",
   "id": "1026bbbd",
   "metadata": {},
   "source": [
    "### Analysis Skewness features"
   ]
  },
  {
   "cell_type": "code",
   "execution_count": 21,
   "id": "e028d53f",
   "metadata": {},
   "outputs": [],
   "source": [
    "temp_right_columns= []\n",
    "temp_left_columns=[]\n",
    "\n",
    "for i in X_n.columns:\n",
    "    variable = X_n[i]\n",
    "\n",
    "    # Calculate the skewness of the variable\n",
    "    skewness = variable.skew()\n",
    "\n",
    "    # Interpret the skewness value\n",
    "    if skewness > 0:\n",
    "        temp_right_columns.append(i)\n",
    "    elif skewness < 0:\n",
    "        temp_left_columns.append(i)\n",
    "    else:\n",
    "        print(\"The variable is approximately symmetric (no skew).\")"
   ]
  },
  {
   "cell_type": "code",
   "execution_count": 22,
   "id": "0bea8ce9",
   "metadata": {},
   "outputs": [
    {
     "name": "stdout",
     "output_type": "stream",
     "text": [
      "['room_shared', 'room_private', 'person_capacity', 'host_is_superhost', 'multi', 'biz', 'bedrooms', 'dist', 'metro_dist', 'attr_index', 'attr_index_norm', 'rest_index', 'rest_index_norm', 'lat_Amsterdam', 'lng_Amsterdam', 'lat_Athens', 'lng_Athens', 'lat_Barcelona', 'lng_Barcelona', 'lat_Berlin', 'lng_Berlin', 'lat_Budapest', 'lng_Budapest', 'lat_Lisbon', 'lat_London', 'lat_Paris', 'lng_Paris', 'lat_Rome', 'lng_Rome', 'lat_Vienna', 'lng_Vienna', 'Amsterdam', 'Athens', 'Barcelona', 'Berlin', 'Budapest', 'Lisbon', 'London', 'Paris', 'Rome', 'Vienna', 'Weekdays']\n",
      "['cleanliness_rating', 'guest_satisfaction_overall', 'lng_Lisbon', 'lng_London', 'Weekends']\n"
     ]
    }
   ],
   "source": [
    "print(temp_right_columns)\n",
    "print(temp_left_columns)\n",
    "temp_right_columns=[ 'room_shared', 'room_private', 'person_capacity', 'host_is_superhost', 'bedrooms', 'dist', 'metro_dist', 'attr_index', 'attr_index_norm', 'rest_index', 'rest_index_norm']\n",
    "temp_left_columns=[ 'cleanliness_rating', 'guest_satisfaction_overall']\n",
    "\n",
    "right_columns=[]\n",
    "left_columns=[]\n",
    "\n",
    "for i in new_variables:\n",
    "    if(i in temp_right_columns):\n",
    "        right_columns.append(i)\n",
    "    if(i in temp_left_columns):\n",
    "        left_columns.append(i)\n"
   ]
  },
  {
   "attachments": {},
   "cell_type": "markdown",
   "id": "989eb0c3",
   "metadata": {},
   "source": [
    "Data transformation based on the distribution "
   ]
  },
  {
   "cell_type": "code",
   "execution_count": 23,
   "id": "68af8e16",
   "metadata": {},
   "outputs": [],
   "source": [
    "def categorical_preprocessing(X, y,scaler=None):\n",
    "    print('Original shape:{}'.format(X.shape))\n",
    "    X[right_columns]=np.log( X[right_columns] + 0.000001)\n",
    "    X[left_columns]=np.power(X[left_columns],3)\n",
    "    print('New shape:{}'.format(X.shape))\n",
    "    return X, y, scaler\n"
   ]
  },
  {
   "cell_type": "code",
   "execution_count": 24,
   "id": "9e539dd7",
   "metadata": {},
   "outputs": [
    {
     "name": "stdout",
     "output_type": "stream",
     "text": [
      "Original shape:(32309, 47)\n",
      "New shape:(32309, 47)\n",
      "Original shape:(13848, 47)\n",
      "New shape:(13848, 47)\n"
     ]
    }
   ],
   "source": [
    "X_train, y_train, scaler = categorical_preprocessing(X_train,y_train)\n",
    "X_test, y_test, _ = categorical_preprocessing(X_test,y_test,scaler)"
   ]
  },
  {
   "attachments": {},
   "cell_type": "markdown",
   "id": "9d79b384",
   "metadata": {},
   "source": [
    "Select features based on feature selection"
   ]
  },
  {
   "cell_type": "code",
   "execution_count": 33,
   "id": "76d356d1",
   "metadata": {},
   "outputs": [],
   "source": [
    "X_train=X_n[new_variables]\n",
    "X_test=X_test[new_variables]"
   ]
  },
  {
   "attachments": {},
   "cell_type": "markdown",
   "id": "4ce99c48",
   "metadata": {},
   "source": [
    "Models"
   ]
  },
  {
   "cell_type": "code",
   "execution_count": 34,
   "id": "30fc3dcc",
   "metadata": {},
   "outputs": [],
   "source": [
    "results_models=[]"
   ]
  },
  {
   "cell_type": "code",
   "execution_count": 35,
   "id": "73abcae2",
   "metadata": {},
   "outputs": [
    {
     "name": "stdout",
     "output_type": "stream",
     "text": [
      "Mean squared error using cross-validation:  0.22333989850565458\n",
      "R2 score using cross-validation:  0.713021245364723\n"
     ]
    },
    {
     "data": {
      "text/html": [
       "<style>#sk-container-id-3 {color: black;background-color: white;}#sk-container-id-3 pre{padding: 0;}#sk-container-id-3 div.sk-toggleable {background-color: white;}#sk-container-id-3 label.sk-toggleable__label {cursor: pointer;display: block;width: 100%;margin-bottom: 0;padding: 0.3em;box-sizing: border-box;text-align: center;}#sk-container-id-3 label.sk-toggleable__label-arrow:before {content: \"▸\";float: left;margin-right: 0.25em;color: #696969;}#sk-container-id-3 label.sk-toggleable__label-arrow:hover:before {color: black;}#sk-container-id-3 div.sk-estimator:hover label.sk-toggleable__label-arrow:before {color: black;}#sk-container-id-3 div.sk-toggleable__content {max-height: 0;max-width: 0;overflow: hidden;text-align: left;background-color: #f0f8ff;}#sk-container-id-3 div.sk-toggleable__content pre {margin: 0.2em;color: black;border-radius: 0.25em;background-color: #f0f8ff;}#sk-container-id-3 input.sk-toggleable__control:checked~div.sk-toggleable__content {max-height: 200px;max-width: 100%;overflow: auto;}#sk-container-id-3 input.sk-toggleable__control:checked~label.sk-toggleable__label-arrow:before {content: \"▾\";}#sk-container-id-3 div.sk-estimator input.sk-toggleable__control:checked~label.sk-toggleable__label {background-color: #d4ebff;}#sk-container-id-3 div.sk-label input.sk-toggleable__control:checked~label.sk-toggleable__label {background-color: #d4ebff;}#sk-container-id-3 input.sk-hidden--visually {border: 0;clip: rect(1px 1px 1px 1px);clip: rect(1px, 1px, 1px, 1px);height: 1px;margin: -1px;overflow: hidden;padding: 0;position: absolute;width: 1px;}#sk-container-id-3 div.sk-estimator {font-family: monospace;background-color: #f0f8ff;border: 1px dotted black;border-radius: 0.25em;box-sizing: border-box;margin-bottom: 0.5em;}#sk-container-id-3 div.sk-estimator:hover {background-color: #d4ebff;}#sk-container-id-3 div.sk-parallel-item::after {content: \"\";width: 100%;border-bottom: 1px solid gray;flex-grow: 1;}#sk-container-id-3 div.sk-label:hover label.sk-toggleable__label {background-color: #d4ebff;}#sk-container-id-3 div.sk-serial::before {content: \"\";position: absolute;border-left: 1px solid gray;box-sizing: border-box;top: 0;bottom: 0;left: 50%;z-index: 0;}#sk-container-id-3 div.sk-serial {display: flex;flex-direction: column;align-items: center;background-color: white;padding-right: 0.2em;padding-left: 0.2em;position: relative;}#sk-container-id-3 div.sk-item {position: relative;z-index: 1;}#sk-container-id-3 div.sk-parallel {display: flex;align-items: stretch;justify-content: center;background-color: white;position: relative;}#sk-container-id-3 div.sk-item::before, #sk-container-id-3 div.sk-parallel-item::before {content: \"\";position: absolute;border-left: 1px solid gray;box-sizing: border-box;top: 0;bottom: 0;left: 50%;z-index: -1;}#sk-container-id-3 div.sk-parallel-item {display: flex;flex-direction: column;z-index: 1;position: relative;background-color: white;}#sk-container-id-3 div.sk-parallel-item:first-child::after {align-self: flex-end;width: 50%;}#sk-container-id-3 div.sk-parallel-item:last-child::after {align-self: flex-start;width: 50%;}#sk-container-id-3 div.sk-parallel-item:only-child::after {width: 0;}#sk-container-id-3 div.sk-dashed-wrapped {border: 1px dashed gray;margin: 0 0.4em 0.5em 0.4em;box-sizing: border-box;padding-bottom: 0.4em;background-color: white;}#sk-container-id-3 div.sk-label label {font-family: monospace;font-weight: bold;display: inline-block;line-height: 1.2em;}#sk-container-id-3 div.sk-label-container {text-align: center;}#sk-container-id-3 div.sk-container {/* jupyter's `normalize.less` sets `[hidden] { display: none; }` but bootstrap.min.css set `[hidden] { display: none !important; }` so we also need the `!important` here to be able to override the default hidden behavior on the sphinx rendered scikit-learn.org. See: https://github.com/scikit-learn/scikit-learn/issues/21755 */display: inline-block !important;position: relative;}#sk-container-id-3 div.sk-text-repr-fallback {display: none;}</style><div id=\"sk-container-id-3\" class=\"sk-top-container\"><div class=\"sk-text-repr-fallback\"><pre>GradientBoostingRegressor(random_state=0)</pre><b>In a Jupyter environment, please rerun this cell to show the HTML representation or trust the notebook. <br />On GitHub, the HTML representation is unable to render, please try loading this page with nbviewer.org.</b></div><div class=\"sk-container\" hidden><div class=\"sk-item\"><div class=\"sk-estimator sk-toggleable\"><input class=\"sk-toggleable__control sk-hidden--visually\" id=\"sk-estimator-id-3\" type=\"checkbox\" checked><label for=\"sk-estimator-id-3\" class=\"sk-toggleable__label sk-toggleable__label-arrow\">GradientBoostingRegressor</label><div class=\"sk-toggleable__content\"><pre>GradientBoostingRegressor(random_state=0)</pre></div></div></div></div></div>"
      ],
      "text/plain": [
       "GradientBoostingRegressor(random_state=0)"
      ]
     },
     "execution_count": 35,
     "metadata": {},
     "output_type": "execute_result"
    },
    {
     "name": "stdout",
     "output_type": "stream",
     "text": [
      "Mean squared error on test set:  0.22490557278930381\n",
      "R2 score on test set:  0.7024755224909525\n",
      "Mean absoute error on test set:  57.57171576561869\n",
      "R2 score on test set:  0.6350036166155248\n"
     ]
    }
   ],
   "source": [
    "from sklearn.ensemble import GradientBoostingRegressor\n",
    "from sklearn.utils.class_weight import compute_sample_weight\n",
    "\n",
    "sample_weights_train = compute_sample_weight(class_weight='balanced', y=y_train)\n",
    "\n",
    "#lr_one_hot = GradientBoostingRegressor(loss='huber', alpha=0.9, n_estimators=100, random_state=0)\n",
    "model = GradientBoostingRegressor(random_state=0)\n",
    "\n",
    "y_train_t= np.log(y_train + 0.000001)\n",
    "y_test_t= np.log(y_test + 0.000001)\n",
    "\n",
    "# Calculate the mean squared error using cross-validation\n",
    "mse_scores = -1 * cross_val_score(model, X_train, y_train_t, cv=10, scoring='neg_mean_absolute_error')\n",
    "print(\"Mean squared error using cross-validation: \", mse_scores.mean())\n",
    "\n",
    "# Calculate the R2 score using cross-validation\n",
    "r2_scores = cross_val_score(model, X_train, y_train_t, cv=10, scoring='r2')\n",
    "print(\"R2 score using cross-validation: \", r2_scores.mean())\n",
    "\n",
    "# Train the model on the full training set\n",
    "model.fit(X_train, y_train_t)\n",
    "\n",
    "# Predict on the test set and calculate metrics\n",
    "y_pred = model.predict(X_test)\n",
    "mse = mean_absolute_error(y_test_t, y_pred)\n",
    "r2 = r2_score(y_test_t, y_pred)\n",
    "print(\"Mean squared error on test set: \", mse)\n",
    "print(\"R2 score on test set: \", r2)\n",
    "\n",
    "\n",
    "# Predict on the test set and calculate metrics\n",
    "y_pred =np.exp(y_pred) - 0.000001 \n",
    "msa = mean_absolute_error(y_test, y_pred)\n",
    "r2 = r2_score(y_test, y_pred)\n",
    "\n",
    "print(\"Mean absoute error on test set: \", msa)\n",
    "print(\"R2 score on test set: \", r2)\n",
    "\n",
    "results_models.append([\"Gradient Boosting Regressor\",msa,r2])"
   ]
  },
  {
   "cell_type": "code",
   "execution_count": 36,
   "id": "f19cd665",
   "metadata": {},
   "outputs": [
    {
     "name": "stdout",
     "output_type": "stream",
     "text": [
      "Mean squared error using cross-validation:  0.2437095284755026\n",
      "R2 score using cross-validation:  0.6629259871780621\n"
     ]
    },
    {
     "data": {
      "text/html": [
       "<style>#sk-container-id-4 {color: black;background-color: white;}#sk-container-id-4 pre{padding: 0;}#sk-container-id-4 div.sk-toggleable {background-color: white;}#sk-container-id-4 label.sk-toggleable__label {cursor: pointer;display: block;width: 100%;margin-bottom: 0;padding: 0.3em;box-sizing: border-box;text-align: center;}#sk-container-id-4 label.sk-toggleable__label-arrow:before {content: \"▸\";float: left;margin-right: 0.25em;color: #696969;}#sk-container-id-4 label.sk-toggleable__label-arrow:hover:before {color: black;}#sk-container-id-4 div.sk-estimator:hover label.sk-toggleable__label-arrow:before {color: black;}#sk-container-id-4 div.sk-toggleable__content {max-height: 0;max-width: 0;overflow: hidden;text-align: left;background-color: #f0f8ff;}#sk-container-id-4 div.sk-toggleable__content pre {margin: 0.2em;color: black;border-radius: 0.25em;background-color: #f0f8ff;}#sk-container-id-4 input.sk-toggleable__control:checked~div.sk-toggleable__content {max-height: 200px;max-width: 100%;overflow: auto;}#sk-container-id-4 input.sk-toggleable__control:checked~label.sk-toggleable__label-arrow:before {content: \"▾\";}#sk-container-id-4 div.sk-estimator input.sk-toggleable__control:checked~label.sk-toggleable__label {background-color: #d4ebff;}#sk-container-id-4 div.sk-label input.sk-toggleable__control:checked~label.sk-toggleable__label {background-color: #d4ebff;}#sk-container-id-4 input.sk-hidden--visually {border: 0;clip: rect(1px 1px 1px 1px);clip: rect(1px, 1px, 1px, 1px);height: 1px;margin: -1px;overflow: hidden;padding: 0;position: absolute;width: 1px;}#sk-container-id-4 div.sk-estimator {font-family: monospace;background-color: #f0f8ff;border: 1px dotted black;border-radius: 0.25em;box-sizing: border-box;margin-bottom: 0.5em;}#sk-container-id-4 div.sk-estimator:hover {background-color: #d4ebff;}#sk-container-id-4 div.sk-parallel-item::after {content: \"\";width: 100%;border-bottom: 1px solid gray;flex-grow: 1;}#sk-container-id-4 div.sk-label:hover label.sk-toggleable__label {background-color: #d4ebff;}#sk-container-id-4 div.sk-serial::before {content: \"\";position: absolute;border-left: 1px solid gray;box-sizing: border-box;top: 0;bottom: 0;left: 50%;z-index: 0;}#sk-container-id-4 div.sk-serial {display: flex;flex-direction: column;align-items: center;background-color: white;padding-right: 0.2em;padding-left: 0.2em;position: relative;}#sk-container-id-4 div.sk-item {position: relative;z-index: 1;}#sk-container-id-4 div.sk-parallel {display: flex;align-items: stretch;justify-content: center;background-color: white;position: relative;}#sk-container-id-4 div.sk-item::before, #sk-container-id-4 div.sk-parallel-item::before {content: \"\";position: absolute;border-left: 1px solid gray;box-sizing: border-box;top: 0;bottom: 0;left: 50%;z-index: -1;}#sk-container-id-4 div.sk-parallel-item {display: flex;flex-direction: column;z-index: 1;position: relative;background-color: white;}#sk-container-id-4 div.sk-parallel-item:first-child::after {align-self: flex-end;width: 50%;}#sk-container-id-4 div.sk-parallel-item:last-child::after {align-self: flex-start;width: 50%;}#sk-container-id-4 div.sk-parallel-item:only-child::after {width: 0;}#sk-container-id-4 div.sk-dashed-wrapped {border: 1px dashed gray;margin: 0 0.4em 0.5em 0.4em;box-sizing: border-box;padding-bottom: 0.4em;background-color: white;}#sk-container-id-4 div.sk-label label {font-family: monospace;font-weight: bold;display: inline-block;line-height: 1.2em;}#sk-container-id-4 div.sk-label-container {text-align: center;}#sk-container-id-4 div.sk-container {/* jupyter's `normalize.less` sets `[hidden] { display: none; }` but bootstrap.min.css set `[hidden] { display: none !important; }` so we also need the `!important` here to be able to override the default hidden behavior on the sphinx rendered scikit-learn.org. See: https://github.com/scikit-learn/scikit-learn/issues/21755 */display: inline-block !important;position: relative;}#sk-container-id-4 div.sk-text-repr-fallback {display: none;}</style><div id=\"sk-container-id-4\" class=\"sk-top-container\"><div class=\"sk-text-repr-fallback\"><pre>LinearRegression()</pre><b>In a Jupyter environment, please rerun this cell to show the HTML representation or trust the notebook. <br />On GitHub, the HTML representation is unable to render, please try loading this page with nbviewer.org.</b></div><div class=\"sk-container\" hidden><div class=\"sk-item\"><div class=\"sk-estimator sk-toggleable\"><input class=\"sk-toggleable__control sk-hidden--visually\" id=\"sk-estimator-id-4\" type=\"checkbox\" checked><label for=\"sk-estimator-id-4\" class=\"sk-toggleable__label sk-toggleable__label-arrow\">LinearRegression</label><div class=\"sk-toggleable__content\"><pre>LinearRegression()</pre></div></div></div></div></div>"
      ],
      "text/plain": [
       "LinearRegression()"
      ]
     },
     "execution_count": 36,
     "metadata": {},
     "output_type": "execute_result"
    },
    {
     "name": "stdout",
     "output_type": "stream",
     "text": [
      "Mean squared error on test set:  0.2686361458354227\n",
      "R2 score on test set:  0.6066345808405099\n",
      "Mean absolute error on test set:  68.25389923873384\n",
      "R2 score on test set:  0.5927032430703032\n"
     ]
    }
   ],
   "source": [
    "from sklearn.linear_model import LinearRegression\n",
    "\n",
    "model = LinearRegression()\n",
    "\n",
    "# Calculate the mean squared error using cross-validation\n",
    "mse_scores = -1 * cross_val_score(model, X_train, y_train_t, cv=10, scoring='neg_mean_absolute_error')\n",
    "print(\"Mean squared error using cross-validation: \", mse_scores.mean())\n",
    "\n",
    "# Calculate the R2 score using cross-validation\n",
    "r2_scores = cross_val_score(model, X_train, y_train_t, cv=10, scoring='r2')\n",
    "print(\"R2 score using cross-validation: \", r2_scores.mean())\n",
    "\n",
    "# Train the model on the full training set\n",
    "model.fit(X_train, y_train_t, sample_weight=sample_weights_train)\n",
    "\n",
    "# Predict on the test set and calculate metrics\n",
    "y_pred = model.predict(X_test)\n",
    "mse = mean_absolute_error(y_test_t, y_pred)\n",
    "r2 = r2_score(y_test_t, y_pred)\n",
    "print(\"Mean squared error on test set: \", mse)\n",
    "print(\"R2 score on test set: \", r2)\n",
    "\n",
    "\n",
    "# Predict on the test set and calculate metrics\n",
    "y_pred =np.exp(y_pred) - 0.000001 \n",
    "msa = mean_absolute_error(y_test, y_pred)\n",
    "r2 = r2_score(y_test, y_pred)\n",
    "\n",
    "print(\"Mean absolute error on test set: \", msa)\n",
    "print(\"R2 score on test set: \", r2)\n",
    "\n",
    "results_models.append([\"Linear Regression\",msa,r2])"
   ]
  },
  {
   "cell_type": "code",
   "execution_count": 37,
   "id": "1b8a956b",
   "metadata": {},
   "outputs": [
    {
     "name": "stdout",
     "output_type": "stream",
     "text": [
      "Mean squared error using cross-validation:  0.4137969271928319\n",
      "R2 score using cross-validation:  -0.0514789018374759\n"
     ]
    },
    {
     "data": {
      "text/html": [
       "<style>#sk-container-id-5 {color: black;background-color: white;}#sk-container-id-5 pre{padding: 0;}#sk-container-id-5 div.sk-toggleable {background-color: white;}#sk-container-id-5 label.sk-toggleable__label {cursor: pointer;display: block;width: 100%;margin-bottom: 0;padding: 0.3em;box-sizing: border-box;text-align: center;}#sk-container-id-5 label.sk-toggleable__label-arrow:before {content: \"▸\";float: left;margin-right: 0.25em;color: #696969;}#sk-container-id-5 label.sk-toggleable__label-arrow:hover:before {color: black;}#sk-container-id-5 div.sk-estimator:hover label.sk-toggleable__label-arrow:before {color: black;}#sk-container-id-5 div.sk-toggleable__content {max-height: 0;max-width: 0;overflow: hidden;text-align: left;background-color: #f0f8ff;}#sk-container-id-5 div.sk-toggleable__content pre {margin: 0.2em;color: black;border-radius: 0.25em;background-color: #f0f8ff;}#sk-container-id-5 input.sk-toggleable__control:checked~div.sk-toggleable__content {max-height: 200px;max-width: 100%;overflow: auto;}#sk-container-id-5 input.sk-toggleable__control:checked~label.sk-toggleable__label-arrow:before {content: \"▾\";}#sk-container-id-5 div.sk-estimator input.sk-toggleable__control:checked~label.sk-toggleable__label {background-color: #d4ebff;}#sk-container-id-5 div.sk-label input.sk-toggleable__control:checked~label.sk-toggleable__label {background-color: #d4ebff;}#sk-container-id-5 input.sk-hidden--visually {border: 0;clip: rect(1px 1px 1px 1px);clip: rect(1px, 1px, 1px, 1px);height: 1px;margin: -1px;overflow: hidden;padding: 0;position: absolute;width: 1px;}#sk-container-id-5 div.sk-estimator {font-family: monospace;background-color: #f0f8ff;border: 1px dotted black;border-radius: 0.25em;box-sizing: border-box;margin-bottom: 0.5em;}#sk-container-id-5 div.sk-estimator:hover {background-color: #d4ebff;}#sk-container-id-5 div.sk-parallel-item::after {content: \"\";width: 100%;border-bottom: 1px solid gray;flex-grow: 1;}#sk-container-id-5 div.sk-label:hover label.sk-toggleable__label {background-color: #d4ebff;}#sk-container-id-5 div.sk-serial::before {content: \"\";position: absolute;border-left: 1px solid gray;box-sizing: border-box;top: 0;bottom: 0;left: 50%;z-index: 0;}#sk-container-id-5 div.sk-serial {display: flex;flex-direction: column;align-items: center;background-color: white;padding-right: 0.2em;padding-left: 0.2em;position: relative;}#sk-container-id-5 div.sk-item {position: relative;z-index: 1;}#sk-container-id-5 div.sk-parallel {display: flex;align-items: stretch;justify-content: center;background-color: white;position: relative;}#sk-container-id-5 div.sk-item::before, #sk-container-id-5 div.sk-parallel-item::before {content: \"\";position: absolute;border-left: 1px solid gray;box-sizing: border-box;top: 0;bottom: 0;left: 50%;z-index: -1;}#sk-container-id-5 div.sk-parallel-item {display: flex;flex-direction: column;z-index: 1;position: relative;background-color: white;}#sk-container-id-5 div.sk-parallel-item:first-child::after {align-self: flex-end;width: 50%;}#sk-container-id-5 div.sk-parallel-item:last-child::after {align-self: flex-start;width: 50%;}#sk-container-id-5 div.sk-parallel-item:only-child::after {width: 0;}#sk-container-id-5 div.sk-dashed-wrapped {border: 1px dashed gray;margin: 0 0.4em 0.5em 0.4em;box-sizing: border-box;padding-bottom: 0.4em;background-color: white;}#sk-container-id-5 div.sk-label label {font-family: monospace;font-weight: bold;display: inline-block;line-height: 1.2em;}#sk-container-id-5 div.sk-label-container {text-align: center;}#sk-container-id-5 div.sk-container {/* jupyter's `normalize.less` sets `[hidden] { display: none; }` but bootstrap.min.css set `[hidden] { display: none !important; }` so we also need the `!important` here to be able to override the default hidden behavior on the sphinx rendered scikit-learn.org. See: https://github.com/scikit-learn/scikit-learn/issues/21755 */display: inline-block !important;position: relative;}#sk-container-id-5 div.sk-text-repr-fallback {display: none;}</style><div id=\"sk-container-id-5\" class=\"sk-top-container\"><div class=\"sk-text-repr-fallback\"><pre>RidgeCV()</pre><b>In a Jupyter environment, please rerun this cell to show the HTML representation or trust the notebook. <br />On GitHub, the HTML representation is unable to render, please try loading this page with nbviewer.org.</b></div><div class=\"sk-container\" hidden><div class=\"sk-item\"><div class=\"sk-estimator sk-toggleable\"><input class=\"sk-toggleable__control sk-hidden--visually\" id=\"sk-estimator-id-5\" type=\"checkbox\" checked><label for=\"sk-estimator-id-5\" class=\"sk-toggleable__label sk-toggleable__label-arrow\">RidgeCV</label><div class=\"sk-toggleable__content\"><pre>RidgeCV()</pre></div></div></div></div></div>"
      ],
      "text/plain": [
       "RidgeCV()"
      ]
     },
     "execution_count": 37,
     "metadata": {},
     "output_type": "execute_result"
    },
    {
     "name": "stdout",
     "output_type": "stream",
     "text": [
      "Mean squared error on test set:  0.8322736689309721\n",
      "R2 score on test set:  -2.808102807859444\n",
      "Mean absolute error on test set:  229.22500051378498\n",
      "R2 score on test set:  -3.0744923039166645\n"
     ]
    }
   ],
   "source": [
    "from sklearn.linear_model import RidgeCV\n",
    "\n",
    "model =  RidgeCV()\n",
    "\n",
    "# Calculate the mean squared error using cross-validation\n",
    "mse_scores = -1 * cross_val_score(model, X_train, y_train_t, cv=10, scoring='neg_mean_absolute_error')\n",
    "print(\"Mean squared error using cross-validation: \", mse_scores.mean())\n",
    "\n",
    "# Calculate the R2 score using cross-validation\n",
    "r2_scores = cross_val_score(model, X_train, y_train_t, cv=10, scoring='r2')\n",
    "print(\"R2 score using cross-validation: \", r2_scores.mean())\n",
    "\n",
    "# Train the model on the full training set\n",
    "model.fit(X_train, y_train_t, sample_weight=sample_weights_train)\n",
    "\n",
    "# Predict on the test set and calculate metrics\n",
    "y_pred = model.predict(X_test)\n",
    "mse = mean_absolute_error(y_test_t, y_pred)\n",
    "r2 = r2_score(y_test_t, y_pred)\n",
    "print(\"Mean squared error on test set: \", mse)\n",
    "print(\"R2 score on test set: \", r2)\n",
    "\n",
    "\n",
    "# Predict on the test set and calculate metrics\n",
    "y_pred =np.exp(y_pred) - 0.000001 \n",
    "msa = mean_absolute_error(y_test, y_pred)\n",
    "r2 = r2_score(y_test, y_pred)\n",
    "\n",
    "print(\"Mean absolute error on test set: \", msa)\n",
    "print(\"R2 score on test set: \", r2)\n",
    "\n",
    "results_models.append([\"Ridge\",msa,r2])"
   ]
  },
  {
   "cell_type": "code",
   "execution_count": 38,
   "id": "9603128e",
   "metadata": {},
   "outputs": [
    {
     "name": "stdout",
     "output_type": "stream",
     "text": [
      "Mean squared error using cross-validation:  0.3797807711421898\n",
      "R2 score using cross-validation:  0.21899672711791357\n"
     ]
    },
    {
     "data": {
      "text/html": [
       "<style>#sk-container-id-6 {color: black;background-color: white;}#sk-container-id-6 pre{padding: 0;}#sk-container-id-6 div.sk-toggleable {background-color: white;}#sk-container-id-6 label.sk-toggleable__label {cursor: pointer;display: block;width: 100%;margin-bottom: 0;padding: 0.3em;box-sizing: border-box;text-align: center;}#sk-container-id-6 label.sk-toggleable__label-arrow:before {content: \"▸\";float: left;margin-right: 0.25em;color: #696969;}#sk-container-id-6 label.sk-toggleable__label-arrow:hover:before {color: black;}#sk-container-id-6 div.sk-estimator:hover label.sk-toggleable__label-arrow:before {color: black;}#sk-container-id-6 div.sk-toggleable__content {max-height: 0;max-width: 0;overflow: hidden;text-align: left;background-color: #f0f8ff;}#sk-container-id-6 div.sk-toggleable__content pre {margin: 0.2em;color: black;border-radius: 0.25em;background-color: #f0f8ff;}#sk-container-id-6 input.sk-toggleable__control:checked~div.sk-toggleable__content {max-height: 200px;max-width: 100%;overflow: auto;}#sk-container-id-6 input.sk-toggleable__control:checked~label.sk-toggleable__label-arrow:before {content: \"▾\";}#sk-container-id-6 div.sk-estimator input.sk-toggleable__control:checked~label.sk-toggleable__label {background-color: #d4ebff;}#sk-container-id-6 div.sk-label input.sk-toggleable__control:checked~label.sk-toggleable__label {background-color: #d4ebff;}#sk-container-id-6 input.sk-hidden--visually {border: 0;clip: rect(1px 1px 1px 1px);clip: rect(1px, 1px, 1px, 1px);height: 1px;margin: -1px;overflow: hidden;padding: 0;position: absolute;width: 1px;}#sk-container-id-6 div.sk-estimator {font-family: monospace;background-color: #f0f8ff;border: 1px dotted black;border-radius: 0.25em;box-sizing: border-box;margin-bottom: 0.5em;}#sk-container-id-6 div.sk-estimator:hover {background-color: #d4ebff;}#sk-container-id-6 div.sk-parallel-item::after {content: \"\";width: 100%;border-bottom: 1px solid gray;flex-grow: 1;}#sk-container-id-6 div.sk-label:hover label.sk-toggleable__label {background-color: #d4ebff;}#sk-container-id-6 div.sk-serial::before {content: \"\";position: absolute;border-left: 1px solid gray;box-sizing: border-box;top: 0;bottom: 0;left: 50%;z-index: 0;}#sk-container-id-6 div.sk-serial {display: flex;flex-direction: column;align-items: center;background-color: white;padding-right: 0.2em;padding-left: 0.2em;position: relative;}#sk-container-id-6 div.sk-item {position: relative;z-index: 1;}#sk-container-id-6 div.sk-parallel {display: flex;align-items: stretch;justify-content: center;background-color: white;position: relative;}#sk-container-id-6 div.sk-item::before, #sk-container-id-6 div.sk-parallel-item::before {content: \"\";position: absolute;border-left: 1px solid gray;box-sizing: border-box;top: 0;bottom: 0;left: 50%;z-index: -1;}#sk-container-id-6 div.sk-parallel-item {display: flex;flex-direction: column;z-index: 1;position: relative;background-color: white;}#sk-container-id-6 div.sk-parallel-item:first-child::after {align-self: flex-end;width: 50%;}#sk-container-id-6 div.sk-parallel-item:last-child::after {align-self: flex-start;width: 50%;}#sk-container-id-6 div.sk-parallel-item:only-child::after {width: 0;}#sk-container-id-6 div.sk-dashed-wrapped {border: 1px dashed gray;margin: 0 0.4em 0.5em 0.4em;box-sizing: border-box;padding-bottom: 0.4em;background-color: white;}#sk-container-id-6 div.sk-label label {font-family: monospace;font-weight: bold;display: inline-block;line-height: 1.2em;}#sk-container-id-6 div.sk-label-container {text-align: center;}#sk-container-id-6 div.sk-container {/* jupyter's `normalize.less` sets `[hidden] { display: none; }` but bootstrap.min.css set `[hidden] { display: none !important; }` so we also need the `!important` here to be able to override the default hidden behavior on the sphinx rendered scikit-learn.org. See: https://github.com/scikit-learn/scikit-learn/issues/21755 */display: inline-block !important;position: relative;}#sk-container-id-6 div.sk-text-repr-fallback {display: none;}</style><div id=\"sk-container-id-6\" class=\"sk-top-container\"><div class=\"sk-text-repr-fallback\"><pre>LassoCV()</pre><b>In a Jupyter environment, please rerun this cell to show the HTML representation or trust the notebook. <br />On GitHub, the HTML representation is unable to render, please try loading this page with nbviewer.org.</b></div><div class=\"sk-container\" hidden><div class=\"sk-item\"><div class=\"sk-estimator sk-toggleable\"><input class=\"sk-toggleable__control sk-hidden--visually\" id=\"sk-estimator-id-6\" type=\"checkbox\" checked><label for=\"sk-estimator-id-6\" class=\"sk-toggleable__label sk-toggleable__label-arrow\">LassoCV</label><div class=\"sk-toggleable__content\"><pre>LassoCV()</pre></div></div></div></div></div>"
      ],
      "text/plain": [
       "LassoCV()"
      ]
     },
     "execution_count": 38,
     "metadata": {},
     "output_type": "execute_result"
    },
    {
     "name": "stdout",
     "output_type": "stream",
     "text": [
      "Mean squared error on test set:  0.4208000724282327\n",
      "R2 score on test set:  0.0789658199585428\n",
      "Mean absolute error on test set:  103.43035867903856\n",
      "R2 score on test set:  0.20826360107667652\n"
     ]
    }
   ],
   "source": [
    "from sklearn.linear_model import LassoCV\n",
    "\n",
    "model =  LassoCV()\n",
    "\n",
    "# Calculate the mean squared error using cross-validation\n",
    "mse_scores = -1 * cross_val_score(model, X_train, y_train_t, cv=10, scoring='neg_mean_absolute_error')\n",
    "print(\"Mean squared error using cross-validation: \", mse_scores.mean())\n",
    "\n",
    "# Calculate the R2 score using cross-validation\n",
    "r2_scores = cross_val_score(model, X_train, y_train_t, cv=10, scoring='r2')\n",
    "print(\"R2 score using cross-validation: \", r2_scores.mean())\n",
    "\n",
    "# Train the model on the full training set\n",
    "model.fit(X_train, y_train_t, sample_weight=sample_weights_train)\n",
    "\n",
    "# Predict on the test set and calculate metrics\n",
    "y_pred = model.predict(X_test)\n",
    "mse = mean_absolute_error(y_test_t, y_pred)\n",
    "r2 = r2_score(y_test_t, y_pred)\n",
    "print(\"Mean squared error on test set: \", mse)\n",
    "print(\"R2 score on test set: \", r2)\n",
    "\n",
    "\n",
    "# Predict on the test set and calculate metrics\n",
    "y_pred =np.exp(y_pred) - 0.000001 \n",
    "msa = mean_absolute_error(y_test, y_pred)\n",
    "r2 = r2_score(y_test, y_pred)\n",
    "\n",
    "print(\"Mean absolute error on test set: \", msa)\n",
    "print(\"R2 score on test set: \", r2)\n",
    "\n",
    "results_models.append([\"Lasso\",msa,r2])"
   ]
  },
  {
   "attachments": {},
   "cell_type": "markdown",
   "id": "731e649d",
   "metadata": {},
   "source": [
    "Results Models"
   ]
  },
  {
   "cell_type": "code",
   "execution_count": 39,
   "id": "69979703",
   "metadata": {},
   "outputs": [
    {
     "data": {
      "text/html": [
       "<div>\n",
       "<style scoped>\n",
       "    .dataframe tbody tr th:only-of-type {\n",
       "        vertical-align: middle;\n",
       "    }\n",
       "\n",
       "    .dataframe tbody tr th {\n",
       "        vertical-align: top;\n",
       "    }\n",
       "\n",
       "    .dataframe thead th {\n",
       "        text-align: right;\n",
       "    }\n",
       "</style>\n",
       "<table border=\"1\" class=\"dataframe\">\n",
       "  <thead>\n",
       "    <tr style=\"text-align: right;\">\n",
       "      <th></th>\n",
       "      <th>Model Name</th>\n",
       "      <th>MSA</th>\n",
       "      <th>R2</th>\n",
       "    </tr>\n",
       "  </thead>\n",
       "  <tbody>\n",
       "    <tr>\n",
       "      <th>0</th>\n",
       "      <td>Gradient Boosting Regressor</td>\n",
       "      <td>57.571716</td>\n",
       "      <td>0.635004</td>\n",
       "    </tr>\n",
       "    <tr>\n",
       "      <th>1</th>\n",
       "      <td>Linear Regression</td>\n",
       "      <td>68.253899</td>\n",
       "      <td>0.592703</td>\n",
       "    </tr>\n",
       "    <tr>\n",
       "      <th>2</th>\n",
       "      <td>Ridge</td>\n",
       "      <td>229.225001</td>\n",
       "      <td>-3.074492</td>\n",
       "    </tr>\n",
       "    <tr>\n",
       "      <th>3</th>\n",
       "      <td>Lasso</td>\n",
       "      <td>103.430359</td>\n",
       "      <td>0.208264</td>\n",
       "    </tr>\n",
       "  </tbody>\n",
       "</table>\n",
       "</div>"
      ],
      "text/plain": [
       "                    Model Name         MSA        R2\n",
       "0  Gradient Boosting Regressor   57.571716  0.635004\n",
       "1            Linear Regression   68.253899  0.592703\n",
       "2                        Ridge  229.225001 -3.074492\n",
       "3                        Lasso  103.430359  0.208264"
      ]
     },
     "execution_count": 39,
     "metadata": {},
     "output_type": "execute_result"
    }
   ],
   "source": [
    "final_results=pd.DataFrame(results_models, columns=[\"Model Name\",\"MSA\", \"R2\"])\n",
    "final_results"
   ]
  },
  {
   "attachments": {},
   "cell_type": "markdown",
   "id": "eb1f44e4",
   "metadata": {},
   "source": [
    "Tunning parameters in the best model"
   ]
  },
  {
   "cell_type": "code",
   "execution_count": 40,
   "id": "a951c079",
   "metadata": {},
   "outputs": [
    {
     "name": "stderr",
     "output_type": "stream",
     "text": [
      "/Users/lauraforerocamacho/Library/Python/3.8/lib/python/site-packages/sklearn/model_selection/_validation.py:378: FitFailedWarning: \n",
      "210 fits failed out of a total of 270.\n",
      "The score on these train-test partitions for these parameters will be set to nan.\n",
      "If these failures are not expected, you can try to debug them by setting error_score='raise'.\n",
      "\n",
      "Below are more details about the failures:\n",
      "--------------------------------------------------------------------------------\n",
      "60 fits failed with the following error:\n",
      "Traceback (most recent call last):\n",
      "  File \"/Users/lauraforerocamacho/Library/Python/3.8/lib/python/site-packages/sklearn/model_selection/_validation.py\", line 686, in _fit_and_score\n",
      "    estimator.fit(X_train, y_train, **fit_params)\n",
      "  File \"/Users/lauraforerocamacho/Library/Python/3.8/lib/python/site-packages/sklearn/ensemble/_gb.py\", line 420, in fit\n",
      "    self._validate_params()\n",
      "  File \"/Users/lauraforerocamacho/Library/Python/3.8/lib/python/site-packages/sklearn/base.py\", line 570, in _validate_params\n",
      "    validate_parameter_constraints(\n",
      "  File \"/Users/lauraforerocamacho/Library/Python/3.8/lib/python/site-packages/sklearn/utils/_param_validation.py\", line 97, in validate_parameter_constraints\n",
      "    raise InvalidParameterError(\n",
      "sklearn.utils._param_validation.InvalidParameterError: The 'loss' parameter of GradientBoostingRegressor must be a str among {'absolute_error', 'quantile', 'huber', 'squared_error'}. Got 'ls' instead.\n",
      "\n",
      "--------------------------------------------------------------------------------\n",
      "60 fits failed with the following error:\n",
      "Traceback (most recent call last):\n",
      "  File \"/Users/lauraforerocamacho/Library/Python/3.8/lib/python/site-packages/sklearn/model_selection/_validation.py\", line 686, in _fit_and_score\n",
      "    estimator.fit(X_train, y_train, **fit_params)\n",
      "  File \"/Users/lauraforerocamacho/Library/Python/3.8/lib/python/site-packages/sklearn/ensemble/_gb.py\", line 420, in fit\n",
      "    self._validate_params()\n",
      "  File \"/Users/lauraforerocamacho/Library/Python/3.8/lib/python/site-packages/sklearn/base.py\", line 570, in _validate_params\n",
      "    validate_parameter_constraints(\n",
      "  File \"/Users/lauraforerocamacho/Library/Python/3.8/lib/python/site-packages/sklearn/utils/_param_validation.py\", line 97, in validate_parameter_constraints\n",
      "    raise InvalidParameterError(\n",
      "sklearn.utils._param_validation.InvalidParameterError: The 'loss' parameter of GradientBoostingRegressor must be a str among {'absolute_error', 'quantile', 'huber', 'squared_error'}. Got 'lad' instead.\n",
      "\n",
      "--------------------------------------------------------------------------------\n",
      "90 fits failed with the following error:\n",
      "Traceback (most recent call last):\n",
      "  File \"/Users/lauraforerocamacho/Library/Python/3.8/lib/python/site-packages/sklearn/model_selection/_validation.py\", line 686, in _fit_and_score\n",
      "    estimator.fit(X_train, y_train, **fit_params)\n",
      "  File \"/Users/lauraforerocamacho/Library/Python/3.8/lib/python/site-packages/sklearn/ensemble/_gb.py\", line 420, in fit\n",
      "    self._validate_params()\n",
      "  File \"/Users/lauraforerocamacho/Library/Python/3.8/lib/python/site-packages/sklearn/base.py\", line 570, in _validate_params\n",
      "    validate_parameter_constraints(\n",
      "  File \"/Users/lauraforerocamacho/Library/Python/3.8/lib/python/site-packages/sklearn/utils/_param_validation.py\", line 97, in validate_parameter_constraints\n",
      "    raise InvalidParameterError(\n",
      "sklearn.utils._param_validation.InvalidParameterError: The 'alpha' parameter of GradientBoostingRegressor must be a float in the range (0.0, 1.0). Got 1.0 instead.\n",
      "\n",
      "  warnings.warn(some_fits_failed_message, FitFailedWarning)\n",
      "/Users/lauraforerocamacho/Library/Python/3.8/lib/python/site-packages/sklearn/model_selection/_search.py:953: UserWarning: One or more of the test scores are non-finite: [-0.22240329 -0.21497218 -0.21187667         nan         nan         nan\n",
      "         nan         nan         nan -0.22249391 -0.21486845 -0.21188814\n",
      "         nan         nan         nan         nan         nan         nan\n",
      "         nan         nan         nan         nan         nan         nan\n",
      "         nan         nan         nan]\n",
      "  warnings.warn(\n"
     ]
    },
    {
     "data": {
      "text/html": [
       "<style>#sk-container-id-7 {color: black;background-color: white;}#sk-container-id-7 pre{padding: 0;}#sk-container-id-7 div.sk-toggleable {background-color: white;}#sk-container-id-7 label.sk-toggleable__label {cursor: pointer;display: block;width: 100%;margin-bottom: 0;padding: 0.3em;box-sizing: border-box;text-align: center;}#sk-container-id-7 label.sk-toggleable__label-arrow:before {content: \"▸\";float: left;margin-right: 0.25em;color: #696969;}#sk-container-id-7 label.sk-toggleable__label-arrow:hover:before {color: black;}#sk-container-id-7 div.sk-estimator:hover label.sk-toggleable__label-arrow:before {color: black;}#sk-container-id-7 div.sk-toggleable__content {max-height: 0;max-width: 0;overflow: hidden;text-align: left;background-color: #f0f8ff;}#sk-container-id-7 div.sk-toggleable__content pre {margin: 0.2em;color: black;border-radius: 0.25em;background-color: #f0f8ff;}#sk-container-id-7 input.sk-toggleable__control:checked~div.sk-toggleable__content {max-height: 200px;max-width: 100%;overflow: auto;}#sk-container-id-7 input.sk-toggleable__control:checked~label.sk-toggleable__label-arrow:before {content: \"▾\";}#sk-container-id-7 div.sk-estimator input.sk-toggleable__control:checked~label.sk-toggleable__label {background-color: #d4ebff;}#sk-container-id-7 div.sk-label input.sk-toggleable__control:checked~label.sk-toggleable__label {background-color: #d4ebff;}#sk-container-id-7 input.sk-hidden--visually {border: 0;clip: rect(1px 1px 1px 1px);clip: rect(1px, 1px, 1px, 1px);height: 1px;margin: -1px;overflow: hidden;padding: 0;position: absolute;width: 1px;}#sk-container-id-7 div.sk-estimator {font-family: monospace;background-color: #f0f8ff;border: 1px dotted black;border-radius: 0.25em;box-sizing: border-box;margin-bottom: 0.5em;}#sk-container-id-7 div.sk-estimator:hover {background-color: #d4ebff;}#sk-container-id-7 div.sk-parallel-item::after {content: \"\";width: 100%;border-bottom: 1px solid gray;flex-grow: 1;}#sk-container-id-7 div.sk-label:hover label.sk-toggleable__label {background-color: #d4ebff;}#sk-container-id-7 div.sk-serial::before {content: \"\";position: absolute;border-left: 1px solid gray;box-sizing: border-box;top: 0;bottom: 0;left: 50%;z-index: 0;}#sk-container-id-7 div.sk-serial {display: flex;flex-direction: column;align-items: center;background-color: white;padding-right: 0.2em;padding-left: 0.2em;position: relative;}#sk-container-id-7 div.sk-item {position: relative;z-index: 1;}#sk-container-id-7 div.sk-parallel {display: flex;align-items: stretch;justify-content: center;background-color: white;position: relative;}#sk-container-id-7 div.sk-item::before, #sk-container-id-7 div.sk-parallel-item::before {content: \"\";position: absolute;border-left: 1px solid gray;box-sizing: border-box;top: 0;bottom: 0;left: 50%;z-index: -1;}#sk-container-id-7 div.sk-parallel-item {display: flex;flex-direction: column;z-index: 1;position: relative;background-color: white;}#sk-container-id-7 div.sk-parallel-item:first-child::after {align-self: flex-end;width: 50%;}#sk-container-id-7 div.sk-parallel-item:last-child::after {align-self: flex-start;width: 50%;}#sk-container-id-7 div.sk-parallel-item:only-child::after {width: 0;}#sk-container-id-7 div.sk-dashed-wrapped {border: 1px dashed gray;margin: 0 0.4em 0.5em 0.4em;box-sizing: border-box;padding-bottom: 0.4em;background-color: white;}#sk-container-id-7 div.sk-label label {font-family: monospace;font-weight: bold;display: inline-block;line-height: 1.2em;}#sk-container-id-7 div.sk-label-container {text-align: center;}#sk-container-id-7 div.sk-container {/* jupyter's `normalize.less` sets `[hidden] { display: none; }` but bootstrap.min.css set `[hidden] { display: none !important; }` so we also need the `!important` here to be able to override the default hidden behavior on the sphinx rendered scikit-learn.org. See: https://github.com/scikit-learn/scikit-learn/issues/21755 */display: inline-block !important;position: relative;}#sk-container-id-7 div.sk-text-repr-fallback {display: none;}</style><div id=\"sk-container-id-7\" class=\"sk-top-container\"><div class=\"sk-text-repr-fallback\"><pre>GridSearchCV(cv=10, estimator=GradientBoostingRegressor(random_state=0),\n",
       "             param_grid={&#x27;alpha&#x27;: [0.9, 0.95, 1.0],\n",
       "                         &#x27;loss&#x27;: [&#x27;huber&#x27;, &#x27;ls&#x27;, &#x27;lad&#x27;],\n",
       "                         &#x27;n_estimators&#x27;: [100, 200, 300]},\n",
       "             scoring=&#x27;neg_mean_absolute_error&#x27;)</pre><b>In a Jupyter environment, please rerun this cell to show the HTML representation or trust the notebook. <br />On GitHub, the HTML representation is unable to render, please try loading this page with nbviewer.org.</b></div><div class=\"sk-container\" hidden><div class=\"sk-item sk-dashed-wrapped\"><div class=\"sk-label-container\"><div class=\"sk-label sk-toggleable\"><input class=\"sk-toggleable__control sk-hidden--visually\" id=\"sk-estimator-id-7\" type=\"checkbox\" ><label for=\"sk-estimator-id-7\" class=\"sk-toggleable__label sk-toggleable__label-arrow\">GridSearchCV</label><div class=\"sk-toggleable__content\"><pre>GridSearchCV(cv=10, estimator=GradientBoostingRegressor(random_state=0),\n",
       "             param_grid={&#x27;alpha&#x27;: [0.9, 0.95, 1.0],\n",
       "                         &#x27;loss&#x27;: [&#x27;huber&#x27;, &#x27;ls&#x27;, &#x27;lad&#x27;],\n",
       "                         &#x27;n_estimators&#x27;: [100, 200, 300]},\n",
       "             scoring=&#x27;neg_mean_absolute_error&#x27;)</pre></div></div></div><div class=\"sk-parallel\"><div class=\"sk-parallel-item\"><div class=\"sk-item\"><div class=\"sk-label-container\"><div class=\"sk-label sk-toggleable\"><input class=\"sk-toggleable__control sk-hidden--visually\" id=\"sk-estimator-id-8\" type=\"checkbox\" ><label for=\"sk-estimator-id-8\" class=\"sk-toggleable__label sk-toggleable__label-arrow\">estimator: GradientBoostingRegressor</label><div class=\"sk-toggleable__content\"><pre>GradientBoostingRegressor(random_state=0)</pre></div></div></div><div class=\"sk-serial\"><div class=\"sk-item\"><div class=\"sk-estimator sk-toggleable\"><input class=\"sk-toggleable__control sk-hidden--visually\" id=\"sk-estimator-id-9\" type=\"checkbox\" ><label for=\"sk-estimator-id-9\" class=\"sk-toggleable__label sk-toggleable__label-arrow\">GradientBoostingRegressor</label><div class=\"sk-toggleable__content\"><pre>GradientBoostingRegressor(random_state=0)</pre></div></div></div></div></div></div></div></div></div></div>"
      ],
      "text/plain": [
       "GridSearchCV(cv=10, estimator=GradientBoostingRegressor(random_state=0),\n",
       "             param_grid={'alpha': [0.9, 0.95, 1.0],\n",
       "                         'loss': ['huber', 'ls', 'lad'],\n",
       "                         'n_estimators': [100, 200, 300]},\n",
       "             scoring='neg_mean_absolute_error')"
      ]
     },
     "execution_count": 40,
     "metadata": {},
     "output_type": "execute_result"
    },
    {
     "name": "stdout",
     "output_type": "stream",
     "text": [
      "Best Parameters:\n",
      "alpha: 0.9\n",
      "loss: huber\n",
      "n_estimators: 300\n"
     ]
    },
    {
     "data": {
      "text/html": [
       "<style>#sk-container-id-8 {color: black;background-color: white;}#sk-container-id-8 pre{padding: 0;}#sk-container-id-8 div.sk-toggleable {background-color: white;}#sk-container-id-8 label.sk-toggleable__label {cursor: pointer;display: block;width: 100%;margin-bottom: 0;padding: 0.3em;box-sizing: border-box;text-align: center;}#sk-container-id-8 label.sk-toggleable__label-arrow:before {content: \"▸\";float: left;margin-right: 0.25em;color: #696969;}#sk-container-id-8 label.sk-toggleable__label-arrow:hover:before {color: black;}#sk-container-id-8 div.sk-estimator:hover label.sk-toggleable__label-arrow:before {color: black;}#sk-container-id-8 div.sk-toggleable__content {max-height: 0;max-width: 0;overflow: hidden;text-align: left;background-color: #f0f8ff;}#sk-container-id-8 div.sk-toggleable__content pre {margin: 0.2em;color: black;border-radius: 0.25em;background-color: #f0f8ff;}#sk-container-id-8 input.sk-toggleable__control:checked~div.sk-toggleable__content {max-height: 200px;max-width: 100%;overflow: auto;}#sk-container-id-8 input.sk-toggleable__control:checked~label.sk-toggleable__label-arrow:before {content: \"▾\";}#sk-container-id-8 div.sk-estimator input.sk-toggleable__control:checked~label.sk-toggleable__label {background-color: #d4ebff;}#sk-container-id-8 div.sk-label input.sk-toggleable__control:checked~label.sk-toggleable__label {background-color: #d4ebff;}#sk-container-id-8 input.sk-hidden--visually {border: 0;clip: rect(1px 1px 1px 1px);clip: rect(1px, 1px, 1px, 1px);height: 1px;margin: -1px;overflow: hidden;padding: 0;position: absolute;width: 1px;}#sk-container-id-8 div.sk-estimator {font-family: monospace;background-color: #f0f8ff;border: 1px dotted black;border-radius: 0.25em;box-sizing: border-box;margin-bottom: 0.5em;}#sk-container-id-8 div.sk-estimator:hover {background-color: #d4ebff;}#sk-container-id-8 div.sk-parallel-item::after {content: \"\";width: 100%;border-bottom: 1px solid gray;flex-grow: 1;}#sk-container-id-8 div.sk-label:hover label.sk-toggleable__label {background-color: #d4ebff;}#sk-container-id-8 div.sk-serial::before {content: \"\";position: absolute;border-left: 1px solid gray;box-sizing: border-box;top: 0;bottom: 0;left: 50%;z-index: 0;}#sk-container-id-8 div.sk-serial {display: flex;flex-direction: column;align-items: center;background-color: white;padding-right: 0.2em;padding-left: 0.2em;position: relative;}#sk-container-id-8 div.sk-item {position: relative;z-index: 1;}#sk-container-id-8 div.sk-parallel {display: flex;align-items: stretch;justify-content: center;background-color: white;position: relative;}#sk-container-id-8 div.sk-item::before, #sk-container-id-8 div.sk-parallel-item::before {content: \"\";position: absolute;border-left: 1px solid gray;box-sizing: border-box;top: 0;bottom: 0;left: 50%;z-index: -1;}#sk-container-id-8 div.sk-parallel-item {display: flex;flex-direction: column;z-index: 1;position: relative;background-color: white;}#sk-container-id-8 div.sk-parallel-item:first-child::after {align-self: flex-end;width: 50%;}#sk-container-id-8 div.sk-parallel-item:last-child::after {align-self: flex-start;width: 50%;}#sk-container-id-8 div.sk-parallel-item:only-child::after {width: 0;}#sk-container-id-8 div.sk-dashed-wrapped {border: 1px dashed gray;margin: 0 0.4em 0.5em 0.4em;box-sizing: border-box;padding-bottom: 0.4em;background-color: white;}#sk-container-id-8 div.sk-label label {font-family: monospace;font-weight: bold;display: inline-block;line-height: 1.2em;}#sk-container-id-8 div.sk-label-container {text-align: center;}#sk-container-id-8 div.sk-container {/* jupyter's `normalize.less` sets `[hidden] { display: none; }` but bootstrap.min.css set `[hidden] { display: none !important; }` so we also need the `!important` here to be able to override the default hidden behavior on the sphinx rendered scikit-learn.org. See: https://github.com/scikit-learn/scikit-learn/issues/21755 */display: inline-block !important;position: relative;}#sk-container-id-8 div.sk-text-repr-fallback {display: none;}</style><div id=\"sk-container-id-8\" class=\"sk-top-container\"><div class=\"sk-text-repr-fallback\"><pre>GradientBoostingRegressor(loss=&#x27;huber&#x27;, n_estimators=300, random_state=0)</pre><b>In a Jupyter environment, please rerun this cell to show the HTML representation or trust the notebook. <br />On GitHub, the HTML representation is unable to render, please try loading this page with nbviewer.org.</b></div><div class=\"sk-container\" hidden><div class=\"sk-item\"><div class=\"sk-estimator sk-toggleable\"><input class=\"sk-toggleable__control sk-hidden--visually\" id=\"sk-estimator-id-10\" type=\"checkbox\" checked><label for=\"sk-estimator-id-10\" class=\"sk-toggleable__label sk-toggleable__label-arrow\">GradientBoostingRegressor</label><div class=\"sk-toggleable__content\"><pre>GradientBoostingRegressor(loss=&#x27;huber&#x27;, n_estimators=300, random_state=0)</pre></div></div></div></div></div>"
      ],
      "text/plain": [
       "GradientBoostingRegressor(loss='huber', n_estimators=300, random_state=0)"
      ]
     },
     "execution_count": 40,
     "metadata": {},
     "output_type": "execute_result"
    },
    {
     "name": "stdout",
     "output_type": "stream",
     "text": [
      "Mean absolute error on test set:  0.21302419043694332\n",
      "R2 score on test set:  0.7279234668022403\n",
      "Mean absolute error on test set:  54.8388234037504\n",
      "R2 score on test set:  0.6613277738778303\n"
     ]
    }
   ],
   "source": [
    "from sklearn.ensemble import GradientBoostingRegressor\n",
    "from sklearn.utils.class_weight import compute_sample_weight\n",
    "from sklearn.model_selection import GridSearchCV\n",
    "from sklearn.metrics import mean_absolute_error\n",
    "\n",
    "y_train_t= np.log(y_train + 0.000001)\n",
    "y_test_t= np.log(y_test + 0.000001)\n",
    "\n",
    "sample_weights_train = compute_sample_weight(class_weight='balanced', y=y_train_t)\n",
    "\n",
    "# Create the GradientBoostingRegressor model\n",
    "model = GradientBoostingRegressor(random_state=0)\n",
    "\n",
    "# Define the parameter grid to search\n",
    "param_grid = {\n",
    "    'loss': ['huber', 'ls', 'lad'],  # example values for loss function\n",
    "    'alpha': [0.9, 0.95, 1.0],       # example values for alpha\n",
    "    'n_estimators': [100, 200, 300]  # example values for the number of estimators\n",
    "}\n",
    "\n",
    "# Perform grid search with cross-validation\n",
    "grid_search = GridSearchCV(\n",
    "    estimator=model,\n",
    "    param_grid=param_grid,\n",
    "    cv=10,\n",
    "    scoring='neg_mean_absolute_error'\n",
    ")\n",
    "grid_search.fit(X_train, y_train_t)\n",
    "\n",
    "# Get the best model and its parameters\n",
    "best_model = grid_search.best_estimator_\n",
    "best_params = grid_search.best_params_\n",
    "\n",
    "# Print the best parameters\n",
    "print(\"Best Parameters:\")\n",
    "for param, value in best_params.items():\n",
    "    print(f\"{param}: {value}\")\n",
    "\n",
    "# Train the model on the full training set using the best parameters\n",
    "best_model.fit(X_train, y_train_t)\n",
    "\n",
    "# Predict on the test set and calculate metrics\n",
    "y_pred = best_model.predict(X_test)\n",
    "mse = mean_absolute_error(y_test_t, y_pred)\n",
    "r2 = r2_score(y_test_t, y_pred)\n",
    "print(\"Mean absolute error on test set: \", mse)\n",
    "print(\"R2 score on test set: \", r2)\n",
    "\n",
    "# Predict on the test set and calculate metrics\n",
    "y_pred = np.exp(y_pred) - 0.000001\n",
    "msa = mean_absolute_error(y_test, y_pred)\n",
    "r2 = r2_score(y_test, y_pred)\n",
    "print(\"Mean absolute error on test set: \", msa)\n",
    "print(\"R2 score on test set: \", r2)\n"
   ]
  },
  {
   "attachments": {},
   "cell_type": "markdown",
   "id": "7577640c",
   "metadata": {},
   "source": [
    "Graphs of the Result Data"
   ]
  },
  {
   "cell_type": "code",
   "execution_count": 42,
   "id": "2a1dd682",
   "metadata": {},
   "outputs": [
    {
     "name": "stdout",
     "output_type": "stream",
     "text": [
      "Amsterdam\n",
      " Weekdays: 9.91%\n",
      " Weekends: 9.91%\n",
      "Athens\n",
      " Weekdays: 34.64%\n",
      " Weekends: 34.64%\n",
      "Barcelona\n",
      " Weekdays: 18.72%\n",
      " Weekends: 18.72%\n",
      "Berlin\n",
      " Weekdays: 22.48%\n",
      " Weekends: 22.48%\n",
      "Budapest\n",
      " Weekdays: 32.06%\n",
      " Weekends: 32.06%\n",
      "Lisbon\n",
      " Weekdays: 22.85%\n",
      " Weekends: 22.85%\n",
      "London\n",
      " Weekdays: 14.99%\n",
      " Weekends: 14.99%\n",
      "Paris\n",
      " Weekdays: 13.54%\n",
      " Weekends: 13.54%\n",
      "Rome\n",
      " Weekdays: 26.78%\n",
      " Weekends: 26.78%\n",
      "Vienna\n",
      " Weekdays: 22.46%\n",
      " Weekends: 22.46%\n"
     ]
    },
    {
     "data": {
      "text/plain": [
       "<BarContainer object of 10 artists>"
      ]
     },
     "execution_count": 42,
     "metadata": {},
     "output_type": "execute_result"
    },
    {
     "data": {
      "text/plain": [
       "<BarContainer object of 10 artists>"
      ]
     },
     "execution_count": 42,
     "metadata": {},
     "output_type": "execute_result"
    },
    {
     "data": {
      "text/plain": [
       "[<matplotlib.axis.XTick at 0x127ab1670>,\n",
       " <matplotlib.axis.XTick at 0x127ab1640>,\n",
       " <matplotlib.axis.XTick at 0x1287d2340>,\n",
       " <matplotlib.axis.XTick at 0x128850850>,\n",
       " <matplotlib.axis.XTick at 0x12884b070>,\n",
       " <matplotlib.axis.XTick at 0x12884b730>,\n",
       " <matplotlib.axis.XTick at 0x12884be80>,\n",
       " <matplotlib.axis.XTick at 0x12884bb20>,\n",
       " <matplotlib.axis.XTick at 0x128850af0>,\n",
       " <matplotlib.axis.XTick at 0x12881c970>]"
      ]
     },
     "execution_count": 42,
     "metadata": {},
     "output_type": "execute_result"
    },
    {
     "data": {
      "text/plain": [
       "[Text(0.175, 0, 'Amsterdam'),\n",
       " Text(1.175, 0, 'Athens'),\n",
       " Text(2.175, 0, 'Barcelona'),\n",
       " Text(3.175, 0, 'Berlin'),\n",
       " Text(4.175, 0, 'Budapest'),\n",
       " Text(5.175, 0, 'Lisbon'),\n",
       " Text(6.175, 0, 'London'),\n",
       " Text(7.175, 0, 'Paris'),\n",
       " Text(8.175, 0, 'Rome'),\n",
       " Text(9.175, 0, 'Vienna')]"
      ]
     },
     "execution_count": 42,
     "metadata": {},
     "output_type": "execute_result"
    },
    {
     "data": {
      "text/plain": [
       "Text(0, 0.5, 'Percentage')"
      ]
     },
     "execution_count": 42,
     "metadata": {},
     "output_type": "execute_result"
    },
    {
     "data": {
      "text/plain": [
       "Text(0.5, 1.0, 'Percentage of the error difference')"
      ]
     },
     "execution_count": 42,
     "metadata": {},
     "output_type": "execute_result"
    },
    {
     "data": {
      "text/plain": [
       "<matplotlib.legend.Legend at 0x128828340>"
      ]
     },
     "execution_count": 42,
     "metadata": {},
     "output_type": "execute_result"
    },
    {
     "data": {
      "image/png": "[encoded data removed]",
      "text/plain": [
       "<Figure size 720x432 with 1 Axes>"
      ]
     },
     "metadata": {
      "needs_background": "light"
     },
     "output_type": "display_data"
    }
   ],
   "source": [
    "#Creat the dataset groupped by \"city\" and \"type\" attributes\n",
    "\n",
    "grouped_city_type = data.groupby(['city', 'type'])\n",
    "\n",
    "#Get average price per city and day type\n",
    "\n",
    "avg_price_per_city_type = grouped_city_type['realSum'].mean()\n",
    "\n",
    "avg_price_per_city_type = grouped_city_type['realSum'].mean()\n",
    " \n",
    "\n",
    "# Percentage of error difference of the chosen model in relation to the average price\n",
    "\n",
    "prev_city = None\n",
    "for (city, type), value in avg_price_per_city_type.items():\n",
    "   if city != prev_city:\n",
    "       print(city)\n",
    "       prev_city = city\n",
    "       percentage = (54 / value) * 100\n",
    "   print(' {}: {:.2f}%'.format(type, percentage))\n",
    "\n",
    "#Visualisation of the error difference\n",
    "\n",
    "import matplotlib.pyplot as plt\n",
    "# Creating lists to store the city names, weekdays percentages, and weekends percentages\n",
    "cities = []\n",
    "weekdays_percentages = []\n",
    "weekends_percentages = []\n",
    "\n",
    "# Iterating over the avg_price_per_city_type dictionary\n",
    "for (city, type), value in avg_price_per_city_type.items():\n",
    "    if city not in cities:\n",
    "        cities.append(city)\n",
    "    \n",
    "    percentage = (54.83 / value) * 100\n",
    "    \n",
    "    if type == 'Weekdays':\n",
    "        weekdays_percentages.append(percentage)\n",
    "    elif type == 'Weekends':\n",
    "        weekends_percentages.append(percentage)\n",
    "\n",
    "# Setting the width of each bar\n",
    "bar_width = 0.35\n",
    "\n",
    "# Creating the figure and axes\n",
    "fig, ax = plt.subplots(figsize=(10, 6))\n",
    "\n",
    "# Creating the x-axis positions\n",
    "x = range(len(cities))\n",
    "\n",
    "# Plotting the bars for weekdays\n",
    "ax.bar(x, weekdays_percentages, bar_width, label='Weekdays', color='turquoise')\n",
    "\n",
    "# Plotting the bars for weekends\n",
    "ax.bar([i + bar_width for i in x], weekends_percentages, bar_width, label='Weekends', color='orangered')\n",
    "\n",
    "# Setting the x-axis tick labels\n",
    "ax.set_xticks([i + bar_width/2 for i in x])\n",
    "ax.set_xticklabels(cities, rotation=45)\n",
    "\n",
    "# Setting the y-axis label and title\n",
    "ax.set_ylabel('Percentage')\n",
    "ax.set_title('Percentage of the error difference')\n",
    "\n",
    "# Creating the legend\n",
    "ax.legend()\n",
    "\n",
    "plt.tight_layout()\n",
    "plt.show()"
   ]
  }
 ],
 "metadata": {
  "kernelspec": {
   "display_name": "Python 3 (ipykernel)",
   "language": "python",
   "name": "python3"
  },
  "language_info": {
   "codemirror_mode": {
    "name": "ipython",
    "version": 3
   },
   "file_extension": ".py",
   "mimetype": "text/x-python",
   "name": "python",
   "nbconvert_exporter": "python",
   "pygments_lexer": "ipython3",
   "version": "3.8.9"
  }
 },
 "nbformat": 4,
 "nbformat_minor": 5
}
