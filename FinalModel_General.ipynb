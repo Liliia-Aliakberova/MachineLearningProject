{
 "cells": [
  {
   "cell_type": "markdown",
   "id": "b7df141b",
   "metadata": {},
   "source": [
    "# Part 1 Preprocess\n",
    "* * *"
   ]
  },
  {
   "cell_type": "code",
   "execution_count": 1,
   "id": "caf8dfd0",
   "metadata": {},
   "outputs": [],
   "source": [
    "#%matplotlib notebook\n",
    "import numpy as np\n",
    "import matplotlib.pyplot as plt\n",
    "import seaborn as sn\n",
    "import pandas as pd\n",
    "from collections import Counter\n",
    "from IPython.core.interactiveshell import InteractiveShell\n",
    "InteractiveShell.ast_node_interactivity = \"all\""
   ]
  },
  {
   "cell_type": "code",
   "execution_count": 2,
   "id": "8922e1c3",
   "metadata": {},
   "outputs": [],
   "source": [
    "# extra imports\n",
    "from pandas import read_csv\n",
    "from sklearn.neighbors import KNeighborsClassifier\n",
    "from sklearn.neighbors import LocalOutlierFactor\n",
    "from sklearn import preprocessing\n",
    "from statsmodels.genmod.generalized_linear_model import GLM\n",
    "from pandas.plotting import scatter_matrix\n",
    "from scipy.stats import boxcox"
   ]
  },
  {
   "attachments": {},
   "cell_type": "markdown",
   "id": "79aaafc0",
   "metadata": {},
   "source": [
    "### Loading the datasets"
   ]
  },
  {
   "cell_type": "markdown",
   "id": "6c27709b",
   "metadata": {},
   "source": [
    "Create a list of all files and add the corresponding city names and day type"
   ]
  },
  {
   "cell_type": "code",
   "execution_count": 3,
   "id": "9f9e4209",
   "metadata": {},
   "outputs": [],
   "source": [
    "data = [(\"/Users/lauraforerocamacho/Downloads/data/amsterdam_weekdays.csv\", \"Amsterdam\", \"Weekdays\"),\n",
    "                 (\"/Users/lauraforerocamacho/Downloads/data/athens_weekdays.csv\", \"Athens\",\"Weekdays\"),\n",
    "                 (\"/Users/lauraforerocamacho/Downloads/data/barcelona_weekdays.csv\", \"Barcelona\", \"Weekdays\"),\n",
    "                 (\"/Users/lauraforerocamacho/Downloads/data/berlin_weekdays.csv\", \"Berlin\", \"Weekdays\"),\n",
    "                 (\"/Users/lauraforerocamacho/Downloads/data/budapest_weekdays.csv\", \"Budapest\", \"Weekdays\"),\n",
    "                 (\"/Users/lauraforerocamacho/Downloads/data/lisbon_weekdays.csv\", \"Lisbon\", \"Weekdays\"),\n",
    "                 (\"/Users/lauraforerocamacho/Downloads/data/London_weekdays.csv\", \"London\", \"Weekdays\"),\n",
    "                 (\"/Users/lauraforerocamacho/Downloads/data/rome_weekdays.csv\", \"Rome\", \"Weekdays\"),\n",
    "                 (\"/Users/lauraforerocamacho/Downloads/data/paris_weekdays.csv\", \"Paris\", \"Weekdays\"),\n",
    "                 (\"/Users/lauraforerocamacho/Downloads/data/Vienna_weekdays.csv\", \"Vienna\", \"Weekdays\"),\n",
    "                 (\"/Users/lauraforerocamacho/Downloads/data/amsterdam_weekends.csv\", \"Amsterdam\", \"Weekends\"),\n",
    "                 (\"/Users/lauraforerocamacho/Downloads/data/athens_weekends.csv\", \"Athens\", \"Weekends\"),\n",
    "                 (\"/Users/lauraforerocamacho/Downloads/data/barcelona_weekends.csv\", \"Barcelona\", \"Weekends\"),\n",
    "                 (\"/Users/lauraforerocamacho/Downloads/data/berlin_weekends.csv\", \"Berlin\", \"Weekends\"),\n",
    "                 (\"/Users/lauraforerocamacho/Downloads/data/budapest_weekends.csv\", \"Budapest\", \"Weekends\"),\n",
    "                 (\"/Users/lauraforerocamacho/Downloads/data/lisbon_weekends.csv\", \"Lisbon\", \"Weekends\"),\n",
    "                 (\"/Users/lauraforerocamacho/Downloads/data/London_weekends.csv\", \"London\", \"Weekends\"),\n",
    "                 (\"/Users/lauraforerocamacho/Downloads/data/rome_weekends.csv\", \"Rome\", \"Weekends\"),\n",
    "                 (\"/Users/lauraforerocamacho/Downloads/data/paris_weekends.csv\", \"Paris\", \"Weekends\"),\n",
    "                 (\"/Users/lauraforerocamacho/Downloads/data/Vienna_weekends.csv\", \"Vienna\", \"Weekends\")]\n",
    "data = [(\"/Users/lauraforerocamacho/Downloads/data/amsterdam_weekdays.csv\", \"Amsterdam\", \"Weekdays\"),\n",
    "                 (\"/Users/lauraforerocamacho/Downloads/data/athens_weekdays.csv\", \"Athens\",\"Weekdays\"),\n",
    "                 (\"/Users/lauraforerocamacho/Downloads/data/barcelona_weekdays.csv\", \"Barcelona\", \"Weekdays\"),\n",
    "                 (\"/Users/lauraforerocamacho/Downloads/data/berlin_weekdays.csv\", \"Berlin\", \"Weekdays\"),\n",
    "                 (\"/Users/lauraforerocamacho/Downloads/data/budapest_weekdays.csv\", \"Budapest\", \"Weekdays\"),\n",
    "                 (\"/Users/lauraforerocamacho/Downloads/data/lisbon_weekdays.csv\", \"Lisbon\", \"Weekdays\"),\n",
    "                 (\"/Users/lauraforerocamacho/Downloads/data/London_weekdays.csv\", \"London\", \"Weekdays\"),\n",
    "                 (\"/Users/lauraforerocamacho/Downloads/data/rome_weekdays.csv\", \"Rome\", \"Weekdays\"),\n",
    "                 (\"/Users/lauraforerocamacho/Downloads/data/paris_weekdays.csv\", \"Paris\", \"Weekdays\"),\n",
    "                 (\"/Users/lauraforerocamacho/Downloads/data/Vienna_weekdays.csv\", \"Vienna\", \"Weekdays\"),\n",
    "                 \n",
    "                 ]\n"
   ]
  },
  {
   "cell_type": "markdown",
   "id": "195d4a3c",
   "metadata": {},
   "source": [
    "Merg data from all csv into one data frame "
   ]
  },
  {
   "cell_type": "code",
   "execution_count": 4,
   "id": "391c1318",
   "metadata": {},
   "outputs": [],
   "source": [
    "dfs = []\n",
    "for file_path, city_name, day_type in data:\n",
    "    df = pd.read_csv(file_path, usecols=lambda col: col != 'Unnamed: 0')\n",
    "    df = df.assign(city=city_name, type=day_type)\n",
    "    dfs.append(df)\n",
    "data = pd.concat(dfs)"
   ]
  },
  {
   "cell_type": "markdown",
   "id": "17fbe370",
   "metadata": {},
   "source": [
    "The length and number of columns of the formed dataset"
   ]
  },
  {
   "attachments": {},
   "cell_type": "markdown",
   "id": "fce89f17",
   "metadata": {},
   "source": [
    "### Basic Inspection of the dataset"
   ]
  },
  {
   "cell_type": "markdown",
   "id": "afdc169e",
   "metadata": {},
   "source": [
    "Get descriptive information about the dataset"
   ]
  },
  {
   "cell_type": "code",
   "execution_count": 5,
   "id": "73e76fd0",
   "metadata": {},
   "outputs": [],
   "source": [
    "numeric_colums= [\"realSum\", \"person_capacity\",\"cleanliness_rating\",\"guest_satisfaction_overall\",'bedrooms', 'dist',\n",
    "       'metro_dist', 'attr_index', 'attr_index_norm', 'rest_index',\n",
    "       'rest_index_norm', 'lng', 'lat']\n",
    "categorical_colums= [\"room_type\",\"room_shared\", \"room_private\", \"host_is_superhost\",\"multi\", \"biz\" , 'city', 'type']"
   ]
  },
  {
   "cell_type": "code",
   "execution_count": 6,
   "id": "a7861195",
   "metadata": {},
   "outputs": [
    {
     "data": {
      "text/plain": [
       "array(['Private room', 'Entire home/apt', 'Shared room'], dtype=object)"
      ]
     },
     "execution_count": 6,
     "metadata": {},
     "output_type": "execute_result"
    },
    {
     "data": {
      "text/plain": [
       "array([False, True], dtype=object)"
      ]
     },
     "execution_count": 6,
     "metadata": {},
     "output_type": "execute_result"
    },
    {
     "data": {
      "text/plain": [
       "array([True, False], dtype=object)"
      ]
     },
     "execution_count": 6,
     "metadata": {},
     "output_type": "execute_result"
    },
    {
     "data": {
      "text/plain": [
       "array([False, True], dtype=object)"
      ]
     },
     "execution_count": 6,
     "metadata": {},
     "output_type": "execute_result"
    },
    {
     "data": {
      "text/plain": [
       "array([1, 0], dtype=object)"
      ]
     },
     "execution_count": 6,
     "metadata": {},
     "output_type": "execute_result"
    },
    {
     "data": {
      "text/plain": [
       "array([0, 1], dtype=object)"
      ]
     },
     "execution_count": 6,
     "metadata": {},
     "output_type": "execute_result"
    },
    {
     "data": {
      "text/plain": [
       "array(['Amsterdam', 'Athens', 'Barcelona', 'Berlin', 'Budapest', 'Lisbon',\n",
       "       'London', 'Rome', 'Paris', 'Vienna'], dtype=object)"
      ]
     },
     "execution_count": 6,
     "metadata": {},
     "output_type": "execute_result"
    },
    {
     "data": {
      "text/plain": [
       "array(['Weekdays'], dtype=object)"
      ]
     },
     "execution_count": 6,
     "metadata": {},
     "output_type": "execute_result"
    }
   ],
   "source": [
    "for i in categorical_colums:\n",
    "    data[i] = data[i].astype('object')\n",
    "    data[i].unique()"
   ]
  },
  {
   "attachments": {},
   "cell_type": "markdown",
   "id": "5adddf7d",
   "metadata": {},
   "source": [
    "View distributin of the value"
   ]
  },
  {
   "cell_type": "code",
   "execution_count": 7,
   "id": "2a163a1d",
   "metadata": {},
   "outputs": [
    {
     "data": {
      "image/png": "[encoded data removed]",
      "text/plain": [
       "<Figure size 1872x1440 with 24 Axes>"
      ]
     },
     "metadata": {
      "needs_background": "light"
     },
     "output_type": "display_data"
    }
   ],
   "source": [
    "import seaborn as sns\n",
    "\n",
    "\n",
    "fig, axes = plt.subplots(6,4,figsize=(26,20))\n",
    "\n",
    "# We will not plot country because it has too many categories.\n",
    "for i, c in enumerate(data.columns):\n",
    "    ax = axes.reshape(-1)[i]\n",
    "    if data[c].dtype.kind == 'O':\n",
    "        a = sns.countplot(x=c,data=data,ax=ax)\n",
    "    else:\n",
    "        b = sns.histplot(x=c,data=data,ax=ax)\n",
    "    t = ax.set_title(c)\n",
    "plt.tight_layout()"
   ]
  },
  {
   "attachments": {},
   "cell_type": "markdown",
   "id": "95ad041b",
   "metadata": {},
   "source": [
    "Latitude and longitude are values that can bring noise to the model."
   ]
  },
  {
   "cell_type": "code",
   "execution_count": 8,
   "id": "7ba84a78",
   "metadata": {},
   "outputs": [],
   "source": [
    "data_clean=data\n",
    "#data_clean=data_clean.drop([\"lat\",\"lng\"], axis=1)"
   ]
  },
  {
   "cell_type": "code",
   "execution_count": 9,
   "id": "4c041600",
   "metadata": {},
   "outputs": [],
   "source": [
    "def combine_lat_long(lng, lat):\n",
    "    latitude = np.radians(lat)\n",
    "    longitude = np.radians(lng)\n",
    "\n",
    "    amsterdam_latitude = np.radians(0)\n",
    "    amsterdam_longitude = np.radians(0)\n",
    "\n",
    "    # apply Haversine formula to compute distance\n",
    "    latitude_distance = amsterdam_latitude - latitude\n",
    "    longitude_distance = amsterdam_longitude - longitude\n",
    "    a = np.sin(latitude_distance/2)**2 + np.cos(latitude) * np.cos(amsterdam_latitude) * np.sin(longitude_distance/2)**2\n",
    "    c = 2 * np.arcsin(np.sqrt(a))\n",
    "    distance = 6371 * c\n",
    "\n",
    "    return distance\n",
    "#data_clean['distance'] = combine_lat_long(data_clean['lng'],data_clean['lat'])\n",
    "#data_clean.drop(columns=['lng','lat'],inplace=True)"
   ]
  },
  {
   "cell_type": "code",
   "execution_count": 10,
   "id": "f3b4d7f1",
   "metadata": {},
   "outputs": [],
   "source": [
    "for i in  ['Amsterdam','Athens','Barcelona', 'Berlin', 'Budapest', 'Lisbon', 'London', 'Paris', 'Rome','Vienna']:\n",
    "    data_clean[\"lat_\"+i]=0\n",
    "    data_clean[\"lng_\"+i]=0"
   ]
  },
  {
   "cell_type": "code",
   "execution_count": 11,
   "id": "1be36d34",
   "metadata": {},
   "outputs": [],
   "source": [
    "data_clean = data_clean.reset_index()"
   ]
  },
  {
   "cell_type": "code",
   "execution_count": 12,
   "id": "7da45892",
   "metadata": {},
   "outputs": [
    {
     "name": "stderr",
     "output_type": "stream",
     "text": [
      "/var/folders/zv/hzjbp8kd1l103x8tgl0s00z80000gn/T/ipykernel_9187/1713729126.py:2: SettingWithCopyWarning: \n",
      "A value is trying to be set on a copy of a slice from a DataFrame\n",
      "\n",
      "See the caveats in the documentation: https://pandas.pydata.org/pandas-docs/stable/user_guide/indexing.html#returning-a-view-versus-a-copy\n",
      "  data_clean['lat_'+data_clean['city'][ind]][ind]=data_clean['lat'][ind]\n",
      "/var/folders/zv/hzjbp8kd1l103x8tgl0s00z80000gn/T/ipykernel_9187/1713729126.py:3: SettingWithCopyWarning: \n",
      "A value is trying to be set on a copy of a slice from a DataFrame\n",
      "\n",
      "See the caveats in the documentation: https://pandas.pydata.org/pandas-docs/stable/user_guide/indexing.html#returning-a-view-versus-a-copy\n",
      "  data_clean['lng_'+data_clean['city'][ind]][ind]=data_clean['lng'][ind]\n",
      "/var/folders/zv/hzjbp8kd1l103x8tgl0s00z80000gn/T/ipykernel_9187/1713729126.py:2: SettingWithCopyWarning: \n",
      "A value is trying to be set on a copy of a slice from a DataFrame\n",
      "\n",
      "See the caveats in the documentation: https://pandas.pydata.org/pandas-docs/stable/user_guide/indexing.html#returning-a-view-versus-a-copy\n",
      "  data_clean['lat_'+data_clean['city'][ind]][ind]=data_clean['lat'][ind]\n",
      "/var/folders/zv/hzjbp8kd1l103x8tgl0s00z80000gn/T/ipykernel_9187/1713729126.py:3: SettingWithCopyWarning: \n",
      "A value is trying to be set on a copy of a slice from a DataFrame\n",
      "\n",
      "See the caveats in the documentation: https://pandas.pydata.org/pandas-docs/stable/user_guide/indexing.html#returning-a-view-versus-a-copy\n",
      "  data_clean['lng_'+data_clean['city'][ind]][ind]=data_clean['lng'][ind]\n",
      "/var/folders/zv/hzjbp8kd1l103x8tgl0s00z80000gn/T/ipykernel_9187/1713729126.py:2: SettingWithCopyWarning: \n",
      "A value is trying to be set on a copy of a slice from a DataFrame\n",
      "\n",
      "See the caveats in the documentation: https://pandas.pydata.org/pandas-docs/stable/user_guide/indexing.html#returning-a-view-versus-a-copy\n",
      "  data_clean['lat_'+data_clean['city'][ind]][ind]=data_clean['lat'][ind]\n",
      "/var/folders/zv/hzjbp8kd1l103x8tgl0s00z80000gn/T/ipykernel_9187/1713729126.py:3: SettingWithCopyWarning: \n",
      "A value is trying to be set on a copy of a slice from a DataFrame\n",
      "\n",
      "See the caveats in the documentation: https://pandas.pydata.org/pandas-docs/stable/user_guide/indexing.html#returning-a-view-versus-a-copy\n",
      "  data_clean['lng_'+data_clean['city'][ind]][ind]=data_clean['lng'][ind]\n",
      "/var/folders/zv/hzjbp8kd1l103x8tgl0s00z80000gn/T/ipykernel_9187/1713729126.py:2: SettingWithCopyWarning: \n",
      "A value is trying to be set on a copy of a slice from a DataFrame\n",
      "\n",
      "See the caveats in the documentation: https://pandas.pydata.org/pandas-docs/stable/user_guide/indexing.html#returning-a-view-versus-a-copy\n",
      "  data_clean['lat_'+data_clean['city'][ind]][ind]=data_clean['lat'][ind]\n",
      "/var/folders/zv/hzjbp8kd1l103x8tgl0s00z80000gn/T/ipykernel_9187/1713729126.py:3: SettingWithCopyWarning: \n",
      "A value is trying to be set on a copy of a slice from a DataFrame\n",
      "\n",
      "See the caveats in the documentation: https://pandas.pydata.org/pandas-docs/stable/user_guide/indexing.html#returning-a-view-versus-a-copy\n",
      "  data_clean['lng_'+data_clean['city'][ind]][ind]=data_clean['lng'][ind]\n",
      "/var/folders/zv/hzjbp8kd1l103x8tgl0s00z80000gn/T/ipykernel_9187/1713729126.py:2: SettingWithCopyWarning: \n",
      "A value is trying to be set on a copy of a slice from a DataFrame\n",
      "\n",
      "See the caveats in the documentation: https://pandas.pydata.org/pandas-docs/stable/user_guide/indexing.html#returning-a-view-versus-a-copy\n",
      "  data_clean['lat_'+data_clean['city'][ind]][ind]=data_clean['lat'][ind]\n",
      "/var/folders/zv/hzjbp8kd1l103x8tgl0s00z80000gn/T/ipykernel_9187/1713729126.py:3: SettingWithCopyWarning: \n",
      "A value is trying to be set on a copy of a slice from a DataFrame\n",
      "\n",
      "See the caveats in the documentation: https://pandas.pydata.org/pandas-docs/stable/user_guide/indexing.html#returning-a-view-versus-a-copy\n",
      "  data_clean['lng_'+data_clean['city'][ind]][ind]=data_clean['lng'][ind]\n",
      "/var/folders/zv/hzjbp8kd1l103x8tgl0s00z80000gn/T/ipykernel_9187/1713729126.py:2: SettingWithCopyWarning: \n",
      "A value is trying to be set on a copy of a slice from a DataFrame\n",
      "\n",
      "See the caveats in the documentation: https://pandas.pydata.org/pandas-docs/stable/user_guide/indexing.html#returning-a-view-versus-a-copy\n",
      "  data_clean['lat_'+data_clean['city'][ind]][ind]=data_clean['lat'][ind]\n",
      "/var/folders/zv/hzjbp8kd1l103x8tgl0s00z80000gn/T/ipykernel_9187/1713729126.py:3: SettingWithCopyWarning: \n",
      "A value is trying to be set on a copy of a slice from a DataFrame\n",
      "\n",
      "See the caveats in the documentation: https://pandas.pydata.org/pandas-docs/stable/user_guide/indexing.html#returning-a-view-versus-a-copy\n",
      "  data_clean['lng_'+data_clean['city'][ind]][ind]=data_clean['lng'][ind]\n",
      "/var/folders/zv/hzjbp8kd1l103x8tgl0s00z80000gn/T/ipykernel_9187/1713729126.py:2: SettingWithCopyWarning: \n",
      "A value is trying to be set on a copy of a slice from a DataFrame\n",
      "\n",
      "See the caveats in the documentation: https://pandas.pydata.org/pandas-docs/stable/user_guide/indexing.html#returning-a-view-versus-a-copy\n",
      "  data_clean['lat_'+data_clean['city'][ind]][ind]=data_clean['lat'][ind]\n",
      "/var/folders/zv/hzjbp8kd1l103x8tgl0s00z80000gn/T/ipykernel_9187/1713729126.py:3: SettingWithCopyWarning: \n",
      "A value is trying to be set on a copy of a slice from a DataFrame\n",
      "\n",
      "See the caveats in the documentation: https://pandas.pydata.org/pandas-docs/stable/user_guide/indexing.html#returning-a-view-versus-a-copy\n",
      "  data_clean['lng_'+data_clean['city'][ind]][ind]=data_clean['lng'][ind]\n",
      "/var/folders/zv/hzjbp8kd1l103x8tgl0s00z80000gn/T/ipykernel_9187/1713729126.py:2: SettingWithCopyWarning: \n",
      "A value is trying to be set on a copy of a slice from a DataFrame\n",
      "\n",
      "See the caveats in the documentation: https://pandas.pydata.org/pandas-docs/stable/user_guide/indexing.html#returning-a-view-versus-a-copy\n",
      "  data_clean['lat_'+data_clean['city'][ind]][ind]=data_clean['lat'][ind]\n",
      "/var/folders/zv/hzjbp8kd1l103x8tgl0s00z80000gn/T/ipykernel_9187/1713729126.py:3: SettingWithCopyWarning: \n",
      "A value is trying to be set on a copy of a slice from a DataFrame\n",
      "\n",
      "See the caveats in the documentation: https://pandas.pydata.org/pandas-docs/stable/user_guide/indexing.html#returning-a-view-versus-a-copy\n",
      "  data_clean['lng_'+data_clean['city'][ind]][ind]=data_clean['lng'][ind]\n",
      "/var/folders/zv/hzjbp8kd1l103x8tgl0s00z80000gn/T/ipykernel_9187/1713729126.py:2: SettingWithCopyWarning: \n",
      "A value is trying to be set on a copy of a slice from a DataFrame\n",
      "\n",
      "See the caveats in the documentation: https://pandas.pydata.org/pandas-docs/stable/user_guide/indexing.html#returning-a-view-versus-a-copy\n",
      "  data_clean['lat_'+data_clean['city'][ind]][ind]=data_clean['lat'][ind]\n",
      "/var/folders/zv/hzjbp8kd1l103x8tgl0s00z80000gn/T/ipykernel_9187/1713729126.py:3: SettingWithCopyWarning: \n",
      "A value is trying to be set on a copy of a slice from a DataFrame\n",
      "\n",
      "See the caveats in the documentation: https://pandas.pydata.org/pandas-docs/stable/user_guide/indexing.html#returning-a-view-versus-a-copy\n",
      "  data_clean['lng_'+data_clean['city'][ind]][ind]=data_clean['lng'][ind]\n",
      "/var/folders/zv/hzjbp8kd1l103x8tgl0s00z80000gn/T/ipykernel_9187/1713729126.py:2: SettingWithCopyWarning: \n",
      "A value is trying to be set on a copy of a slice from a DataFrame\n",
      "\n",
      "See the caveats in the documentation: https://pandas.pydata.org/pandas-docs/stable/user_guide/indexing.html#returning-a-view-versus-a-copy\n",
      "  data_clean['lat_'+data_clean['city'][ind]][ind]=data_clean['lat'][ind]\n",
      "/var/folders/zv/hzjbp8kd1l103x8tgl0s00z80000gn/T/ipykernel_9187/1713729126.py:3: SettingWithCopyWarning: \n",
      "A value is trying to be set on a copy of a slice from a DataFrame\n",
      "\n",
      "See the caveats in the documentation: https://pandas.pydata.org/pandas-docs/stable/user_guide/indexing.html#returning-a-view-versus-a-copy\n",
      "  data_clean['lng_'+data_clean['city'][ind]][ind]=data_clean['lng'][ind]\n"
     ]
    }
   ],
   "source": [
    "for ind in data_clean.index:\n",
    "    data_clean['lat_'+data_clean['city'][ind]][ind]=data_clean['lat'][ind]\n",
    "    data_clean['lng_'+data_clean['city'][ind]][ind]=data_clean['lng'][ind]\n"
   ]
  },
  {
   "cell_type": "code",
   "execution_count": 13,
   "id": "e50305e5",
   "metadata": {},
   "outputs": [],
   "source": [
    "data_clean.drop(columns=['lng','lat'],inplace=True)"
   ]
  },
  {
   "cell_type": "code",
   "execution_count": 14,
   "id": "b07fbc9b",
   "metadata": {},
   "outputs": [
    {
     "data": {
      "text/plain": [
       "Index(['index', 'realSum', 'room_type', 'room_shared', 'room_private',\n",
       "       'person_capacity', 'host_is_superhost', 'multi', 'biz',\n",
       "       'cleanliness_rating', 'guest_satisfaction_overall', 'bedrooms', 'dist',\n",
       "       'metro_dist', 'attr_index', 'attr_index_norm', 'rest_index',\n",
       "       'rest_index_norm', 'city', 'type', 'lat_Amsterdam', 'lng_Amsterdam',\n",
       "       'lat_Athens', 'lng_Athens', 'lat_Barcelona', 'lng_Barcelona',\n",
       "       'lat_Berlin', 'lng_Berlin', 'lat_Budapest', 'lng_Budapest',\n",
       "       'lat_Lisbon', 'lng_Lisbon', 'lat_London', 'lng_London', 'lat_Paris',\n",
       "       'lng_Paris', 'lat_Rome', 'lng_Rome', 'lat_Vienna', 'lng_Vienna'],\n",
       "      dtype='object')"
      ]
     },
     "execution_count": 14,
     "metadata": {},
     "output_type": "execute_result"
    }
   ],
   "source": [
    "data_clean.columns"
   ]
  },
  {
   "attachments": {},
   "cell_type": "markdown",
   "id": "1f89a7b4",
   "metadata": {},
   "source": [
    "### Resampling protocol\n"
   ]
  },
  {
   "cell_type": "code",
   "execution_count": 15,
   "id": "7a1a46c6",
   "metadata": {},
   "outputs": [],
   "source": [
    "X = data_clean.loc[:,data_clean.columns != 'realSum']\n",
    "y = data_clean['realSum']"
   ]
  },
  {
   "cell_type": "code",
   "execution_count": 16,
   "id": "f6b8b020",
   "metadata": {},
   "outputs": [],
   "source": [
    "from sklearn.model_selection import train_test_split,  KFold, cross_val_score\n",
    "from sklearn.linear_model import LinearRegression, Ridge, RidgeCV, Lasso, LassoCV\n",
    "from sklearn.metrics import mean_absolute_error, r2_score\n",
    "from sklearn.preprocessing import  StandardScaler\n",
    "\n",
    "from statsmodels.genmod.generalized_linear_model import GLM\n",
    "import statsmodels.api as sm\n",
    "from scipy import stats\n"
   ]
  },
  {
   "cell_type": "code",
   "execution_count": 17,
   "id": "4e1d7f76",
   "metadata": {},
   "outputs": [],
   "source": [
    "numerical_colums=[\n",
    " 'person_capacity',\n",
    " 'cleanliness_rating',\n",
    " 'guest_satisfaction_overall',\n",
    " 'bedrooms',\n",
    " 'dist',\n",
    " 'attr_index',\n",
    " 'rest_index','lat_Athens', 'lng_Athens',\n",
    "       'lat_Barcelona', 'lng_Barcelona', 'lat_Berlin', 'lng_Berlin',\n",
    "       'lat_Budapest', 'lng_Budapest', 'lat_Lisbon', 'lng_Lisbon',\n",
    "       'lat_London', 'lng_London', 'lat_Paris', 'lng_Paris', 'lat_Rome',\n",
    "       'lng_Rome', 'lat_Vienna', 'lng_Vienna', 'lat_Amsterdam',\n",
    "       'lng_Amsterdam']"
   ]
  },
  {
   "cell_type": "code",
   "execution_count": 18,
   "id": "c51ae9be",
   "metadata": {},
   "outputs": [
    {
     "name": "stderr",
     "output_type": "stream",
     "text": [
      "/var/folders/zv/hzjbp8kd1l103x8tgl0s00z80000gn/T/ipykernel_9187/2627953380.py:2: SettingWithCopyWarning: \n",
      "A value is trying to be set on a copy of a slice from a DataFrame\n",
      "\n",
      "See the caveats in the documentation: https://pandas.pydata.org/pandas-docs/stable/user_guide/indexing.html#returning-a-view-versus-a-copy\n",
      "  X[i].replace([False, True],[0,1],inplace=True)\n"
     ]
    }
   ],
   "source": [
    "for i in [\"room_shared\",\t\"room_private\",\t\"host_is_superhost\"]:\n",
    "    X[i].replace([False, True],[0,1],inplace=True)"
   ]
  },
  {
   "cell_type": "code",
   "execution_count": 19,
   "id": "503faa27",
   "metadata": {},
   "outputs": [],
   "source": [
    "for column in [ \"city\", \"type\"]:\n",
    "    X_one_hot = pd.get_dummies(X[column] , dtype=int, drop_first=False)\n",
    "    X = pd.concat([X, X_one_hot], axis='columns')\n",
    "\n",
    "# drop the values\n",
    "X= X.drop([\"room_type\", \"city\", \"type\"], axis='columns')"
   ]
  },
  {
   "cell_type": "code",
   "execution_count": 58,
   "id": "641af671",
   "metadata": {},
   "outputs": [],
   "source": [
    "new_columns=[ \n",
    "    'host_is_superhost',          \n",
    "       'multi',\n",
    "         'biz',  \n",
    "         'guest_satisfaction_overall',\n",
    "         'cleanliness_rating',\n",
    "        'dist', \n",
    "        'metro_dist',\n",
    "        'person_capacity',\n",
    "        'bedrooms',\n",
    "        'attr_index_norm',\n",
    "        'rest_index_norm', \n",
    "       'room_shared',\n",
    "         'room_private',\n",
    "       'Athens', 'Barcelona', 'Berlin', 'Budapest', 'Lisbon', 'London',\n",
    "       'Paris', 'Rome', 'Vienna',\n",
    "     #   'Weekends' ,\n",
    "   #    'lat_Athens', 'lng_Athens','lat_Barcelona', 'lng_Barcelona', 'lat_Berlin', 'lng_Berlin','lat_Budapest', 'lng_Budapest', 'lat_Lisbon', 'lng_Lisbon','lat_London', 'lng_London', 'lat_Paris', 'lng_Paris', 'lat_Rome', 'lng_Rome', 'lat_Vienna', 'lng_Vienna', 'lat_Amsterdam',  'lng_Amsterdam'\n",
    " ]\n",
    "X_new= X[new_columns]\n"
   ]
  },
  {
   "cell_type": "code",
   "execution_count": 59,
   "id": "27dd1dcd",
   "metadata": {},
   "outputs": [
    {
     "data": {
      "text/plain": [
       "Index(['index', 'room_shared', 'room_private', 'person_capacity',\n",
       "       'host_is_superhost', 'multi', 'biz', 'cleanliness_rating',\n",
       "       'guest_satisfaction_overall', 'bedrooms', 'dist', 'metro_dist',\n",
       "       'attr_index', 'attr_index_norm', 'rest_index', 'rest_index_norm',\n",
       "       'lat_Amsterdam', 'lng_Amsterdam', 'lat_Athens', 'lng_Athens',\n",
       "       'lat_Barcelona', 'lng_Barcelona', 'lat_Berlin', 'lng_Berlin',\n",
       "       'lat_Budapest', 'lng_Budapest', 'lat_Lisbon', 'lng_Lisbon',\n",
       "       'lat_London', 'lng_London', 'lat_Paris', 'lng_Paris', 'lat_Rome',\n",
       "       'lng_Rome', 'lat_Vienna', 'lng_Vienna', 'Amsterdam', 'Athens',\n",
       "       'Barcelona', 'Berlin', 'Budapest', 'Lisbon', 'London', 'Paris', 'Rome',\n",
       "       'Vienna', 'Weekdays', 'realSum'],\n",
       "      dtype='object')"
      ]
     },
     "execution_count": 59,
     "metadata": {},
     "output_type": "execute_result"
    }
   ],
   "source": [
    "X.columns"
   ]
  },
  {
   "cell_type": "code",
   "execution_count": 60,
   "id": "8d462c1a",
   "metadata": {},
   "outputs": [],
   "source": [
    "numerical_colums_positive= [\n",
    "'metro_dist']"
   ]
  },
  {
   "cell_type": "code",
   "execution_count": 61,
   "id": "07474bd4",
   "metadata": {},
   "outputs": [],
   "source": [
    "prevdata=X\n",
    "prevdata[\"realSum\"]=y"
   ]
  },
  {
   "cell_type": "code",
   "execution_count": 62,
   "id": "11ca20e5",
   "metadata": {},
   "outputs": [
    {
     "name": "stderr",
     "output_type": "stream",
     "text": [
      "/Users/lauraforerocamacho/Library/Python/3.8/lib/python/site-packages/sklearn/base.py:409: UserWarning: X does not have valid feature names, but IsolationForest was fitted with feature names\n",
      "  warnings.warn(\n"
     ]
    },
    {
     "data": {
      "text/html": [
       "<style>#sk-container-id-11 {color: black;background-color: white;}#sk-container-id-11 pre{padding: 0;}#sk-container-id-11 div.sk-toggleable {background-color: white;}#sk-container-id-11 label.sk-toggleable__label {cursor: pointer;display: block;width: 100%;margin-bottom: 0;padding: 0.3em;box-sizing: border-box;text-align: center;}#sk-container-id-11 label.sk-toggleable__label-arrow:before {content: \"▸\";float: left;margin-right: 0.25em;color: #696969;}#sk-container-id-11 label.sk-toggleable__label-arrow:hover:before {color: black;}#sk-container-id-11 div.sk-estimator:hover label.sk-toggleable__label-arrow:before {color: black;}#sk-container-id-11 div.sk-toggleable__content {max-height: 0;max-width: 0;overflow: hidden;text-align: left;background-color: #f0f8ff;}#sk-container-id-11 div.sk-toggleable__content pre {margin: 0.2em;color: black;border-radius: 0.25em;background-color: #f0f8ff;}#sk-container-id-11 input.sk-toggleable__control:checked~div.sk-toggleable__content {max-height: 200px;max-width: 100%;overflow: auto;}#sk-container-id-11 input.sk-toggleable__control:checked~label.sk-toggleable__label-arrow:before {content: \"▾\";}#sk-container-id-11 div.sk-estimator input.sk-toggleable__control:checked~label.sk-toggleable__label {background-color: #d4ebff;}#sk-container-id-11 div.sk-label input.sk-toggleable__control:checked~label.sk-toggleable__label {background-color: #d4ebff;}#sk-container-id-11 input.sk-hidden--visually {border: 0;clip: rect(1px 1px 1px 1px);clip: rect(1px, 1px, 1px, 1px);height: 1px;margin: -1px;overflow: hidden;padding: 0;position: absolute;width: 1px;}#sk-container-id-11 div.sk-estimator {font-family: monospace;background-color: #f0f8ff;border: 1px dotted black;border-radius: 0.25em;box-sizing: border-box;margin-bottom: 0.5em;}#sk-container-id-11 div.sk-estimator:hover {background-color: #d4ebff;}#sk-container-id-11 div.sk-parallel-item::after {content: \"\";width: 100%;border-bottom: 1px solid gray;flex-grow: 1;}#sk-container-id-11 div.sk-label:hover label.sk-toggleable__label {background-color: #d4ebff;}#sk-container-id-11 div.sk-serial::before {content: \"\";position: absolute;border-left: 1px solid gray;box-sizing: border-box;top: 0;bottom: 0;left: 50%;z-index: 0;}#sk-container-id-11 div.sk-serial {display: flex;flex-direction: column;align-items: center;background-color: white;padding-right: 0.2em;padding-left: 0.2em;position: relative;}#sk-container-id-11 div.sk-item {position: relative;z-index: 1;}#sk-container-id-11 div.sk-parallel {display: flex;align-items: stretch;justify-content: center;background-color: white;position: relative;}#sk-container-id-11 div.sk-item::before, #sk-container-id-11 div.sk-parallel-item::before {content: \"\";position: absolute;border-left: 1px solid gray;box-sizing: border-box;top: 0;bottom: 0;left: 50%;z-index: -1;}#sk-container-id-11 div.sk-parallel-item {display: flex;flex-direction: column;z-index: 1;position: relative;background-color: white;}#sk-container-id-11 div.sk-parallel-item:first-child::after {align-self: flex-end;width: 50%;}#sk-container-id-11 div.sk-parallel-item:last-child::after {align-self: flex-start;width: 50%;}#sk-container-id-11 div.sk-parallel-item:only-child::after {width: 0;}#sk-container-id-11 div.sk-dashed-wrapped {border: 1px dashed gray;margin: 0 0.4em 0.5em 0.4em;box-sizing: border-box;padding-bottom: 0.4em;background-color: white;}#sk-container-id-11 div.sk-label label {font-family: monospace;font-weight: bold;display: inline-block;line-height: 1.2em;}#sk-container-id-11 div.sk-label-container {text-align: center;}#sk-container-id-11 div.sk-container {/* jupyter's `normalize.less` sets `[hidden] { display: none; }` but bootstrap.min.css set `[hidden] { display: none !important; }` so we also need the `!important` here to be able to override the default hidden behavior on the sphinx rendered scikit-learn.org. See: https://github.com/scikit-learn/scikit-learn/issues/21755 */display: inline-block !important;position: relative;}#sk-container-id-11 div.sk-text-repr-fallback {display: none;}</style><div id=\"sk-container-id-11\" class=\"sk-top-container\"><div class=\"sk-text-repr-fallback\"><pre>IsolationForest(contamination=0.05, random_state=42)</pre><b>In a Jupyter environment, please rerun this cell to show the HTML representation or trust the notebook. <br />On GitHub, the HTML representation is unable to render, please try loading this page with nbviewer.org.</b></div><div class=\"sk-container\" hidden><div class=\"sk-item\"><div class=\"sk-estimator sk-toggleable\"><input class=\"sk-toggleable__control sk-hidden--visually\" id=\"sk-estimator-id-11\" type=\"checkbox\" checked><label for=\"sk-estimator-id-11\" class=\"sk-toggleable__label sk-toggleable__label-arrow\">IsolationForest</label><div class=\"sk-toggleable__content\"><pre>IsolationForest(contamination=0.05, random_state=42)</pre></div></div></div></div></div>"
      ],
      "text/plain": [
       "IsolationForest(contamination=0.05, random_state=42)"
      ]
     },
     "execution_count": 62,
     "metadata": {},
     "output_type": "execute_result"
    }
   ],
   "source": [
    "import pandas as pd\n",
    "from sklearn.ensemble import IsolationForest\n",
    "\n",
    "# Assuming you have the 'prevdata' DataFrame\n",
    "contamination = 0.05 \n",
    "# Specify the columns on which you want to detect outliers\n",
    "columns_to_check = prevdata.columns  # Replace with your actual column names\n",
    "\n",
    "# Create a subset DataFrame with only the columns to check for outliers\n",
    "subset_df = prevdata[columns_to_check]\n",
    "\n",
    "# Create an IsolationForest model\n",
    "isolation_forest = IsolationForest(contamination=contamination, random_state=42)\n",
    "\n",
    "# Fit the IsolationForest model to the data\n",
    "isolation_forest.fit(subset_df)\n",
    "\n",
    "# Predict the outlier labels for each row\n",
    "outlier_labels = isolation_forest.predict(subset_df)\n",
    "\n",
    "# Filter the DataFrame to keep only non-outlier rows\n",
    "filtered_df = prevdata[outlier_labels != -1]\n"
   ]
  },
  {
   "cell_type": "code",
   "execution_count": 63,
   "id": "481c3aa0",
   "metadata": {},
   "outputs": [],
   "source": [
    "\n",
    "filtered_df = filtered_df.reset_index()"
   ]
  },
  {
   "cell_type": "code",
   "execution_count": 64,
   "id": "7ce29623",
   "metadata": {},
   "outputs": [],
   "source": [
    "X_n = filtered_df.loc[:,filtered_df.columns != 'realSum']\n",
    "y_n = filtered_df['realSum']"
   ]
  },
  {
   "cell_type": "code",
   "execution_count": 65,
   "id": "051e39bc",
   "metadata": {},
   "outputs": [
    {
     "name": "stdout",
     "output_type": "stream",
     "text": [
      "Original shape:(16957, 48)\n",
      "New shape:(16957, 48)\n",
      "Original shape:(7268, 48)\n",
      "New shape:(7268, 48)\n"
     ]
    }
   ],
   "source": [
    "from sklearn.preprocessing import PowerTransformer\n",
    "\n",
    "\n",
    "def categorical_preprocessing(X, y,scaler=None):\n",
    "    print('Original shape:{}'.format(X.shape))\n",
    "    X[numerical_colums_positive] = np.log(X[numerical_colums_positive] + 0.000001)\n",
    "    print('New shape:{}'.format(X.shape))\n",
    "    return X, y, scaler\n",
    "\n",
    "X_train, X_test, y_train, y_test = train_test_split(X_n, y_n, test_size=0.30, random_state=42,\n",
    "                                                    stratify=X_n[[           \n",
    "               \n",
    "        'room_shared', 'room_private' , 'multi'\n",
    "       ]])\n",
    "X_train, y_train, scaler = categorical_preprocessing(X_train,y_train)\n",
    "X_test, y_test, _ = categorical_preprocessing(X_test,y_test,scaler)"
   ]
  },
  {
   "cell_type": "code",
   "execution_count": 66,
   "id": "28f6d9d1",
   "metadata": {},
   "outputs": [
    {
     "name": "stdout",
     "output_type": "stream",
     "text": [
      "Mean squared error using cross-validation:  0.23004855194707105\n",
      "R2 score using cross-validation:  0.6945085773187559\n"
     ]
    },
    {
     "data": {
      "text/html": [
       "<style>#sk-container-id-12 {color: black;background-color: white;}#sk-container-id-12 pre{padding: 0;}#sk-container-id-12 div.sk-toggleable {background-color: white;}#sk-container-id-12 label.sk-toggleable__label {cursor: pointer;display: block;width: 100%;margin-bottom: 0;padding: 0.3em;box-sizing: border-box;text-align: center;}#sk-container-id-12 label.sk-toggleable__label-arrow:before {content: \"▸\";float: left;margin-right: 0.25em;color: #696969;}#sk-container-id-12 label.sk-toggleable__label-arrow:hover:before {color: black;}#sk-container-id-12 div.sk-estimator:hover label.sk-toggleable__label-arrow:before {color: black;}#sk-container-id-12 div.sk-toggleable__content {max-height: 0;max-width: 0;overflow: hidden;text-align: left;background-color: #f0f8ff;}#sk-container-id-12 div.sk-toggleable__content pre {margin: 0.2em;color: black;border-radius: 0.25em;background-color: #f0f8ff;}#sk-container-id-12 input.sk-toggleable__control:checked~div.sk-toggleable__content {max-height: 200px;max-width: 100%;overflow: auto;}#sk-container-id-12 input.sk-toggleable__control:checked~label.sk-toggleable__label-arrow:before {content: \"▾\";}#sk-container-id-12 div.sk-estimator input.sk-toggleable__control:checked~label.sk-toggleable__label {background-color: #d4ebff;}#sk-container-id-12 div.sk-label input.sk-toggleable__control:checked~label.sk-toggleable__label {background-color: #d4ebff;}#sk-container-id-12 input.sk-hidden--visually {border: 0;clip: rect(1px 1px 1px 1px);clip: rect(1px, 1px, 1px, 1px);height: 1px;margin: -1px;overflow: hidden;padding: 0;position: absolute;width: 1px;}#sk-container-id-12 div.sk-estimator {font-family: monospace;background-color: #f0f8ff;border: 1px dotted black;border-radius: 0.25em;box-sizing: border-box;margin-bottom: 0.5em;}#sk-container-id-12 div.sk-estimator:hover {background-color: #d4ebff;}#sk-container-id-12 div.sk-parallel-item::after {content: \"\";width: 100%;border-bottom: 1px solid gray;flex-grow: 1;}#sk-container-id-12 div.sk-label:hover label.sk-toggleable__label {background-color: #d4ebff;}#sk-container-id-12 div.sk-serial::before {content: \"\";position: absolute;border-left: 1px solid gray;box-sizing: border-box;top: 0;bottom: 0;left: 50%;z-index: 0;}#sk-container-id-12 div.sk-serial {display: flex;flex-direction: column;align-items: center;background-color: white;padding-right: 0.2em;padding-left: 0.2em;position: relative;}#sk-container-id-12 div.sk-item {position: relative;z-index: 1;}#sk-container-id-12 div.sk-parallel {display: flex;align-items: stretch;justify-content: center;background-color: white;position: relative;}#sk-container-id-12 div.sk-item::before, #sk-container-id-12 div.sk-parallel-item::before {content: \"\";position: absolute;border-left: 1px solid gray;box-sizing: border-box;top: 0;bottom: 0;left: 50%;z-index: -1;}#sk-container-id-12 div.sk-parallel-item {display: flex;flex-direction: column;z-index: 1;position: relative;background-color: white;}#sk-container-id-12 div.sk-parallel-item:first-child::after {align-self: flex-end;width: 50%;}#sk-container-id-12 div.sk-parallel-item:last-child::after {align-self: flex-start;width: 50%;}#sk-container-id-12 div.sk-parallel-item:only-child::after {width: 0;}#sk-container-id-12 div.sk-dashed-wrapped {border: 1px dashed gray;margin: 0 0.4em 0.5em 0.4em;box-sizing: border-box;padding-bottom: 0.4em;background-color: white;}#sk-container-id-12 div.sk-label label {font-family: monospace;font-weight: bold;display: inline-block;line-height: 1.2em;}#sk-container-id-12 div.sk-label-container {text-align: center;}#sk-container-id-12 div.sk-container {/* jupyter's `normalize.less` sets `[hidden] { display: none; }` but bootstrap.min.css set `[hidden] { display: none !important; }` so we also need the `!important` here to be able to override the default hidden behavior on the sphinx rendered scikit-learn.org. See: https://github.com/scikit-learn/scikit-learn/issues/21755 */display: inline-block !important;position: relative;}#sk-container-id-12 div.sk-text-repr-fallback {display: none;}</style><div id=\"sk-container-id-12\" class=\"sk-top-container\"><div class=\"sk-text-repr-fallback\"><pre>GradientBoostingRegressor(random_state=0)</pre><b>In a Jupyter environment, please rerun this cell to show the HTML representation or trust the notebook. <br />On GitHub, the HTML representation is unable to render, please try loading this page with nbviewer.org.</b></div><div class=\"sk-container\" hidden><div class=\"sk-item\"><div class=\"sk-estimator sk-toggleable\"><input class=\"sk-toggleable__control sk-hidden--visually\" id=\"sk-estimator-id-12\" type=\"checkbox\" checked><label for=\"sk-estimator-id-12\" class=\"sk-toggleable__label sk-toggleable__label-arrow\">GradientBoostingRegressor</label><div class=\"sk-toggleable__content\"><pre>GradientBoostingRegressor(random_state=0)</pre></div></div></div></div></div>"
      ],
      "text/plain": [
       "GradientBoostingRegressor(random_state=0)"
      ]
     },
     "execution_count": 66,
     "metadata": {},
     "output_type": "execute_result"
    },
    {
     "name": "stdout",
     "output_type": "stream",
     "text": [
      "Mean squared error on test set:  0.23297914055026367\n",
      "R2 score on test set:  0.6845747393528882\n",
      "Mean absoute error on test set:  68.25887818522509\n",
      "Mean squared error on test set:  68.25887818522509\n",
      "R2 score on test set:  0.20872907820245168\n"
     ]
    }
   ],
   "source": [
    "from sklearn.ensemble import GradientBoostingRegressor\n",
    "from sklearn.utils.class_weight import compute_sample_weight\n",
    "\n",
    "sample_weights_train = compute_sample_weight(class_weight='balanced', y=y_train)\n",
    "\n",
    "#lr_one_hot = GradientBoostingRegressor(loss='huber', alpha=0.9, n_estimators=100, random_state=0)\n",
    "model = GradientBoostingRegressor(random_state=0)\n",
    "\n",
    "y_train_t= np.log(y_train + 0.000001)\n",
    "y_test_t= np.log(y_test + 0.000001)\n",
    "\n",
    "# Calculate the mean squared error using cross-validation\n",
    "mse_scores = -1 * cross_val_score(model, X_train, y_train_t, cv=10, scoring='neg_mean_absolute_error')\n",
    "print(\"Mean squared error using cross-validation: \", mse_scores.mean())\n",
    "\n",
    "# Calculate the R2 score using cross-validation\n",
    "r2_scores = cross_val_score(model, X_train, y_train_t, cv=10, scoring='r2')\n",
    "print(\"R2 score using cross-validation: \", r2_scores.mean())\n",
    "\n",
    "# Train the model on the full training set\n",
    "model.fit(X_train, y_train_t)\n",
    "\n",
    "# Predict on the test set and calculate metrics\n",
    "y_pred = model.predict(X_test)\n",
    "mse = mean_absolute_error(y_test_t, y_pred)\n",
    "r2 = r2_score(y_test_t, y_pred)\n",
    "print(\"Mean squared error on test set: \", mse)\n",
    "print(\"R2 score on test set: \", r2)\n",
    "\n",
    "\n",
    "# Predict on the test set and calculate metrics\n",
    "y_pred =np.exp(y_pred) - 0.000001 \n",
    "mse = mean_absolute_error(y_test, y_pred)\n",
    "msa = mean_absolute_error(y_test, y_pred)\n",
    "r2 = r2_score(y_test, y_pred)\n",
    "\n",
    "print(\"Mean absoute error on test set: \", msa)\n",
    "print(\"Mean squared error on test set: \", mse)\n",
    "print(\"R2 score on test set: \", r2)"
   ]
  },
  {
   "cell_type": "code",
   "execution_count": 59,
   "id": "89ca2afa",
   "metadata": {},
   "outputs": [
    {
     "name": "stdout",
     "output_type": "stream",
     "text": [
      "Mean squared error using cross-validation:  80.14739419993822\n",
      "R2 score using cross-validation:  0.40636911644304413\n"
     ]
    },
    {
     "data": {
      "text/html": [
       "<style>#sk-container-id-6 {color: black;background-color: white;}#sk-container-id-6 pre{padding: 0;}#sk-container-id-6 div.sk-toggleable {background-color: white;}#sk-container-id-6 label.sk-toggleable__label {cursor: pointer;display: block;width: 100%;margin-bottom: 0;padding: 0.3em;box-sizing: border-box;text-align: center;}#sk-container-id-6 label.sk-toggleable__label-arrow:before {content: \"▸\";float: left;margin-right: 0.25em;color: #696969;}#sk-container-id-6 label.sk-toggleable__label-arrow:hover:before {color: black;}#sk-container-id-6 div.sk-estimator:hover label.sk-toggleable__label-arrow:before {color: black;}#sk-container-id-6 div.sk-toggleable__content {max-height: 0;max-width: 0;overflow: hidden;text-align: left;background-color: #f0f8ff;}#sk-container-id-6 div.sk-toggleable__content pre {margin: 0.2em;color: black;border-radius: 0.25em;background-color: #f0f8ff;}#sk-container-id-6 input.sk-toggleable__control:checked~div.sk-toggleable__content {max-height: 200px;max-width: 100%;overflow: auto;}#sk-container-id-6 input.sk-toggleable__control:checked~label.sk-toggleable__label-arrow:before {content: \"▾\";}#sk-container-id-6 div.sk-estimator input.sk-toggleable__control:checked~label.sk-toggleable__label {background-color: #d4ebff;}#sk-container-id-6 div.sk-label input.sk-toggleable__control:checked~label.sk-toggleable__label {background-color: #d4ebff;}#sk-container-id-6 input.sk-hidden--visually {border: 0;clip: rect(1px 1px 1px 1px);clip: rect(1px, 1px, 1px, 1px);height: 1px;margin: -1px;overflow: hidden;padding: 0;position: absolute;width: 1px;}#sk-container-id-6 div.sk-estimator {font-family: monospace;background-color: #f0f8ff;border: 1px dotted black;border-radius: 0.25em;box-sizing: border-box;margin-bottom: 0.5em;}#sk-container-id-6 div.sk-estimator:hover {background-color: #d4ebff;}#sk-container-id-6 div.sk-parallel-item::after {content: \"\";width: 100%;border-bottom: 1px solid gray;flex-grow: 1;}#sk-container-id-6 div.sk-label:hover label.sk-toggleable__label {background-color: #d4ebff;}#sk-container-id-6 div.sk-serial::before {content: \"\";position: absolute;border-left: 1px solid gray;box-sizing: border-box;top: 0;bottom: 0;left: 50%;z-index: 0;}#sk-container-id-6 div.sk-serial {display: flex;flex-direction: column;align-items: center;background-color: white;padding-right: 0.2em;padding-left: 0.2em;position: relative;}#sk-container-id-6 div.sk-item {position: relative;z-index: 1;}#sk-container-id-6 div.sk-parallel {display: flex;align-items: stretch;justify-content: center;background-color: white;position: relative;}#sk-container-id-6 div.sk-item::before, #sk-container-id-6 div.sk-parallel-item::before {content: \"\";position: absolute;border-left: 1px solid gray;box-sizing: border-box;top: 0;bottom: 0;left: 50%;z-index: -1;}#sk-container-id-6 div.sk-parallel-item {display: flex;flex-direction: column;z-index: 1;position: relative;background-color: white;}#sk-container-id-6 div.sk-parallel-item:first-child::after {align-self: flex-end;width: 50%;}#sk-container-id-6 div.sk-parallel-item:last-child::after {align-self: flex-start;width: 50%;}#sk-container-id-6 div.sk-parallel-item:only-child::after {width: 0;}#sk-container-id-6 div.sk-dashed-wrapped {border: 1px dashed gray;margin: 0 0.4em 0.5em 0.4em;box-sizing: border-box;padding-bottom: 0.4em;background-color: white;}#sk-container-id-6 div.sk-label label {font-family: monospace;font-weight: bold;display: inline-block;line-height: 1.2em;}#sk-container-id-6 div.sk-label-container {text-align: center;}#sk-container-id-6 div.sk-container {/* jupyter's `normalize.less` sets `[hidden] { display: none; }` but bootstrap.min.css set `[hidden] { display: none !important; }` so we also need the `!important` here to be able to override the default hidden behavior on the sphinx rendered scikit-learn.org. See: https://github.com/scikit-learn/scikit-learn/issues/21755 */display: inline-block !important;position: relative;}#sk-container-id-6 div.sk-text-repr-fallback {display: none;}</style><div id=\"sk-container-id-6\" class=\"sk-top-container\"><div class=\"sk-text-repr-fallback\"><pre>GradientBoostingRegressor(random_state=0)</pre><b>In a Jupyter environment, please rerun this cell to show the HTML representation or trust the notebook. <br />On GitHub, the HTML representation is unable to render, please try loading this page with nbviewer.org.</b></div><div class=\"sk-container\" hidden><div class=\"sk-item\"><div class=\"sk-estimator sk-toggleable\"><input class=\"sk-toggleable__control sk-hidden--visually\" id=\"sk-estimator-id-6\" type=\"checkbox\" checked><label for=\"sk-estimator-id-6\" class=\"sk-toggleable__label sk-toggleable__label-arrow\">GradientBoostingRegressor</label><div class=\"sk-toggleable__content\"><pre>GradientBoostingRegressor(random_state=0)</pre></div></div></div></div></div>"
      ],
      "text/plain": [
       "GradientBoostingRegressor(random_state=0)"
      ]
     },
     "execution_count": 59,
     "metadata": {},
     "output_type": "execute_result"
    },
    {
     "name": "stdout",
     "output_type": "stream",
     "text": [
      "Mean absoute error on test set:  107.80565142574163\n",
      "Mean squared error on test set:  107.80565142574163\n",
      "R2 score on test set:  0.3466662695121816\n"
     ]
    }
   ],
   "source": [
    "from sklearn.ensemble import GradientBoostingRegressor\n",
    "from sklearn.utils.class_weight import compute_sample_weight\n",
    "from sklearn.metrics import mean_absolute_error\n",
    "\n",
    "sample_weights_train = compute_sample_weight(class_weight='balanced', y=y_train)\n",
    "\n",
    "#lr_one_hot = GradientBoostingRegressor(loss='huber', alpha=0.9, n_estimators=100, random_state=0)\n",
    "model = GradientBoostingRegressor(random_state=0)\n",
    "\n",
    "# Calculate the mean squared error using cross-validation\n",
    "mse_scores = -1 * cross_val_score(model, X_train, y_train, cv=10, scoring='neg_mean_absolute_error')\n",
    "print(\"Mean squared error using cross-validation: \", mse_scores.mean())\n",
    "\n",
    "# Calculate the R2 score using cross-validation\n",
    "r2_scores = cross_val_score(model, X_train, y_train, cv=10, scoring='r2')\n",
    "print(\"R2 score using cross-validation: \", r2_scores.mean())\n",
    "\n",
    "# Train the model on the full training set\n",
    "model.fit(X_train, y_train, sample_weight=sample_weights_train)\n",
    "\n",
    "# Predict on the test set and calculate metrics\n",
    "y_pred = model.predict(X_test)\n",
    "mse = mean_absolute_error(y_test, y_pred)\n",
    "msa = mean_absolute_error(y_test, y_pred)\n",
    "r2 = r2_score(y_test, y_pred)\n",
    "\n",
    "print(\"Mean absoute error on test set: \", msa)\n",
    "print(\"Mean squared error on test set: \", mse)\n",
    "print(\"R2 score on test set: \", r2)"
   ]
  },
  {
   "cell_type": "code",
   "execution_count": 61,
   "id": "645b5ed5",
   "metadata": {},
   "outputs": [
    {
     "name": "stdout",
     "output_type": "stream",
     "text": [
      "Mean squared error using cross-validation:  0.2522026068769293\n",
      "R2 score using cross-validation:  0.6700630713841995\n"
     ]
    },
    {
     "data": {
      "text/html": [
       "<style>#sk-container-id-8 {color: black;background-color: white;}#sk-container-id-8 pre{padding: 0;}#sk-container-id-8 div.sk-toggleable {background-color: white;}#sk-container-id-8 label.sk-toggleable__label {cursor: pointer;display: block;width: 100%;margin-bottom: 0;padding: 0.3em;box-sizing: border-box;text-align: center;}#sk-container-id-8 label.sk-toggleable__label-arrow:before {content: \"▸\";float: left;margin-right: 0.25em;color: #696969;}#sk-container-id-8 label.sk-toggleable__label-arrow:hover:before {color: black;}#sk-container-id-8 div.sk-estimator:hover label.sk-toggleable__label-arrow:before {color: black;}#sk-container-id-8 div.sk-toggleable__content {max-height: 0;max-width: 0;overflow: hidden;text-align: left;background-color: #f0f8ff;}#sk-container-id-8 div.sk-toggleable__content pre {margin: 0.2em;color: black;border-radius: 0.25em;background-color: #f0f8ff;}#sk-container-id-8 input.sk-toggleable__control:checked~div.sk-toggleable__content {max-height: 200px;max-width: 100%;overflow: auto;}#sk-container-id-8 input.sk-toggleable__control:checked~label.sk-toggleable__label-arrow:before {content: \"▾\";}#sk-container-id-8 div.sk-estimator input.sk-toggleable__control:checked~label.sk-toggleable__label {background-color: #d4ebff;}#sk-container-id-8 div.sk-label input.sk-toggleable__control:checked~label.sk-toggleable__label {background-color: #d4ebff;}#sk-container-id-8 input.sk-hidden--visually {border: 0;clip: rect(1px 1px 1px 1px);clip: rect(1px, 1px, 1px, 1px);height: 1px;margin: -1px;overflow: hidden;padding: 0;position: absolute;width: 1px;}#sk-container-id-8 div.sk-estimator {font-family: monospace;background-color: #f0f8ff;border: 1px dotted black;border-radius: 0.25em;box-sizing: border-box;margin-bottom: 0.5em;}#sk-container-id-8 div.sk-estimator:hover {background-color: #d4ebff;}#sk-container-id-8 div.sk-parallel-item::after {content: \"\";width: 100%;border-bottom: 1px solid gray;flex-grow: 1;}#sk-container-id-8 div.sk-label:hover label.sk-toggleable__label {background-color: #d4ebff;}#sk-container-id-8 div.sk-serial::before {content: \"\";position: absolute;border-left: 1px solid gray;box-sizing: border-box;top: 0;bottom: 0;left: 50%;z-index: 0;}#sk-container-id-8 div.sk-serial {display: flex;flex-direction: column;align-items: center;background-color: white;padding-right: 0.2em;padding-left: 0.2em;position: relative;}#sk-container-id-8 div.sk-item {position: relative;z-index: 1;}#sk-container-id-8 div.sk-parallel {display: flex;align-items: stretch;justify-content: center;background-color: white;position: relative;}#sk-container-id-8 div.sk-item::before, #sk-container-id-8 div.sk-parallel-item::before {content: \"\";position: absolute;border-left: 1px solid gray;box-sizing: border-box;top: 0;bottom: 0;left: 50%;z-index: -1;}#sk-container-id-8 div.sk-parallel-item {display: flex;flex-direction: column;z-index: 1;position: relative;background-color: white;}#sk-container-id-8 div.sk-parallel-item:first-child::after {align-self: flex-end;width: 50%;}#sk-container-id-8 div.sk-parallel-item:last-child::after {align-self: flex-start;width: 50%;}#sk-container-id-8 div.sk-parallel-item:only-child::after {width: 0;}#sk-container-id-8 div.sk-dashed-wrapped {border: 1px dashed gray;margin: 0 0.4em 0.5em 0.4em;box-sizing: border-box;padding-bottom: 0.4em;background-color: white;}#sk-container-id-8 div.sk-label label {font-family: monospace;font-weight: bold;display: inline-block;line-height: 1.2em;}#sk-container-id-8 div.sk-label-container {text-align: center;}#sk-container-id-8 div.sk-container {/* jupyter's `normalize.less` sets `[hidden] { display: none; }` but bootstrap.min.css set `[hidden] { display: none !important; }` so we also need the `!important` here to be able to override the default hidden behavior on the sphinx rendered scikit-learn.org. See: https://github.com/scikit-learn/scikit-learn/issues/21755 */display: inline-block !important;position: relative;}#sk-container-id-8 div.sk-text-repr-fallback {display: none;}</style><div id=\"sk-container-id-8\" class=\"sk-top-container\"><div class=\"sk-text-repr-fallback\"><pre>LinearRegression()</pre><b>In a Jupyter environment, please rerun this cell to show the HTML representation or trust the notebook. <br />On GitHub, the HTML representation is unable to render, please try loading this page with nbviewer.org.</b></div><div class=\"sk-container\" hidden><div class=\"sk-item\"><div class=\"sk-estimator sk-toggleable\"><input class=\"sk-toggleable__control sk-hidden--visually\" id=\"sk-estimator-id-8\" type=\"checkbox\" checked><label for=\"sk-estimator-id-8\" class=\"sk-toggleable__label sk-toggleable__label-arrow\">LinearRegression</label><div class=\"sk-toggleable__content\"><pre>LinearRegression()</pre></div></div></div></div></div>"
      ],
      "text/plain": [
       "LinearRegression()"
      ]
     },
     "execution_count": 61,
     "metadata": {},
     "output_type": "execute_result"
    },
    {
     "name": "stdout",
     "output_type": "stream",
     "text": [
      "Mean squared error on test set:  0.2795405068328783\n",
      "R2 score on test set:  0.6321497117236616\n",
      "Mean absoute error on test set:  85.49187873318148\n",
      "Mean squared error on test set:  85.49187873318148\n",
      "R2 score on test set:  0.3182960420933221\n"
     ]
    }
   ],
   "source": [
    "from sklearn.linear_model import LinearRegression\n",
    "\n",
    "model = LinearRegression()\n",
    "#lr_one_hot = GradientBoostingRegressor(loss='huber', alpha=0.9, n_estimators=100, random_state=0)\n",
    "\n",
    "y_train_t= np.log(y_train + 0.000001)\n",
    "y_test_t= np.log(y_test + 0.000001)\n",
    "\n",
    "# Calculate the mean squared error using cross-validation\n",
    "mse_scores = -1 * cross_val_score(model, X_train, y_train_t, cv=10, scoring='neg_mean_absolute_error')\n",
    "print(\"Mean squared error using cross-validation: \", mse_scores.mean())\n",
    "\n",
    "# Calculate the R2 score using cross-validation\n",
    "r2_scores = cross_val_score(model, X_train, y_train_t, cv=10, scoring='r2')\n",
    "print(\"R2 score using cross-validation: \", r2_scores.mean())\n",
    "\n",
    "# Train the model on the full training set\n",
    "model.fit(X_train, y_train_t, sample_weight=sample_weights_train)\n",
    "\n",
    "# Predict on the test set and calculate metrics\n",
    "y_pred = model.predict(X_test)\n",
    "mse = mean_absolute_error(y_test_t, y_pred)\n",
    "r2 = r2_score(y_test_t, y_pred)\n",
    "print(\"Mean squared error on test set: \", mse)\n",
    "print(\"R2 score on test set: \", r2)\n",
    "\n",
    "\n",
    "# Predict on the test set and calculate metrics\n",
    "y_pred =np.exp(y_pred) - 0.000001 \n",
    "mse = mean_absolute_error(y_test, y_pred)\n",
    "msa = mean_absolute_error(y_test, y_pred)\n",
    "r2 = r2_score(y_test, y_pred)\n",
    "\n",
    "print(\"Mean absoute error on test set: \", msa)\n",
    "print(\"Mean squared error on test set: \", mse)\n",
    "print(\"R2 score on test set: \", r2)"
   ]
  },
  {
   "cell_type": "code",
   "execution_count": 62,
   "id": "28aa6557",
   "metadata": {},
   "outputs": [
    {
     "data": {
      "text/plain": [
       "15513"
      ]
     },
     "execution_count": 62,
     "metadata": {},
     "output_type": "execute_result"
    }
   ],
   "source": [
    "len(y_test)"
   ]
  },
  {
   "cell_type": "code",
   "execution_count": 63,
   "id": "205739e2",
   "metadata": {},
   "outputs": [
    {
     "data": {
      "text/html": [
       "<style>#sk-container-id-9 {color: black;background-color: white;}#sk-container-id-9 pre{padding: 0;}#sk-container-id-9 div.sk-toggleable {background-color: white;}#sk-container-id-9 label.sk-toggleable__label {cursor: pointer;display: block;width: 100%;margin-bottom: 0;padding: 0.3em;box-sizing: border-box;text-align: center;}#sk-container-id-9 label.sk-toggleable__label-arrow:before {content: \"▸\";float: left;margin-right: 0.25em;color: #696969;}#sk-container-id-9 label.sk-toggleable__label-arrow:hover:before {color: black;}#sk-container-id-9 div.sk-estimator:hover label.sk-toggleable__label-arrow:before {color: black;}#sk-container-id-9 div.sk-toggleable__content {max-height: 0;max-width: 0;overflow: hidden;text-align: left;background-color: #f0f8ff;}#sk-container-id-9 div.sk-toggleable__content pre {margin: 0.2em;color: black;border-radius: 0.25em;background-color: #f0f8ff;}#sk-container-id-9 input.sk-toggleable__control:checked~div.sk-toggleable__content {max-height: 200px;max-width: 100%;overflow: auto;}#sk-container-id-9 input.sk-toggleable__control:checked~label.sk-toggleable__label-arrow:before {content: \"▾\";}#sk-container-id-9 div.sk-estimator input.sk-toggleable__control:checked~label.sk-toggleable__label {background-color: #d4ebff;}#sk-container-id-9 div.sk-label input.sk-toggleable__control:checked~label.sk-toggleable__label {background-color: #d4ebff;}#sk-container-id-9 input.sk-hidden--visually {border: 0;clip: rect(1px 1px 1px 1px);clip: rect(1px, 1px, 1px, 1px);height: 1px;margin: -1px;overflow: hidden;padding: 0;position: absolute;width: 1px;}#sk-container-id-9 div.sk-estimator {font-family: monospace;background-color: #f0f8ff;border: 1px dotted black;border-radius: 0.25em;box-sizing: border-box;margin-bottom: 0.5em;}#sk-container-id-9 div.sk-estimator:hover {background-color: #d4ebff;}#sk-container-id-9 div.sk-parallel-item::after {content: \"\";width: 100%;border-bottom: 1px solid gray;flex-grow: 1;}#sk-container-id-9 div.sk-label:hover label.sk-toggleable__label {background-color: #d4ebff;}#sk-container-id-9 div.sk-serial::before {content: \"\";position: absolute;border-left: 1px solid gray;box-sizing: border-box;top: 0;bottom: 0;left: 50%;z-index: 0;}#sk-container-id-9 div.sk-serial {display: flex;flex-direction: column;align-items: center;background-color: white;padding-right: 0.2em;padding-left: 0.2em;position: relative;}#sk-container-id-9 div.sk-item {position: relative;z-index: 1;}#sk-container-id-9 div.sk-parallel {display: flex;align-items: stretch;justify-content: center;background-color: white;position: relative;}#sk-container-id-9 div.sk-item::before, #sk-container-id-9 div.sk-parallel-item::before {content: \"\";position: absolute;border-left: 1px solid gray;box-sizing: border-box;top: 0;bottom: 0;left: 50%;z-index: -1;}#sk-container-id-9 div.sk-parallel-item {display: flex;flex-direction: column;z-index: 1;position: relative;background-color: white;}#sk-container-id-9 div.sk-parallel-item:first-child::after {align-self: flex-end;width: 50%;}#sk-container-id-9 div.sk-parallel-item:last-child::after {align-self: flex-start;width: 50%;}#sk-container-id-9 div.sk-parallel-item:only-child::after {width: 0;}#sk-container-id-9 div.sk-dashed-wrapped {border: 1px dashed gray;margin: 0 0.4em 0.5em 0.4em;box-sizing: border-box;padding-bottom: 0.4em;background-color: white;}#sk-container-id-9 div.sk-label label {font-family: monospace;font-weight: bold;display: inline-block;line-height: 1.2em;}#sk-container-id-9 div.sk-label-container {text-align: center;}#sk-container-id-9 div.sk-container {/* jupyter's `normalize.less` sets `[hidden] { display: none; }` but bootstrap.min.css set `[hidden] { display: none !important; }` so we also need the `!important` here to be able to override the default hidden behavior on the sphinx rendered scikit-learn.org. See: https://github.com/scikit-learn/scikit-learn/issues/21755 */display: inline-block !important;position: relative;}#sk-container-id-9 div.sk-text-repr-fallback {display: none;}</style><div id=\"sk-container-id-9\" class=\"sk-top-container\"><div class=\"sk-text-repr-fallback\"><pre>RidgeCV()</pre><b>In a Jupyter environment, please rerun this cell to show the HTML representation or trust the notebook. <br />On GitHub, the HTML representation is unable to render, please try loading this page with nbviewer.org.</b></div><div class=\"sk-container\" hidden><div class=\"sk-item\"><div class=\"sk-estimator sk-toggleable\"><input class=\"sk-toggleable__control sk-hidden--visually\" id=\"sk-estimator-id-9\" type=\"checkbox\" checked><label for=\"sk-estimator-id-9\" class=\"sk-toggleable__label sk-toggleable__label-arrow\">RidgeCV</label><div class=\"sk-toggleable__content\"><pre>RidgeCV()</pre></div></div></div></div></div>"
      ],
      "text/plain": [
       "RidgeCV()"
      ]
     },
     "execution_count": 63,
     "metadata": {},
     "output_type": "execute_result"
    },
    {
     "name": "stdout",
     "output_type": "stream",
     "text": [
      "Train MSE score: 0.22817942453972573\n",
      "Cross-Validation MSE score: 99.92477962459631\n",
      "Cross-Validation R2 score: 0.22817942453972573\n",
      "Mean squared error on test set:  101.62936555648417\n",
      "R2 score on test set:  0.25716346651655186\n"
     ]
    }
   ],
   "source": [
    "from sklearn.linear_model import RidgeCV\n",
    "\n",
    "lr_one_hot = RidgeCV()\n",
    "lr_one_hot.fit(X_train,y_train)\n",
    "\n",
    "r2_lr_one_hot_train = lr_one_hot.score(X_train,y_train)\n",
    "r2_lr_one_hot_cv = - cross_val_score(lr_one_hot, X_train,y_train, cv=10, scoring='neg_mean_absolute_error')\n",
    "cv_mse = r2_lr_one_hot_cv.mean()\n",
    "\n",
    "print('Train MSE score: {}\\nCross-Validation MSE score: {}'.format(r2_lr_one_hot_train, cv_mse))\n",
    "\n",
    "r2_lr_one_hot_cv = np.mean(cross_val_score(lr_one_hot, X_train,y_train, cv=10, scoring='r2'))\n",
    "\n",
    "print('Cross-Validation R2 score: {}'.format(r2_lr_one_hot_train, r2_lr_one_hot_cv))\n",
    "\n",
    "\n",
    "# Predict on the test set and calculate metrics\n",
    "y_pred = lr_one_hot.predict(X_test)\n",
    "mse = mean_absolute_error(y_test, y_pred)\n",
    "r2 = r2_score(y_test, y_pred)\n",
    "print(\"Mean squared error on test set: \", mse)\n",
    "print(\"R2 score on test set: \", r2)"
   ]
  },
  {
   "cell_type": "code",
   "execution_count": 64,
   "id": "b20588ca",
   "metadata": {},
   "outputs": [
    {
     "name": "stderr",
     "output_type": "stream",
     "text": [
      "/Users/lauraforerocamacho/Library/Python/3.8/lib/python/site-packages/sklearn/linear_model/_coordinate_descent.py:634: ConvergenceWarning: Objective did not converge. You might want to increase the number of iterations, check the scale of the features or consider increasing regularisation. Duality gap: 1.181e+06, tolerance: 3.973e+05\n",
      "  model = cd_fast.enet_coordinate_descent(\n"
     ]
    },
    {
     "data": {
      "text/html": [
       "<style>#sk-container-id-10 {color: black;background-color: white;}#sk-container-id-10 pre{padding: 0;}#sk-container-id-10 div.sk-toggleable {background-color: white;}#sk-container-id-10 label.sk-toggleable__label {cursor: pointer;display: block;width: 100%;margin-bottom: 0;padding: 0.3em;box-sizing: border-box;text-align: center;}#sk-container-id-10 label.sk-toggleable__label-arrow:before {content: \"▸\";float: left;margin-right: 0.25em;color: #696969;}#sk-container-id-10 label.sk-toggleable__label-arrow:hover:before {color: black;}#sk-container-id-10 div.sk-estimator:hover label.sk-toggleable__label-arrow:before {color: black;}#sk-container-id-10 div.sk-toggleable__content {max-height: 0;max-width: 0;overflow: hidden;text-align: left;background-color: #f0f8ff;}#sk-container-id-10 div.sk-toggleable__content pre {margin: 0.2em;color: black;border-radius: 0.25em;background-color: #f0f8ff;}#sk-container-id-10 input.sk-toggleable__control:checked~div.sk-toggleable__content {max-height: 200px;max-width: 100%;overflow: auto;}#sk-container-id-10 input.sk-toggleable__control:checked~label.sk-toggleable__label-arrow:before {content: \"▾\";}#sk-container-id-10 div.sk-estimator input.sk-toggleable__control:checked~label.sk-toggleable__label {background-color: #d4ebff;}#sk-container-id-10 div.sk-label input.sk-toggleable__control:checked~label.sk-toggleable__label {background-color: #d4ebff;}#sk-container-id-10 input.sk-hidden--visually {border: 0;clip: rect(1px 1px 1px 1px);clip: rect(1px, 1px, 1px, 1px);height: 1px;margin: -1px;overflow: hidden;padding: 0;position: absolute;width: 1px;}#sk-container-id-10 div.sk-estimator {font-family: monospace;background-color: #f0f8ff;border: 1px dotted black;border-radius: 0.25em;box-sizing: border-box;margin-bottom: 0.5em;}#sk-container-id-10 div.sk-estimator:hover {background-color: #d4ebff;}#sk-container-id-10 div.sk-parallel-item::after {content: \"\";width: 100%;border-bottom: 1px solid gray;flex-grow: 1;}#sk-container-id-10 div.sk-label:hover label.sk-toggleable__label {background-color: #d4ebff;}#sk-container-id-10 div.sk-serial::before {content: \"\";position: absolute;border-left: 1px solid gray;box-sizing: border-box;top: 0;bottom: 0;left: 50%;z-index: 0;}#sk-container-id-10 div.sk-serial {display: flex;flex-direction: column;align-items: center;background-color: white;padding-right: 0.2em;padding-left: 0.2em;position: relative;}#sk-container-id-10 div.sk-item {position: relative;z-index: 1;}#sk-container-id-10 div.sk-parallel {display: flex;align-items: stretch;justify-content: center;background-color: white;position: relative;}#sk-container-id-10 div.sk-item::before, #sk-container-id-10 div.sk-parallel-item::before {content: \"\";position: absolute;border-left: 1px solid gray;box-sizing: border-box;top: 0;bottom: 0;left: 50%;z-index: -1;}#sk-container-id-10 div.sk-parallel-item {display: flex;flex-direction: column;z-index: 1;position: relative;background-color: white;}#sk-container-id-10 div.sk-parallel-item:first-child::after {align-self: flex-end;width: 50%;}#sk-container-id-10 div.sk-parallel-item:last-child::after {align-self: flex-start;width: 50%;}#sk-container-id-10 div.sk-parallel-item:only-child::after {width: 0;}#sk-container-id-10 div.sk-dashed-wrapped {border: 1px dashed gray;margin: 0 0.4em 0.5em 0.4em;box-sizing: border-box;padding-bottom: 0.4em;background-color: white;}#sk-container-id-10 div.sk-label label {font-family: monospace;font-weight: bold;display: inline-block;line-height: 1.2em;}#sk-container-id-10 div.sk-label-container {text-align: center;}#sk-container-id-10 div.sk-container {/* jupyter's `normalize.less` sets `[hidden] { display: none; }` but bootstrap.min.css set `[hidden] { display: none !important; }` so we also need the `!important` here to be able to override the default hidden behavior on the sphinx rendered scikit-learn.org. See: https://github.com/scikit-learn/scikit-learn/issues/21755 */display: inline-block !important;position: relative;}#sk-container-id-10 div.sk-text-repr-fallback {display: none;}</style><div id=\"sk-container-id-10\" class=\"sk-top-container\"><div class=\"sk-text-repr-fallback\"><pre>LassoCV()</pre><b>In a Jupyter environment, please rerun this cell to show the HTML representation or trust the notebook. <br />On GitHub, the HTML representation is unable to render, please try loading this page with nbviewer.org.</b></div><div class=\"sk-container\" hidden><div class=\"sk-item\"><div class=\"sk-estimator sk-toggleable\"><input class=\"sk-toggleable__control sk-hidden--visually\" id=\"sk-estimator-id-10\" type=\"checkbox\" checked><label for=\"sk-estimator-id-10\" class=\"sk-toggleable__label sk-toggleable__label-arrow\">LassoCV</label><div class=\"sk-toggleable__content\"><pre>LassoCV()</pre></div></div></div></div></div>"
      ],
      "text/plain": [
       "LassoCV()"
      ]
     },
     "execution_count": 64,
     "metadata": {},
     "output_type": "execute_result"
    },
    {
     "name": "stderr",
     "output_type": "stream",
     "text": [
      "/Users/lauraforerocamacho/Library/Python/3.8/lib/python/site-packages/sklearn/linear_model/_coordinate_descent.py:634: ConvergenceWarning: Objective did not converge. You might want to increase the number of iterations, check the scale of the features or consider increasing regularisation. Duality gap: 2.797e+07, tolerance: 3.276e+05\n",
      "  model = cd_fast.enet_coordinate_descent(\n",
      "/Users/lauraforerocamacho/Library/Python/3.8/lib/python/site-packages/sklearn/linear_model/_coordinate_descent.py:634: ConvergenceWarning: Objective did not converge. You might want to increase the number of iterations, check the scale of the features or consider increasing regularisation. Duality gap: 2.622e+07, tolerance: 3.211e+05\n",
      "  model = cd_fast.enet_coordinate_descent(\n",
      "/Users/lauraforerocamacho/Library/Python/3.8/lib/python/site-packages/sklearn/linear_model/_coordinate_descent.py:634: ConvergenceWarning: Objective did not converge. You might want to increase the number of iterations, check the scale of the features or consider increasing regularisation. Duality gap: 3.043e+07, tolerance: 3.519e+05\n",
      "  model = cd_fast.enet_coordinate_descent(\n"
     ]
    },
    {
     "name": "stdout",
     "output_type": "stream",
     "text": [
      "Train MSE score: 0.22359666573914472\n",
      "Cross-Validation MSE score: 100.59827136663826\n"
     ]
    },
    {
     "name": "stderr",
     "output_type": "stream",
     "text": [
      "/Users/lauraforerocamacho/Library/Python/3.8/lib/python/site-packages/sklearn/linear_model/_coordinate_descent.py:634: ConvergenceWarning: Objective did not converge. You might want to increase the number of iterations, check the scale of the features or consider increasing regularisation. Duality gap: 2.797e+07, tolerance: 3.276e+05\n",
      "  model = cd_fast.enet_coordinate_descent(\n",
      "/Users/lauraforerocamacho/Library/Python/3.8/lib/python/site-packages/sklearn/linear_model/_coordinate_descent.py:634: ConvergenceWarning: Objective did not converge. You might want to increase the number of iterations, check the scale of the features or consider increasing regularisation. Duality gap: 2.622e+07, tolerance: 3.211e+05\n",
      "  model = cd_fast.enet_coordinate_descent(\n",
      "/Users/lauraforerocamacho/Library/Python/3.8/lib/python/site-packages/sklearn/linear_model/_coordinate_descent.py:634: ConvergenceWarning: Objective did not converge. You might want to increase the number of iterations, check the scale of the features or consider increasing regularisation. Duality gap: 3.043e+07, tolerance: 3.519e+05\n",
      "  model = cd_fast.enet_coordinate_descent(\n"
     ]
    },
    {
     "name": "stdout",
     "output_type": "stream",
     "text": [
      "Cross-Validation R2 score: 0.22359666573914472\n",
      "Mean squared error on test set:  102.37547171428534\n",
      "R2 score on test set:  0.25054252420070466\n"
     ]
    }
   ],
   "source": [
    "from sklearn.linear_model import LassoCV\n",
    "\n",
    "lr_one_hot = LassoCV()\n",
    "lr_one_hot.fit(X_train,y_train)\n",
    "\n",
    "r2_lr_one_hot_train = lr_one_hot.score(X_train,y_train)\n",
    "r2_lr_one_hot_cv = - cross_val_score(lr_one_hot, X_train,y_train, cv=10, scoring='neg_mean_absolute_error')\n",
    "cv_mse = r2_lr_one_hot_cv.mean()\n",
    "\n",
    "print('Train MSE score: {}\\nCross-Validation MSE score: {}'.format(r2_lr_one_hot_train, cv_mse))\n",
    "\n",
    "r2_lr_one_hot_cv = np.mean(cross_val_score(lr_one_hot, X_train,y_train, cv=10, scoring='r2'))\n",
    "\n",
    "print('Cross-Validation R2 score: {}'.format(r2_lr_one_hot_train, r2_lr_one_hot_cv))\n",
    "\n",
    "# Predict on the test set and calculate metrics\n",
    "y_pred = lr_one_hot.predict(X_test)\n",
    "mse = mean_absolute_error(y_test, y_pred)\n",
    "r2 = r2_score(y_test, y_pred)\n",
    "print(\"Mean squared error on test set: \", mse)\n",
    "print(\"R2 score on test set: \", r2)"
   ]
  },
  {
   "cell_type": "code",
   "execution_count": 65,
   "id": "48ad4d3f",
   "metadata": {},
   "outputs": [
    {
     "name": "stderr",
     "output_type": "stream",
     "text": [
      "/Users/lauraforerocamacho/Library/Python/3.8/lib/python/site-packages/sklearn/neural_network/_multilayer_perceptron.py:679: ConvergenceWarning: Stochastic Optimizer: Maximum iterations (200) reached and the optimization hasn't converged yet.\n",
      "  warnings.warn(\n"
     ]
    },
    {
     "data": {
      "text/html": [
       "<style>#sk-container-id-11 {color: black;background-color: white;}#sk-container-id-11 pre{padding: 0;}#sk-container-id-11 div.sk-toggleable {background-color: white;}#sk-container-id-11 label.sk-toggleable__label {cursor: pointer;display: block;width: 100%;margin-bottom: 0;padding: 0.3em;box-sizing: border-box;text-align: center;}#sk-container-id-11 label.sk-toggleable__label-arrow:before {content: \"▸\";float: left;margin-right: 0.25em;color: #696969;}#sk-container-id-11 label.sk-toggleable__label-arrow:hover:before {color: black;}#sk-container-id-11 div.sk-estimator:hover label.sk-toggleable__label-arrow:before {color: black;}#sk-container-id-11 div.sk-toggleable__content {max-height: 0;max-width: 0;overflow: hidden;text-align: left;background-color: #f0f8ff;}#sk-container-id-11 div.sk-toggleable__content pre {margin: 0.2em;color: black;border-radius: 0.25em;background-color: #f0f8ff;}#sk-container-id-11 input.sk-toggleable__control:checked~div.sk-toggleable__content {max-height: 200px;max-width: 100%;overflow: auto;}#sk-container-id-11 input.sk-toggleable__control:checked~label.sk-toggleable__label-arrow:before {content: \"▾\";}#sk-container-id-11 div.sk-estimator input.sk-toggleable__control:checked~label.sk-toggleable__label {background-color: #d4ebff;}#sk-container-id-11 div.sk-label input.sk-toggleable__control:checked~label.sk-toggleable__label {background-color: #d4ebff;}#sk-container-id-11 input.sk-hidden--visually {border: 0;clip: rect(1px 1px 1px 1px);clip: rect(1px, 1px, 1px, 1px);height: 1px;margin: -1px;overflow: hidden;padding: 0;position: absolute;width: 1px;}#sk-container-id-11 div.sk-estimator {font-family: monospace;background-color: #f0f8ff;border: 1px dotted black;border-radius: 0.25em;box-sizing: border-box;margin-bottom: 0.5em;}#sk-container-id-11 div.sk-estimator:hover {background-color: #d4ebff;}#sk-container-id-11 div.sk-parallel-item::after {content: \"\";width: 100%;border-bottom: 1px solid gray;flex-grow: 1;}#sk-container-id-11 div.sk-label:hover label.sk-toggleable__label {background-color: #d4ebff;}#sk-container-id-11 div.sk-serial::before {content: \"\";position: absolute;border-left: 1px solid gray;box-sizing: border-box;top: 0;bottom: 0;left: 50%;z-index: 0;}#sk-container-id-11 div.sk-serial {display: flex;flex-direction: column;align-items: center;background-color: white;padding-right: 0.2em;padding-left: 0.2em;position: relative;}#sk-container-id-11 div.sk-item {position: relative;z-index: 1;}#sk-container-id-11 div.sk-parallel {display: flex;align-items: stretch;justify-content: center;background-color: white;position: relative;}#sk-container-id-11 div.sk-item::before, #sk-container-id-11 div.sk-parallel-item::before {content: \"\";position: absolute;border-left: 1px solid gray;box-sizing: border-box;top: 0;bottom: 0;left: 50%;z-index: -1;}#sk-container-id-11 div.sk-parallel-item {display: flex;flex-direction: column;z-index: 1;position: relative;background-color: white;}#sk-container-id-11 div.sk-parallel-item:first-child::after {align-self: flex-end;width: 50%;}#sk-container-id-11 div.sk-parallel-item:last-child::after {align-self: flex-start;width: 50%;}#sk-container-id-11 div.sk-parallel-item:only-child::after {width: 0;}#sk-container-id-11 div.sk-dashed-wrapped {border: 1px dashed gray;margin: 0 0.4em 0.5em 0.4em;box-sizing: border-box;padding-bottom: 0.4em;background-color: white;}#sk-container-id-11 div.sk-label label {font-family: monospace;font-weight: bold;display: inline-block;line-height: 1.2em;}#sk-container-id-11 div.sk-label-container {text-align: center;}#sk-container-id-11 div.sk-container {/* jupyter's `normalize.less` sets `[hidden] { display: none; }` but bootstrap.min.css set `[hidden] { display: none !important; }` so we also need the `!important` here to be able to override the default hidden behavior on the sphinx rendered scikit-learn.org. See: https://github.com/scikit-learn/scikit-learn/issues/21755 */display: inline-block !important;position: relative;}#sk-container-id-11 div.sk-text-repr-fallback {display: none;}</style><div id=\"sk-container-id-11\" class=\"sk-top-container\"><div class=\"sk-text-repr-fallback\"><pre>MLPRegressor()</pre><b>In a Jupyter environment, please rerun this cell to show the HTML representation or trust the notebook. <br />On GitHub, the HTML representation is unable to render, please try loading this page with nbviewer.org.</b></div><div class=\"sk-container\" hidden><div class=\"sk-item\"><div class=\"sk-estimator sk-toggleable\"><input class=\"sk-toggleable__control sk-hidden--visually\" id=\"sk-estimator-id-11\" type=\"checkbox\" checked><label for=\"sk-estimator-id-11\" class=\"sk-toggleable__label sk-toggleable__label-arrow\">MLPRegressor</label><div class=\"sk-toggleable__content\"><pre>MLPRegressor()</pre></div></div></div></div></div>"
      ],
      "text/plain": [
       "MLPRegressor()"
      ]
     },
     "execution_count": 65,
     "metadata": {},
     "output_type": "execute_result"
    },
    {
     "name": "stderr",
     "output_type": "stream",
     "text": [
      "/Users/lauraforerocamacho/Library/Python/3.8/lib/python/site-packages/sklearn/neural_network/_multilayer_perceptron.py:679: ConvergenceWarning: Stochastic Optimizer: Maximum iterations (200) reached and the optimization hasn't converged yet.\n",
      "  warnings.warn(\n"
     ]
    }
   ],
   "source": [
    "from sklearn.neural_network import MLPRegressor\n",
    "\n",
    "lr_one_hot = MLPRegressor()\n",
    "lr_one_hot.fit(X_train,y_train)\n",
    "\n",
    "r2_lr_one_hot_train = lr_one_hot.score(X_train,y_train)\n",
    "r2_lr_one_hot_cv = - cross_val_score(lr_one_hot, X_train,y_train, cv=10, scoring='neg_mean_absolute_error')\n",
    "cv_mse = r2_lr_one_hot_cv.mean()\n",
    "\n",
    "print('Train MSE score: {}\\nCross-Validation MSE score: {}'.format(r2_lr_one_hot_train, cv_mse))\n",
    "\n",
    "r2_lr_one_hot_cv = np.mean(cross_val_score(lr_one_hot, X_train,y_train, cv=10, scoring='r2'))\n",
    "\n",
    "print('Cross-Validation R2 score: {}'.format(r2_lr_one_hot_train, r2_lr_one_hot_cv))\n",
    "\n",
    "# Predict on the test set and calculate metrics\n",
    "y_pred = lr_one_hot.predict(X_test)\n",
    "mse = mean_absolute_error(y_test, y_pred)\n",
    "r2 = r2_score(y_test, y_pred)\n",
    "print(\"Mean squared error on test set: \", mse)\n",
    "print(\"R2 score on test set: \", r2)\n"
   ]
  }
 ],
 "metadata": {
  "kernelspec": {
   "display_name": "Python 3 (ipykernel)",
   "language": "python",
   "name": "python3"
  },
  "language_info": {
   "codemirror_mode": {
    "name": "ipython",
    "version": 3
   },
   "file_extension": ".py",
   "mimetype": "text/x-python",
   "name": "python",
   "nbconvert_exporter": "python",
   "pygments_lexer": "ipython3",
   "version": "3.8.9"
  }
 },
 "nbformat": 4,
 "nbformat_minor": 5
}
