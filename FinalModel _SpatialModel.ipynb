{
 "cells": [
  {
   "cell_type": "markdown",
   "id": "b7df141b",
   "metadata": {},
   "source": [
    "# Part 1 Preprocess\n",
    "* * *"
   ]
  },
  {
   "cell_type": "code",
   "execution_count": 277,
   "id": "caf8dfd0",
   "metadata": {},
   "outputs": [],
   "source": [
    "#%matplotlib notebook\n",
    "import numpy as np\n",
    "import matplotlib.pyplot as plt\n",
    "import seaborn as sn\n",
    "import pandas as pd\n",
    "from collections import Counter\n",
    "from IPython.core.interactiveshell import InteractiveShell\n",
    "InteractiveShell.ast_node_interactivity = \"all\"\n",
    "\n",
    "\n",
    "from pandas import read_csv\n",
    "from sklearn.neighbors import KNeighborsClassifier\n",
    "from sklearn.neighbors import LocalOutlierFactor\n",
    "from sklearn import preprocessing\n",
    "from statsmodels.genmod.generalized_linear_model import GLM\n",
    "from pandas.plotting import scatter_matrix\n",
    "from scipy.stats import boxcox\n",
    "\n",
    "from sklearn.model_selection import train_test_split,  KFold, cross_val_score\n",
    "from sklearn.linear_model import LinearRegression, Ridge, RidgeCV, Lasso, LassoCV\n",
    "from sklearn.metrics import mean_absolute_error, r2_score\n",
    "from sklearn.preprocessing import  StandardScaler\n",
    "\n",
    "from statsmodels.genmod.generalized_linear_model import GLM\n",
    "import statsmodels.api as sm\n",
    "from scipy import stats\n"
   ]
  },
  {
   "cell_type": "code",
   "execution_count": 278,
   "id": "82be496e",
   "metadata": {},
   "outputs": [
    {
     "name": "stdout",
     "output_type": "stream",
     "text": [
      "Defaulting to user installation because normal site-packages is not writeable\n",
      "Requirement already satisfied: folium in /Users/lauraforerocamacho/Library/Python/3.8/lib/python/site-packages (0.14.0)\n",
      "Requirement already satisfied: requests in /Users/lauraforerocamacho/Library/Python/3.8/lib/python/site-packages (from folium) (2.30.0)\n",
      "Requirement already satisfied: jinja2>=2.9 in /Users/lauraforerocamacho/Library/Python/3.8/lib/python/site-packages (from folium) (3.0.3)\n",
      "Requirement already satisfied: numpy in /Users/lauraforerocamacho/Library/Python/3.8/lib/python/site-packages (from folium) (1.24.3)\n",
      "Requirement already satisfied: branca>=0.6.0 in /Users/lauraforerocamacho/Library/Python/3.8/lib/python/site-packages (from folium) (0.6.0)\n",
      "Requirement already satisfied: MarkupSafe>=2.0 in /Users/lauraforerocamacho/Library/Python/3.8/lib/python/site-packages (from jinja2>=2.9->folium) (2.0.1)\n",
      "Requirement already satisfied: certifi>=2017.4.17 in /Users/lauraforerocamacho/Library/Python/3.8/lib/python/site-packages (from requests->folium) (2021.10.8)\n",
      "Requirement already satisfied: idna<4,>=2.5 in /Users/lauraforerocamacho/Library/Python/3.8/lib/python/site-packages (from requests->folium) (3.3)\n",
      "Requirement already satisfied: urllib3<3,>=1.21.1 in /Users/lauraforerocamacho/Library/Python/3.8/lib/python/site-packages (from requests->folium) (1.26.8)\n",
      "Requirement already satisfied: charset-normalizer<4,>=2 in /Users/lauraforerocamacho/Library/Python/3.8/lib/python/site-packages (from requests->folium) (2.0.10)\n",
      "\n",
      "\u001b[1m[\u001b[0m\u001b[34;49mnotice\u001b[0m\u001b[1;39;49m]\u001b[0m\u001b[39;49m A new release of pip available: \u001b[0m\u001b[31;49m22.3.1\u001b[0m\u001b[39;49m -> \u001b[0m\u001b[32;49m23.1.2\u001b[0m\n",
      "\u001b[1m[\u001b[0m\u001b[34;49mnotice\u001b[0m\u001b[1;39;49m]\u001b[0m\u001b[39;49m To update, run: \u001b[0m\u001b[32;49m/Library/Developer/CommandLineTools/usr/bin/python3 -m pip install --upgrade pip\u001b[0m\n"
     ]
    }
   ],
   "source": [
    "!pip install folium"
   ]
  },
  {
   "attachments": {},
   "cell_type": "markdown",
   "id": "79aaafc0",
   "metadata": {},
   "source": [
    "### Loading the datasets"
   ]
  },
  {
   "cell_type": "markdown",
   "id": "6c27709b",
   "metadata": {},
   "source": [
    "Create a list of all files and add the corresponding city names and day type"
   ]
  },
  {
   "cell_type": "code",
   "execution_count": 279,
   "id": "9f9e4209",
   "metadata": {},
   "outputs": [],
   "source": [
    "def load_data():\n",
    "    data = [(\"/Users/lauraforerocamacho/Downloads/data/amsterdam_weekdays.csv\", \"Amsterdam\", \"Weekdays\"),\n",
    "                 (\"/Users/lauraforerocamacho/Downloads/data/athens_weekdays.csv\", \"Athens\",\"Weekdays\"),\n",
    "                 (\"/Users/lauraforerocamacho/Downloads/data/barcelona_weekdays.csv\", \"Barcelona\", \"Weekdays\"),\n",
    "                 (\"/Users/lauraforerocamacho/Downloads/data/berlin_weekdays.csv\", \"Berlin\", \"Weekdays\"),\n",
    "                 (\"/Users/lauraforerocamacho/Downloads/data/budapest_weekdays.csv\", \"Budapest\", \"Weekdays\"),\n",
    "                 (\"/Users/lauraforerocamacho/Downloads/data/lisbon_weekdays.csv\", \"Lisbon\", \"Weekdays\"),\n",
    "                 (\"/Users/lauraforerocamacho/Downloads/data/London_weekdays.csv\", \"London\", \"Weekdays\"),\n",
    "                 (\"/Users/lauraforerocamacho/Downloads/data/rome_weekdays.csv\", \"Rome\", \"Weekdays\"),\n",
    "                 (\"/Users/lauraforerocamacho/Downloads/data/paris_weekdays.csv\", \"Paris\", \"Weekdays\"),\n",
    "                 (\"/Users/lauraforerocamacho/Downloads/data/Vienna_weekdays.csv\", \"Vienna\", \"Weekdays\"),\n",
    "                 (\"/Users/lauraforerocamacho/Downloads/data/amsterdam_weekends.csv\", \"Amsterdam\", \"Weekends\"),\n",
    "                 (\"/Users/lauraforerocamacho/Downloads/data/athens_weekends.csv\", \"Athens\", \"Weekends\"),\n",
    "                 (\"/Users/lauraforerocamacho/Downloads/data/barcelona_weekends.csv\", \"Barcelona\", \"Weekends\"),\n",
    "                 (\"/Users/lauraforerocamacho/Downloads/data/berlin_weekends.csv\", \"Berlin\", \"Weekends\"),\n",
    "                 (\"/Users/lauraforerocamacho/Downloads/data/budapest_weekends.csv\", \"Budapest\", \"Weekends\"),\n",
    "                 (\"/Users/lauraforerocamacho/Downloads/data/lisbon_weekends.csv\", \"Lisbon\", \"Weekends\"),\n",
    "                 (\"/Users/lauraforerocamacho/Downloads/data/London_weekends.csv\", \"London\", \"Weekends\"),\n",
    "                 (\"/Users/lauraforerocamacho/Downloads/data/rome_weekends.csv\", \"Rome\", \"Weekends\"),\n",
    "                 (\"/Users/lauraforerocamacho/Downloads/data/paris_weekends.csv\", \"Paris\", \"Weekends\"),\n",
    "                 (\"/Users/lauraforerocamacho/Downloads/data/Vienna_weekends.csv\", \"Vienna\", \"Weekends\")\n",
    "                 ]\n",
    "    #merge data\n",
    "    dfs = []\n",
    "    for file_path, city_name, day_type in data:\n",
    "        df = pd.read_csv(file_path, usecols=lambda col: col != 'Unnamed: 0')\n",
    "        df = df.assign(city=city_name, type=day_type)\n",
    "        dfs.append(df)\n",
    "    data = pd.concat(dfs)\n",
    "    return data\n",
    "\n",
    "data= load_data()\n",
    "numeric_colums= [\"realSum\", \"person_capacity\",\"cleanliness_rating\",\"guest_satisfaction_overall\",'bedrooms', 'dist',\n",
    "       'metro_dist', 'attr_index', 'attr_index_norm', 'rest_index', 'rest_index_norm', 'lng', 'lat']\n",
    "categorical_colums= [\"room_type\",\"room_shared\", \"room_private\", \"host_is_superhost\",\"multi\", \"biz\" , 'city', 'type']\n",
    "\n",
    "def preprocess_data(data):\n",
    "    for i in categorical_colums:\n",
    "        data[i] = data[i].astype('object')\n",
    "        data[i].unique()\n",
    "    return data\n",
    "data= preprocess_data(data)"
   ]
  },
  {
   "attachments": {},
   "cell_type": "markdown",
   "id": "5adddf7d",
   "metadata": {},
   "source": [
    "View distributin of the value"
   ]
  },
  {
   "cell_type": "code",
   "execution_count": 280,
   "id": "2a163a1d",
   "metadata": {},
   "outputs": [],
   "source": [
    "import seaborn as sns\n",
    "\n",
    "def plot_distribution_features():\n",
    "\n",
    "    fig, axes = plt.subplots(6,4,figsize=(26,20))\n",
    "\n",
    "    # We will not plot country because it has too many categories.\n",
    "    for i, c in enumerate(data.columns):\n",
    "        ax = axes.reshape(-1)[i]\n",
    "        if data[c].dtype.kind == 'O':\n",
    "            a = sns.countplot(x=c,data=data,ax=ax)\n",
    "        else:\n",
    "            b = sns.histplot(x=c,data=data,ax=ax)\n",
    "        t = ax.set_title(c)\n",
    "    plt.tight_layout()"
   ]
  },
  {
   "cell_type": "code",
   "execution_count": 281,
   "id": "7ba84a78",
   "metadata": {},
   "outputs": [],
   "source": [
    "data_clean=data\n",
    "\n",
    "def preprocess_data_LL(data_clean):\n",
    "    for i in  ['Amsterdam','Athens','Barcelona', 'Berlin', 'Budapest', 'Lisbon', 'London', 'Paris', 'Rome','Vienna']:\n",
    "        data_clean[\"lat_\"+i]=0\n",
    "        data_clean[\"lng_\"+i]=0\n",
    "    data_clean.reset_index()\n",
    "    for ind in data_clean.index:\n",
    "        data_clean['lat_'+data_clean['city'][ind]][ind]=data_clean['lat'][ind]\n",
    "        data_clean['lng_'+data_clean['city'][ind]][ind]=data_clean['lng'][ind]\n",
    "    data_clean.drop(columns=['lng','lat'],inplace=True)\n",
    "    return data_clean\n",
    "#data_clean = preprocess_data_LL(data_clean)\n",
    "X = data_clean.loc[:,data_clean.columns != 'realSum']\n",
    "y = data_clean['realSum']\n"
   ]
  },
  {
   "cell_type": "code",
   "execution_count": 282,
   "id": "f6b8b020",
   "metadata": {},
   "outputs": [
    {
     "name": "stderr",
     "output_type": "stream",
     "text": [
      "/var/folders/zv/hzjbp8kd1l103x8tgl0s00z80000gn/T/ipykernel_3968/116871885.py:2: SettingWithCopyWarning: \n",
      "A value is trying to be set on a copy of a slice from a DataFrame\n",
      "\n",
      "See the caveats in the documentation: https://pandas.pydata.org/pandas-docs/stable/user_guide/indexing.html#returning-a-view-versus-a-copy\n",
      "  X[i].replace([False, True],[0,1],inplace=True)\n"
     ]
    }
   ],
   "source": [
    "for i in [\"room_shared\",\t\"room_private\",\t\"host_is_superhost\"]:\n",
    "    X[i].replace([False, True],[0,1],inplace=True)\n",
    "\n",
    "#X['person_capacity'] = X['person_capacity'].astype(str)\n",
    "#X['bedrooms'] = X['bedrooms'].astype(str)\n",
    "#,'person_capacity'\n",
    "#\"room_type\",\n",
    "for column in [ \"city\", \"type\"]:\n",
    "    X_one_hot = pd.get_dummies(X[column] , dtype=int, drop_first=False)\n",
    "    X = pd.concat([X, X_one_hot], axis='columns')\n",
    "\n",
    "# drop the values\n",
    "X= X.drop([\"room_type\", \"city\", \"type\"], axis='columns')\n",
    "X_new= X\n"
   ]
  },
  {
   "cell_type": "code",
   "execution_count": 283,
   "id": "712b51a3",
   "metadata": {},
   "outputs": [],
   "source": [
    "final_train_data=X_new\n",
    "final_train_data[\"realSum\"]=y"
   ]
  },
  {
   "cell_type": "code",
   "execution_count": 284,
   "id": "23a5042d",
   "metadata": {},
   "outputs": [],
   "source": [
    "final_train_data.to_csv(\"datapre.csv\", index=False)"
   ]
  },
  {
   "cell_type": "code",
   "execution_count": 285,
   "id": "a8096e66",
   "metadata": {},
   "outputs": [],
   "source": [
    "from pysal.model import spreg\n",
    "from pysal.lib import weights\n",
    "from scipy import stats\n",
    "import numpy as np\n",
    "import pandas as pd\n",
    "import geopandas as gpd\n",
    "import seaborn as sns\n"
   ]
  },
  {
   "cell_type": "code",
   "execution_count": 286,
   "id": "0736ec10",
   "metadata": {},
   "outputs": [
    {
     "data": {
      "text/html": [
       "<div>\n",
       "<style scoped>\n",
       "    .dataframe tbody tr th:only-of-type {\n",
       "        vertical-align: middle;\n",
       "    }\n",
       "\n",
       "    .dataframe tbody tr th {\n",
       "        vertical-align: top;\n",
       "    }\n",
       "\n",
       "    .dataframe thead th {\n",
       "        text-align: right;\n",
       "    }\n",
       "</style>\n",
       "<table border=\"1\" class=\"dataframe\">\n",
       "  <thead>\n",
       "    <tr style=\"text-align: right;\">\n",
       "      <th></th>\n",
       "      <th>room_shared</th>\n",
       "      <th>room_private</th>\n",
       "      <th>person_capacity</th>\n",
       "      <th>host_is_superhost</th>\n",
       "      <th>multi</th>\n",
       "      <th>biz</th>\n",
       "      <th>cleanliness_rating</th>\n",
       "      <th>guest_satisfaction_overall</th>\n",
       "      <th>bedrooms</th>\n",
       "      <th>dist</th>\n",
       "      <th>...</th>\n",
       "      <th>Budapest</th>\n",
       "      <th>Lisbon</th>\n",
       "      <th>London</th>\n",
       "      <th>Paris</th>\n",
       "      <th>Rome</th>\n",
       "      <th>Vienna</th>\n",
       "      <th>Weekdays</th>\n",
       "      <th>Weekends</th>\n",
       "      <th>realSum</th>\n",
       "      <th>geometry</th>\n",
       "    </tr>\n",
       "  </thead>\n",
       "  <tbody>\n",
       "    <tr>\n",
       "      <th>0</th>\n",
       "      <td>0</td>\n",
       "      <td>1</td>\n",
       "      <td>2.0</td>\n",
       "      <td>0</td>\n",
       "      <td>1</td>\n",
       "      <td>0</td>\n",
       "      <td>10.0</td>\n",
       "      <td>93.0</td>\n",
       "      <td>1</td>\n",
       "      <td>5.022964</td>\n",
       "      <td>...</td>\n",
       "      <td>0</td>\n",
       "      <td>0</td>\n",
       "      <td>0</td>\n",
       "      <td>0</td>\n",
       "      <td>0</td>\n",
       "      <td>0</td>\n",
       "      <td>1</td>\n",
       "      <td>0</td>\n",
       "      <td>194.033698</td>\n",
       "      <td>POINT (4.90569 52.41772)</td>\n",
       "    </tr>\n",
       "    <tr>\n",
       "      <th>1</th>\n",
       "      <td>0</td>\n",
       "      <td>1</td>\n",
       "      <td>4.0</td>\n",
       "      <td>0</td>\n",
       "      <td>0</td>\n",
       "      <td>0</td>\n",
       "      <td>8.0</td>\n",
       "      <td>85.0</td>\n",
       "      <td>1</td>\n",
       "      <td>0.488389</td>\n",
       "      <td>...</td>\n",
       "      <td>0</td>\n",
       "      <td>0</td>\n",
       "      <td>0</td>\n",
       "      <td>0</td>\n",
       "      <td>0</td>\n",
       "      <td>0</td>\n",
       "      <td>1</td>\n",
       "      <td>0</td>\n",
       "      <td>344.245776</td>\n",
       "      <td>POINT (4.90005 52.37432)</td>\n",
       "    </tr>\n",
       "    <tr>\n",
       "      <th>2</th>\n",
       "      <td>0</td>\n",
       "      <td>1</td>\n",
       "      <td>2.0</td>\n",
       "      <td>0</td>\n",
       "      <td>0</td>\n",
       "      <td>1</td>\n",
       "      <td>9.0</td>\n",
       "      <td>87.0</td>\n",
       "      <td>1</td>\n",
       "      <td>5.748312</td>\n",
       "      <td>...</td>\n",
       "      <td>0</td>\n",
       "      <td>0</td>\n",
       "      <td>0</td>\n",
       "      <td>0</td>\n",
       "      <td>0</td>\n",
       "      <td>0</td>\n",
       "      <td>1</td>\n",
       "      <td>0</td>\n",
       "      <td>264.101422</td>\n",
       "      <td>POINT (4.97512 52.36103)</td>\n",
       "    </tr>\n",
       "    <tr>\n",
       "      <th>3</th>\n",
       "      <td>0</td>\n",
       "      <td>1</td>\n",
       "      <td>4.0</td>\n",
       "      <td>0</td>\n",
       "      <td>0</td>\n",
       "      <td>1</td>\n",
       "      <td>9.0</td>\n",
       "      <td>90.0</td>\n",
       "      <td>2</td>\n",
       "      <td>0.384862</td>\n",
       "      <td>...</td>\n",
       "      <td>0</td>\n",
       "      <td>0</td>\n",
       "      <td>0</td>\n",
       "      <td>0</td>\n",
       "      <td>0</td>\n",
       "      <td>0</td>\n",
       "      <td>1</td>\n",
       "      <td>0</td>\n",
       "      <td>433.529398</td>\n",
       "      <td>POINT (4.89417 52.37663)</td>\n",
       "    </tr>\n",
       "    <tr>\n",
       "      <th>4</th>\n",
       "      <td>0</td>\n",
       "      <td>1</td>\n",
       "      <td>2.0</td>\n",
       "      <td>1</td>\n",
       "      <td>0</td>\n",
       "      <td>0</td>\n",
       "      <td>10.0</td>\n",
       "      <td>98.0</td>\n",
       "      <td>1</td>\n",
       "      <td>0.544738</td>\n",
       "      <td>...</td>\n",
       "      <td>0</td>\n",
       "      <td>0</td>\n",
       "      <td>0</td>\n",
       "      <td>0</td>\n",
       "      <td>0</td>\n",
       "      <td>0</td>\n",
       "      <td>1</td>\n",
       "      <td>0</td>\n",
       "      <td>485.552926</td>\n",
       "      <td>POINT (4.90051 52.37508)</td>\n",
       "    </tr>\n",
       "  </tbody>\n",
       "</table>\n",
       "<p>5 rows × 31 columns</p>\n",
       "</div>"
      ],
      "text/plain": [
       "   room_shared  room_private  person_capacity  host_is_superhost multi biz   \n",
       "0            0             1              2.0                  0     1   0  \\\n",
       "1            0             1              4.0                  0     0   0   \n",
       "2            0             1              2.0                  0     0   1   \n",
       "3            0             1              4.0                  0     0   1   \n",
       "4            0             1              2.0                  1     0   0   \n",
       "\n",
       "   cleanliness_rating  guest_satisfaction_overall  bedrooms      dist  ...   \n",
       "0                10.0                        93.0         1  5.022964  ...  \\\n",
       "1                 8.0                        85.0         1  0.488389  ...   \n",
       "2                 9.0                        87.0         1  5.748312  ...   \n",
       "3                 9.0                        90.0         2  0.384862  ...   \n",
       "4                10.0                        98.0         1  0.544738  ...   \n",
       "\n",
       "   Budapest  Lisbon  London  Paris  Rome  Vienna  Weekdays  Weekends   \n",
       "0         0       0       0      0     0       0         1         0  \\\n",
       "1         0       0       0      0     0       0         1         0   \n",
       "2         0       0       0      0     0       0         1         0   \n",
       "3         0       0       0      0     0       0         1         0   \n",
       "4         0       0       0      0     0       0         1         0   \n",
       "\n",
       "      realSum                  geometry  \n",
       "0  194.033698  POINT (4.90569 52.41772)  \n",
       "1  344.245776  POINT (4.90005 52.37432)  \n",
       "2  264.101422  POINT (4.97512 52.36103)  \n",
       "3  433.529398  POINT (4.89417 52.37663)  \n",
       "4  485.552926  POINT (4.90051 52.37508)  \n",
       "\n",
       "[5 rows x 31 columns]"
      ]
     },
     "execution_count": 286,
     "metadata": {},
     "output_type": "execute_result"
    }
   ],
   "source": [
    "import geopandas as gpd\n",
    "from pysal.model import spreg\n",
    "from pysal.lib import weights\n",
    "from scipy import stats\n",
    "# Create a GeoDataFrame\n",
    "final_train_data[\"geometry\"] = gpd.points_from_xy(final_train_data[\"lng\"], data[\"lat\"])\n",
    "final_train_data = gpd.GeoDataFrame(final_train_data, crs=\"epsg:4326\")\n",
    "\n",
    "final_train_data = final_train_data.reset_index(drop=True)\n",
    "\n",
    "# Check the first rows\n",
    "final_train_data.head()"
   ]
  },
  {
   "cell_type": "code",
   "execution_count": 287,
   "id": "3b70e886",
   "metadata": {},
   "outputs": [],
   "source": [
    "final_train_data[\"log_price\"] = np.log(final_train_data[\"realSum\"] + 0.000001)"
   ]
  },
  {
   "cell_type": "code",
   "execution_count": 288,
   "id": "ab98625e",
   "metadata": {},
   "outputs": [],
   "source": [
    "final_train_data[['multi', 'biz']]=final_train_data[['multi', 'biz']].astype('float64')\n"
   ]
  },
  {
   "cell_type": "code",
   "execution_count": 289,
   "id": "2e104372",
   "metadata": {},
   "outputs": [],
   "source": [
    "train_data, test_data = train_test_split(final_train_data, test_size=0.2, random_state=42,\n",
    "                                                    stratify=final_train_data[[           \n",
    "        'room_shared', 'room_private' , 'multi']])"
   ]
  },
  {
   "cell_type": "code",
   "execution_count": 290,
   "id": "0d5da8ae",
   "metadata": {},
   "outputs": [
    {
     "name": "stderr",
     "output_type": "stream",
     "text": [
      "/Users/lauraforerocamacho/Library/Python/3.8/lib/python/site-packages/libpysal/weights/weights.py:172: UserWarning: The weights matrix is not fully connected: \n",
      " There are 28 disconnected components.\n",
      "  warnings.warn(message)\n"
     ]
    },
    {
     "data": {
      "text/plain": [
       "<libpysal.weights.distance.KNN at 0x15859b7f0>"
      ]
     },
     "execution_count": 290,
     "metadata": {},
     "output_type": "execute_result"
    }
   ],
   "source": [
    "w = weights.KNN.from_dataframe(train_data, k=8)\n",
    "w.transform = 'R'\n",
    "w"
   ]
  },
  {
   "cell_type": "code",
   "execution_count": 291,
   "id": "32eed259",
   "metadata": {},
   "outputs": [
    {
     "data": {
      "text/plain": [
       "Index(['room_shared', 'room_private', 'person_capacity', 'host_is_superhost',\n",
       "       'multi', 'biz', 'cleanliness_rating', 'guest_satisfaction_overall',\n",
       "       'bedrooms', 'dist', 'metro_dist', 'attr_index', 'attr_index_norm',\n",
       "       'rest_index', 'rest_index_norm', 'lng', 'lat', 'Amsterdam', 'Athens',\n",
       "       'Barcelona', 'Berlin', 'Budapest', 'Lisbon', 'London', 'Paris', 'Rome',\n",
       "       'Vienna', 'Weekdays', 'Weekends', 'realSum', 'geometry'],\n",
       "      dtype='object')"
      ]
     },
     "execution_count": 291,
     "metadata": {},
     "output_type": "execute_result"
    }
   ],
   "source": [
    "X_new.columns"
   ]
  },
  {
   "cell_type": "code",
   "execution_count": 292,
   "id": "41e29c9a",
   "metadata": {},
   "outputs": [
    {
     "data": {
      "text/plain": [
       "room_shared                      int64\n",
       "room_private                     int64\n",
       "person_capacity                float64\n",
       "host_is_superhost                int64\n",
       "multi                          float64\n",
       "biz                            float64\n",
       "cleanliness_rating             float64\n",
       "guest_satisfaction_overall     float64\n",
       "bedrooms                         int64\n",
       "dist                           float64\n",
       "metro_dist                     float64\n",
       "attr_index                     float64\n",
       "attr_index_norm                float64\n",
       "rest_index                     float64\n",
       "rest_index_norm                float64\n",
       "lng                            float64\n",
       "lat                            float64\n",
       "Amsterdam                        int64\n",
       "Athens                           int64\n",
       "Barcelona                        int64\n",
       "Berlin                           int64\n",
       "Budapest                         int64\n",
       "Lisbon                           int64\n",
       "London                           int64\n",
       "Paris                            int64\n",
       "Rome                             int64\n",
       "Vienna                           int64\n",
       "Weekdays                         int64\n",
       "Weekends                         int64\n",
       "realSum                        float64\n",
       "geometry                      geometry\n",
       "log_price                      float64\n",
       "dtype: object"
      ]
     },
     "execution_count": 292,
     "metadata": {},
     "output_type": "execute_result"
    }
   ],
   "source": [
    "train_data.dtypes"
   ]
  },
  {
   "cell_type": "code",
   "execution_count": 293,
   "id": "0b35af0c",
   "metadata": {},
   "outputs": [],
   "source": [
    "\n",
    "\n",
    "features = ['room_shared', 'room_private', 'person_capacity', 'host_is_superhost',\n",
    "       'cleanliness_rating', 'guest_satisfaction_overall','multi', 'biz',\n",
    "       'bedrooms', 'dist', 'metro_dist', 'attr_index_norm',\n",
    "       'rest_index_norm', 'Weekdays', 'Athens',\n",
    "       'Barcelona', 'Berlin', 'Budapest', 'Lisbon', 'London', 'Paris', 'Rome',\n",
    "       'Vienna']\n",
    "target = 'realSum'\n"
   ]
  },
  {
   "cell_type": "code",
   "execution_count": 294,
   "id": "ede33a4b",
   "metadata": {},
   "outputs": [
    {
     "name": "stdout",
     "output_type": "stream",
     "text": [
      "Has missing values: False\n"
     ]
    }
   ],
   "source": [
    "all_model_attributes = [\"realSum\"] + features\n",
    "has_nans = False\n",
    "for attr in all_model_attributes:\n",
    "    if train_data[attr].hasnans:\n",
    "        has_nans = True\n",
    "print(\"Has missing values:\", has_nans)"
   ]
  },
  {
   "cell_type": "code",
   "execution_count": 295,
   "id": "e5aa8d20",
   "metadata": {},
   "outputs": [],
   "source": [
    "train_data = train_data.dropna(subset=all_model_attributes).copy()\n"
   ]
  },
  {
   "cell_type": "code",
   "execution_count": 296,
   "id": "24db3fff",
   "metadata": {},
   "outputs": [
    {
     "name": "stdout",
     "output_type": "stream",
     "text": [
      "REGRESSION\n",
      "----------\n",
      "SUMMARY OF OUTPUT: ORDINARY LEAST SQUARES\n",
      "-----------------------------------------\n",
      "Data set            :     unknown\n",
      "Weights matrix      :        None\n",
      "Dependent Variable  :     realSum                Number of Observations:       41365\n",
      "Mean dependent var  :    279.5657                Number of Variables   :          24\n",
      "S.D. dependent var  :    339.3661                Degrees of Freedom    :       41341\n",
      "R-squared           :      0.2247\n",
      "Adjusted R-squared  :      0.2242\n",
      "Sum squared residual:3693617003.718                F-statistic           :    520.8172\n",
      "Sigma-square        :   89345.130                Prob(F-statistic)     :           0\n",
      "S.E. of regression  :     298.907                Log likelihood        : -294468.308\n",
      "Sigma-square ML     :   89293.292                Akaike info criterion :  588984.616\n",
      "S.E of regression ML:    298.8198                Schwarz criterion     :  589191.741\n",
      "\n",
      "------------------------------------------------------------------------------------\n",
      "            Variable     Coefficient       Std.Error     t-Statistic     Probability\n",
      "------------------------------------------------------------------------------------\n",
      "            CONSTANT     241.2689771      20.4153989      11.8179899       0.0000000\n",
      "         room_shared    -203.3833694      17.6932170     -11.4949910       0.0000000\n",
      "        room_private    -116.7925032       3.9251796     -29.7546901       0.0000000\n",
      "     person_capacity      22.4300708       1.6223993      13.8252468       0.0000000\n",
      "   host_is_superhost       0.7660909       3.6042509       0.2125520       0.8316774\n",
      "  cleanliness_rating       4.7953073       2.2297419       2.1506109       0.0315127\n",
      "guest_satisfaction_overall       0.8299767       0.2427724       3.4187438       0.0006297\n",
      "               multi       9.6434225       3.7903319       2.5442158       0.0109559\n",
      "                 biz      33.5851667       3.8309912       8.7667043       0.0000000\n",
      "            bedrooms      91.2530454       2.9447782      30.9880883       0.0000000\n",
      "                dist      -1.4197836       1.1409120      -1.2444287       0.2133489\n",
      "          metro_dist      -7.5234602       2.2217640      -3.3862553       0.0007092\n",
      "     attr_index_norm       6.3652277       0.2624419      24.2538531       0.0000000\n",
      "     rest_index_norm      -0.0316484       0.1528139      -0.2071042       0.8359295\n",
      "            Weekdays      -3.1705005       2.9520768      -1.0739898       0.2828335\n",
      "              Athens    -448.1851509       9.4764234     -47.2947578       0.0000000\n",
      "           Barcelona    -249.6176726       9.9345905     -25.1261159       0.0000000\n",
      "              Berlin    -300.6200010      10.5686983     -28.4443735       0.0000000\n",
      "            Budapest    -444.3951546       9.3731144     -47.4116859       0.0000000\n",
      "              Lisbon    -332.7510615       9.0932737     -36.5930985       0.0000000\n",
      "              London    -228.4252361       9.3216541     -24.5047964       0.0000000\n",
      "               Paris    -214.0815068       9.0909769     -23.5487901       0.0000000\n",
      "                Rome    -370.0436309       8.3270372     -44.4388108       0.0000000\n",
      "              Vienna    -328.0943770       9.8904627     -33.1728036       0.0000000\n",
      "------------------------------------------------------------------------------------\n",
      "\n",
      "REGRESSION DIAGNOSTICS\n",
      "MULTICOLLINEARITY CONDITION NUMBER           60.997\n",
      "\n",
      "TEST ON NORMALITY OF ERRORS\n",
      "TEST                             DF        VALUE           PROB\n",
      "Jarque-Bera                       2  3260703321.721           0.0000\n",
      "\n",
      "DIAGNOSTICS FOR HETEROSKEDASTICITY\n",
      "RANDOM COEFFICIENTS\n",
      "TEST                             DF        VALUE           PROB\n",
      "Breusch-Pagan test               23       73331.153           0.0000\n",
      "Koenker-Bassett test             23         106.580           0.0000\n",
      "================================ END OF REPORT =====================================\n"
     ]
    }
   ],
   "source": [
    "m1 = spreg.OLS(train_data[['realSum']].values, train_data[features].values, \n",
    "                  name_y = 'realSum', name_x = features)\n",
    "\n",
    "results = m1\n",
    "\n",
    "print(results.summary)\n"
   ]
  },
  {
   "cell_type": "code",
   "execution_count": 297,
   "id": "b6c5f6e7",
   "metadata": {},
   "outputs": [
    {
     "name": "stdout",
     "output_type": "stream",
     "text": [
      "REGRESSION\n",
      "----------\n",
      "SUMMARY OF OUTPUT: ORDINARY LEAST SQUARES\n",
      "-----------------------------------------\n",
      "Data set            :     unknown\n",
      "Weights matrix      :        None\n",
      "Dependent Variable  :   log_price                Number of Observations:       41365\n",
      "Mean dependent var  :      5.4175                Number of Variables   :          24\n",
      "S.D. dependent var  :      0.5956                Degrees of Freedom    :       41341\n",
      "R-squared           :      0.6569\n",
      "Adjusted R-squared  :      0.6567\n",
      "Sum squared residual:    5034.411                F-statistic           :   3441.9695\n",
      "Sigma-square        :       0.122                Prob(F-statistic)     :           0\n",
      "S.E. of regression  :       0.349                Log likelihood        :  -15134.181\n",
      "Sigma-square ML     :       0.122                Akaike info criterion :   30316.363\n",
      "S.E of regression ML:      0.3489                Schwarz criterion     :   30523.487\n",
      "\n",
      "------------------------------------------------------------------------------------\n",
      "            Variable     Coefficient       Std.Error     t-Statistic     Probability\n",
      "------------------------------------------------------------------------------------\n",
      "            CONSTANT       5.3120982       0.0238345     222.8742131       0.0000000\n",
      "         room_shared      -0.8310410       0.0206564     -40.2315949       0.0000000\n",
      "        room_private      -0.4222288       0.0045826     -92.1382299       0.0000000\n",
      "     person_capacity       0.0885925       0.0018941      46.7725370       0.0000000\n",
      "   host_is_superhost       0.0217772       0.0042079       5.1753263       0.0000002\n",
      "  cleanliness_rating       0.0366573       0.0026032      14.0817619       0.0000000\n",
      "guest_satisfaction_overall       0.0009425       0.0002834       3.3252203       0.0008843\n",
      "               multi       0.0436933       0.0044251       9.8739211       0.0000000\n",
      "                 biz       0.1106641       0.0044726      24.7427080       0.0000000\n",
      "            bedrooms       0.1474317       0.0034380      42.8834595       0.0000000\n",
      "                dist      -0.0130574       0.0013320      -9.8029407       0.0000000\n",
      "          metro_dist      -0.0161963       0.0025939      -6.2440801       0.0000000\n",
      "     attr_index_norm       0.0117826       0.0003064      38.4555904       0.0000000\n",
      "     rest_index_norm       0.0028140       0.0001784      15.7727181       0.0000000\n",
      "            Weekdays      -0.0296570       0.0034465      -8.6049914       0.0000000\n",
      "              Athens      -1.4584010       0.0110635    -131.8208494       0.0000000\n",
      "           Barcelona      -0.5863962       0.0115984     -50.5583384       0.0000000\n",
      "              Berlin      -0.7527655       0.0123387     -61.0084252       0.0000000\n",
      "            Budapest      -1.3743806       0.0109429    -125.5956817       0.0000000\n",
      "              Lisbon      -0.8942570       0.0106162     -84.2352136       0.0000000\n",
      "              London      -0.5066059       0.0108828     -46.5509820       0.0000000\n",
      "               Paris      -0.5339100       0.0106135     -50.3047593       0.0000000\n",
      "                Rome      -1.0300091       0.0097216    -105.9502906       0.0000000\n",
      "              Vienna      -0.8551605       0.0115469     -74.0598182       0.0000000\n",
      "------------------------------------------------------------------------------------\n",
      "\n",
      "REGRESSION DIAGNOSTICS\n",
      "MULTICOLLINEARITY CONDITION NUMBER           60.997\n",
      "\n",
      "TEST ON NORMALITY OF ERRORS\n",
      "TEST                             DF        VALUE           PROB\n",
      "Jarque-Bera                       2      156267.868           0.0000\n",
      "\n",
      "DIAGNOSTICS FOR HETEROSKEDASTICITY\n",
      "RANDOM COEFFICIENTS\n",
      "TEST                             DF        VALUE           PROB\n",
      "Breusch-Pagan test               23        4292.053           0.0000\n",
      "Koenker-Bassett test             23         774.101           0.0000\n",
      "================================ END OF REPORT =====================================\n"
     ]
    }
   ],
   "source": [
    "m2 = spreg.OLS(train_data[['log_price']].values, train_data[features].values, \n",
    "                  name_y = 'log_price', name_x = features)\n",
    "print(m2.summary)"
   ]
  },
  {
   "cell_type": "code",
   "execution_count": 298,
   "id": "10b8801f",
   "metadata": {},
   "outputs": [
    {
     "name": "stdout",
     "output_type": "stream",
     "text": [
      "Normal model\n",
      "99.38673353561202\n",
      "97.8410051910782\n",
      "Log model\n",
      "0.2577193799516518\n",
      "0.257707519329221\n",
      "Log model-after\n",
      "79.870526567546\n",
      "78.58566870737724\n"
     ]
    }
   ],
   "source": [
    "from sklearn.metrics import mean_absolute_error\n",
    "\n",
    "m1.intercept = m1.betas[0]  # Get the intercept from the betas array\n",
    "m1.coefficients = m1.betas[1:len(m1.betas)] # Get the coefficients from the betas array\n",
    "predicted_price = m1.intercept + test_data[features].dot(  m1.coefficients) \n",
    "predicted_price_2 = m1.intercept + train_data[features].dot(  m1.coefficients) \n",
    "\n",
    "# Calculate MSE for different models\n",
    "mse_ols_1 = mean_absolute_error(train_data[\"realSum\"], predicted_price_2)\n",
    "mse_ols = mean_absolute_error(test_data[\"realSum\"], predicted_price)\n",
    "\n",
    "\n",
    "print(\"Normal model\")\n",
    "\n",
    "print(mse_ols_1)\n",
    "print(mse_ols)\n",
    "\n",
    "\n",
    "\n",
    "m2.intercept = m2.betas[0]  # Get the intercept from the betas array\n",
    "m2.coefficients = m2.betas[1:len(m2.betas)] # Get the coefficients from the betas array\n",
    "predicted_price = m2.intercept + test_data[features].dot(  m2.coefficients) \n",
    "predicted_price_2 = m2.intercept + train_data[features].dot(  m2.coefficients) \n",
    "\n",
    "# Calculate MSE for different models\n",
    "mse_ols_1 = mean_absolute_error(train_data[\"log_price\"], predicted_price_2)\n",
    "mse_ols = mean_absolute_error(test_data[\"log_price\"], predicted_price)\n",
    "\n",
    "print(\"Log model\")\n",
    "\n",
    "print(mse_ols_1)\n",
    "print(mse_ols)\n",
    "\n",
    "predicted_price = np.exp(predicted_price) - 0.000001 \n",
    "predicted_price_2 = np.exp(predicted_price_2) - 0.000001 \n",
    "\n",
    "\n",
    "# Calculate MSE for different models\n",
    "mse_ols_1 = mean_absolute_error(train_data[\"realSum\"], predicted_price_2)\n",
    "mse_ols = mean_absolute_error(test_data[\"realSum\"], predicted_price)\n",
    "\n",
    "print(\"Log model-after\")\n",
    "\n",
    "print(mse_ols_1)\n",
    "print(mse_ols)\n",
    "\n"
   ]
  },
  {
   "cell_type": "code",
   "execution_count": 299,
   "id": "0b749c92",
   "metadata": {},
   "outputs": [
    {
     "name": "stderr",
     "output_type": "stream",
     "text": [
      "/Users/lauraforerocamacho/Library/Python/3.8/lib/python/site-packages/libpysal/weights/weights.py:172: UserWarning: The weights matrix is not fully connected: \n",
      " There are 28 disconnected components.\n",
      "  warnings.warn(message)\n"
     ]
    }
   ],
   "source": [
    "w_pool = weights.KNN.from_dataframe(train_data, k=8)\n",
    "lagged = train_data.assign(w_pool=weights.spatial_lag.lag_spatial(w_pool, train_data['rest_index'].values))\n"
   ]
  },
  {
   "cell_type": "code",
   "execution_count": 300,
   "id": "f44e220b",
   "metadata": {},
   "outputs": [
    {
     "name": "stdout",
     "output_type": "stream",
     "text": [
      "REGRESSION\n",
      "----------\n",
      "SUMMARY OF OUTPUT: ORDINARY LEAST SQUARES\n",
      "-----------------------------------------\n",
      "Data set            :     unknown\n",
      "Weights matrix      :        None\n",
      "Dependent Variable  :     realSum                Number of Observations:       41365\n",
      "Mean dependent var  :    279.5657                Number of Variables   :          25\n",
      "S.D. dependent var  :    339.3661                Degrees of Freedom    :       41340\n",
      "R-squared           :      0.2247\n",
      "Adjusted R-squared  :      0.2243\n",
      "Sum squared residual:3693416797.014                F-statistic           :    499.2249\n",
      "Sigma-square        :   89342.448                Prob(F-statistic)     :           0\n",
      "S.E. of regression  :     298.902                Log likelihood        : -294467.187\n",
      "Sigma-square ML     :   89288.452                Akaike info criterion :  588984.374\n",
      "S.E of regression ML:    298.8117                Schwarz criterion     :  589200.129\n",
      "\n",
      "------------------------------------------------------------------------------------\n",
      "            Variable     Coefficient       Std.Error     t-Statistic     Probability\n",
      "------------------------------------------------------------------------------------\n",
      "            CONSTANT     243.7438650      20.4819267      11.9004364       0.0000000\n",
      "         room_shared    -203.1400821      17.6936979     -11.4809286       0.0000000\n",
      "        room_private    -116.5109610       3.9296240     -29.6493913       0.0000000\n",
      "     person_capacity      22.4107663       1.6224262      13.8131189       0.0000000\n",
      "   host_is_superhost       0.7582796       3.6042006       0.2103877       0.8333661\n",
      "  cleanliness_rating       4.8277202       2.2298136       2.1650780       0.0303874\n",
      "guest_satisfaction_overall       0.8302422       0.2427688       3.4198880       0.0006271\n",
      "               multi       9.6302880       3.7902852       2.5407819       0.0110641\n",
      "                 biz      33.2663234       3.8368501       8.6702170       0.0000000\n",
      "            bedrooms      91.3064894       2.9449504      31.0044238       0.0000000\n",
      "                dist      -1.2817892       1.1446129      -1.1198451       0.2627863\n",
      "          metro_dist      -7.8865955       2.2349347      -3.5287811       0.0004179\n",
      "     attr_index_norm       6.2140501       0.2811985      22.0984435       0.0000000\n",
      "     rest_index_norm      -0.2101368       0.1938249      -1.0841580       0.2783011\n",
      "            Weekdays      -2.9479387       2.9557741      -0.9973491       0.3186009\n",
      "              Athens    -450.8630553       9.6436533     -46.7523088       0.0000000\n",
      "           Barcelona    -256.6173000      10.9798497     -23.3716588       0.0000000\n",
      "              Berlin    -297.6953793      10.7476044     -27.6987661       0.0000000\n",
      "            Budapest    -443.8951594       9.3789230     -47.3290119       0.0000000\n",
      "              Lisbon    -335.6278096       9.2939860     -36.1123644       0.0000000\n",
      "              London    -233.5725231       9.9354846     -23.5089212       0.0000000\n",
      "               Paris    -216.0037387       9.1810820     -23.5270460       0.0000000\n",
      "                Rome    -379.8084721      10.5777338     -35.9064125       0.0000000\n",
      "              Vienna    -331.0734486      10.0885447     -32.8167696       0.0000000\n",
      "              w_pool       0.0013805       0.0009222       1.4969606       0.1344111\n",
      "------------------------------------------------------------------------------------\n",
      "\n",
      "REGRESSION DIAGNOSTICS\n",
      "MULTICOLLINEARITY CONDITION NUMBER           63.030\n",
      "\n",
      "TEST ON NORMALITY OF ERRORS\n",
      "TEST                             DF        VALUE           PROB\n",
      "Jarque-Bera                       2  3261061761.552           0.0000\n",
      "\n",
      "DIAGNOSTICS FOR HETEROSKEDASTICITY\n",
      "RANDOM COEFFICIENTS\n",
      "TEST                             DF        VALUE           PROB\n",
      "Breusch-Pagan test               24       73404.125           0.0000\n",
      "Koenker-Bassett test             24         106.680           0.0000\n",
      "================================ END OF REPORT =====================================\n"
     ]
    }
   ],
   "source": [
    "extended_vars = features\n",
    "extended_vars.append(\"w_pool\")\n",
    "train_data['w_pool']=lagged['w_pool']\n",
    "m1 = spreg.OLS(train_data[['realSum']].values, train_data[extended_vars].values,\n",
    "                  name_y = 'realSum', name_x = extended_vars)\n",
    "\n",
    "results = m1\n",
    "\n",
    "print(results.summary)\n"
   ]
  },
  {
   "cell_type": "code",
   "execution_count": 301,
   "id": "618a0fc6",
   "metadata": {},
   "outputs": [
    {
     "name": "stderr",
     "output_type": "stream",
     "text": [
      "/Users/lauraforerocamacho/Library/Python/3.8/lib/python/site-packages/libpysal/weights/weights.py:172: UserWarning: The weights matrix is not fully connected: \n",
      " There are 11 disconnected components.\n",
      "  warnings.warn(message)\n"
     ]
    }
   ],
   "source": [
    "w_pool = weights.KNN.from_dataframe(test_data, k=8)\n",
    "lagged = test_data.assign(w_pool=weights.spatial_lag.lag_spatial(w_pool, test_data['rest_index'].values))\n",
    "test_data['w_pool']=lagged['w_pool']\n"
   ]
  },
  {
   "cell_type": "code",
   "execution_count": 302,
   "id": "eb2e2679",
   "metadata": {},
   "outputs": [
    {
     "name": "stdout",
     "output_type": "stream",
     "text": [
      "99.37970718062525\n",
      "97.85185798337572\n"
     ]
    }
   ],
   "source": [
    "from sklearn.metrics import mean_absolute_error\n",
    "\n",
    "m1.intercept = m1.betas[0]  # Get the intercept from the betas array\n",
    "m1.coefficients = m1.betas[1:len(m1.betas)] # Get the coefficients from the betas array\n",
    "predicted_price = m1.intercept + test_data[extended_vars].dot( m1.coefficients) \n",
    "predicted_price_2 = m1.intercept + train_data[extended_vars].dot( m1.coefficients) \n",
    "\n",
    "# Calculate MSE for different models\n",
    "mse_ols_1 = mean_absolute_error(train_data[\"realSum\"], predicted_price_2)\n",
    "mse_ols = mean_absolute_error(test_data[\"realSum\"], predicted_price)\n",
    "\n",
    "print(mse_ols_1)\n",
    "print(mse_ols)"
   ]
  }
 ],
 "metadata": {
  "kernelspec": {
   "display_name": "Python 3 (ipykernel)",
   "language": "python",
   "name": "python3"
  },
  "language_info": {
   "codemirror_mode": {
    "name": "ipython",
    "version": 3
   },
   "file_extension": ".py",
   "mimetype": "text/x-python",
   "name": "python",
   "nbconvert_exporter": "python",
   "pygments_lexer": "ipython3",
   "version": "3.8.9"
  }
 },
 "nbformat": 4,
 "nbformat_minor": 5
}
