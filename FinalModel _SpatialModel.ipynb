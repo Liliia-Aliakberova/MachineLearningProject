{
 "cells": [
  {
   "cell_type": "markdown",
   "id": "b7df141b",
   "metadata": {},
   "source": [
    "# Part 1 Preprocess\n",
    "* * *"
   ]
  },
  {
   "cell_type": "code",
   "execution_count": 48,
   "id": "caf8dfd0",
   "metadata": {},
   "outputs": [],
   "source": [
    "#%matplotlib notebook\n",
    "import numpy as np\n",
    "import matplotlib.pyplot as plt\n",
    "import seaborn as sn\n",
    "import pandas as pd\n",
    "from collections import Counter\n",
    "from IPython.core.interactiveshell import InteractiveShell\n",
    "InteractiveShell.ast_node_interactivity = \"all\"\n",
    "\n",
    "\n",
    "from pandas import read_csv\n",
    "from sklearn.neighbors import KNeighborsClassifier\n",
    "from sklearn.neighbors import LocalOutlierFactor\n",
    "from sklearn import preprocessing\n",
    "from statsmodels.genmod.generalized_linear_model import GLM\n",
    "from pandas.plotting import scatter_matrix\n",
    "from scipy.stats import boxcox\n",
    "\n",
    "from sklearn.model_selection import train_test_split,  KFold, cross_val_score\n",
    "from sklearn.linear_model import LinearRegression, Ridge, RidgeCV, Lasso, LassoCV\n",
    "from sklearn.metrics import mean_squared_error, r2_score\n",
    "from sklearn.preprocessing import  StandardScaler\n",
    "\n",
    "from statsmodels.genmod.generalized_linear_model import GLM\n",
    "import statsmodels.api as sm\n",
    "from scipy import stats\n"
   ]
  },
  {
   "attachments": {},
   "cell_type": "markdown",
   "id": "79aaafc0",
   "metadata": {},
   "source": [
    "### Loading the datasets"
   ]
  },
  {
   "cell_type": "markdown",
   "id": "6c27709b",
   "metadata": {},
   "source": [
    "Create a list of all files and add the corresponding city names and day type"
   ]
  },
  {
   "cell_type": "code",
   "execution_count": 49,
   "id": "9f9e4209",
   "metadata": {},
   "outputs": [],
   "source": [
    "def load_data():\n",
    "    data = [(\"/Users/lauraforerocamacho/Downloads/data/amsterdam_weekdays.csv\", \"Amsterdam\", \"Weekdays\"),\n",
    "                 (\"/Users/lauraforerocamacho/Downloads/data/athens_weekdays.csv\", \"Athens\",\"Weekdays\"),\n",
    "                 (\"/Users/lauraforerocamacho/Downloads/data/barcelona_weekdays.csv\", \"Barcelona\", \"Weekdays\"),\n",
    "                 (\"/Users/lauraforerocamacho/Downloads/data/berlin_weekdays.csv\", \"Berlin\", \"Weekdays\"),\n",
    "                 (\"/Users/lauraforerocamacho/Downloads/data/budapest_weekdays.csv\", \"Budapest\", \"Weekdays\"),\n",
    "                 (\"/Users/lauraforerocamacho/Downloads/data/lisbon_weekdays.csv\", \"Lisbon\", \"Weekdays\"),\n",
    "                 (\"/Users/lauraforerocamacho/Downloads/data/London_weekdays.csv\", \"London\", \"Weekdays\"),\n",
    "                 (\"/Users/lauraforerocamacho/Downloads/data/rome_weekdays.csv\", \"Rome\", \"Weekdays\"),\n",
    "                 (\"/Users/lauraforerocamacho/Downloads/data/paris_weekdays.csv\", \"Paris\", \"Weekdays\"),\n",
    "                 (\"/Users/lauraforerocamacho/Downloads/data/Vienna_weekdays.csv\", \"Vienna\", \"Weekdays\"),\n",
    "                 (\"/Users/lauraforerocamacho/Downloads/data/amsterdam_weekends.csv\", \"Amsterdam\", \"Weekends\"),\n",
    "                 (\"/Users/lauraforerocamacho/Downloads/data/athens_weekends.csv\", \"Athens\", \"Weekends\"),\n",
    "                 (\"/Users/lauraforerocamacho/Downloads/data/barcelona_weekends.csv\", \"Barcelona\", \"Weekends\"),\n",
    "                 (\"/Users/lauraforerocamacho/Downloads/data/berlin_weekends.csv\", \"Berlin\", \"Weekends\"),\n",
    "                 (\"/Users/lauraforerocamacho/Downloads/data/budapest_weekends.csv\", \"Budapest\", \"Weekends\"),\n",
    "                 (\"/Users/lauraforerocamacho/Downloads/data/lisbon_weekends.csv\", \"Lisbon\", \"Weekends\"),\n",
    "                 (\"/Users/lauraforerocamacho/Downloads/data/London_weekends.csv\", \"London\", \"Weekends\"),\n",
    "                 (\"/Users/lauraforerocamacho/Downloads/data/rome_weekends.csv\", \"Rome\", \"Weekends\"),\n",
    "                 (\"/Users/lauraforerocamacho/Downloads/data/paris_weekends.csv\", \"Paris\", \"Weekends\"),\n",
    "                 (\"/Users/lauraforerocamacho/Downloads/data/Vienna_weekends.csv\", \"Vienna\", \"Weekends\")\n",
    "                 ]\n",
    "    #merge data\n",
    "    dfs = []\n",
    "    for file_path, city_name, day_type in data:\n",
    "        df = pd.read_csv(file_path, usecols=lambda col: col != 'Unnamed: 0')\n",
    "        df = df.assign(city=city_name, type=day_type)\n",
    "        dfs.append(df)\n",
    "    data = pd.concat(dfs)\n",
    "    return data\n",
    "\n",
    "data= load_data()\n",
    "numeric_colums= [\"realSum\", \"person_capacity\",\"cleanliness_rating\",\"guest_satisfaction_overall\",'bedrooms', 'dist',\n",
    "       'metro_dist', 'attr_index', 'attr_index_norm', 'rest_index', 'rest_index_norm', 'lng', 'lat']\n",
    "categorical_colums= [\"room_type\",\"room_shared\", \"room_private\", \"host_is_superhost\",\"multi\", \"biz\" , 'city', 'type']\n",
    "\n",
    "def preprocess_data(data):\n",
    "    for i in categorical_colums:\n",
    "        data[i] = data[i].astype('object')\n",
    "        data[i].unique()\n",
    "    return data\n",
    "data= preprocess_data(data)"
   ]
  },
  {
   "attachments": {},
   "cell_type": "markdown",
   "id": "5adddf7d",
   "metadata": {},
   "source": [
    "View distributin of the value"
   ]
  },
  {
   "cell_type": "code",
   "execution_count": 50,
   "id": "2a163a1d",
   "metadata": {},
   "outputs": [],
   "source": [
    "import seaborn as sns\n",
    "\n",
    "def plot_distribution_features():\n",
    "\n",
    "    fig, axes = plt.subplots(6,4,figsize=(26,20))\n",
    "\n",
    "    # We will not plot country because it has too many categories.\n",
    "    for i, c in enumerate(data.columns):\n",
    "        ax = axes.reshape(-1)[i]\n",
    "        if data[c].dtype.kind == 'O':\n",
    "            a = sns.countplot(x=c,data=data,ax=ax)\n",
    "        else:\n",
    "            b = sns.histplot(x=c,data=data,ax=ax)\n",
    "        t = ax.set_title(c)\n",
    "    plt.tight_layout()"
   ]
  },
  {
   "cell_type": "code",
   "execution_count": 51,
   "id": "7ba84a78",
   "metadata": {},
   "outputs": [],
   "source": [
    "data_clean=data\n",
    "\n",
    "def preprocess_data_LL(data_clean):\n",
    "    for i in  ['Amsterdam','Athens','Barcelona', 'Berlin', 'Budapest', 'Lisbon', 'London', 'Paris', 'Rome','Vienna']:\n",
    "        data_clean[\"lat_\"+i]=0\n",
    "        data_clean[\"lng_\"+i]=0\n",
    "    data_clean.reset_index()\n",
    "    for ind in data_clean.index:\n",
    "        data_clean['lat_'+data_clean['city'][ind]][ind]=data_clean['lat'][ind]\n",
    "        data_clean['lng_'+data_clean['city'][ind]][ind]=data_clean['lng'][ind]\n",
    "    data_clean.drop(columns=['lng','lat'],inplace=True)\n",
    "    return data_clean\n",
    "#data_clean = preprocess_data_LL(data_clean)\n",
    "X = data_clean.loc[:,data_clean.columns != 'realSum']\n",
    "y = data_clean['realSum']\n"
   ]
  },
  {
   "cell_type": "code",
   "execution_count": 52,
   "id": "f6b8b020",
   "metadata": {},
   "outputs": [
    {
     "name": "stderr",
     "output_type": "stream",
     "text": [
      "/var/folders/zv/hzjbp8kd1l103x8tgl0s00z80000gn/T/ipykernel_3968/116871885.py:2: SettingWithCopyWarning: \n",
      "A value is trying to be set on a copy of a slice from a DataFrame\n",
      "\n",
      "See the caveats in the documentation: https://pandas.pydata.org/pandas-docs/stable/user_guide/indexing.html#returning-a-view-versus-a-copy\n",
      "  X[i].replace([False, True],[0,1],inplace=True)\n"
     ]
    }
   ],
   "source": [
    "for i in [\"room_shared\",\t\"room_private\",\t\"host_is_superhost\"]:\n",
    "    X[i].replace([False, True],[0,1],inplace=True)\n",
    "\n",
    "#X['person_capacity'] = X['person_capacity'].astype(str)\n",
    "#X['bedrooms'] = X['bedrooms'].astype(str)\n",
    "#,'person_capacity'\n",
    "#\"room_type\",\n",
    "for column in [ \"city\", \"type\"]:\n",
    "    X_one_hot = pd.get_dummies(X[column] , dtype=int, drop_first=False)\n",
    "    X = pd.concat([X, X_one_hot], axis='columns')\n",
    "\n",
    "# drop the values\n",
    "X= X.drop([\"room_type\", \"city\", \"type\"], axis='columns')\n",
    "X_new= X\n"
   ]
  },
  {
   "cell_type": "code",
   "execution_count": 53,
   "id": "712b51a3",
   "metadata": {},
   "outputs": [],
   "source": [
    "final_train_data=X_new\n",
    "final_train_data[\"realSum\"]=y"
   ]
  },
  {
   "cell_type": "code",
   "execution_count": 54,
   "id": "23a5042d",
   "metadata": {},
   "outputs": [],
   "source": [
    "final_train_data.to_csv(\"datapre.csv\", index=False)"
   ]
  },
  {
   "cell_type": "code",
   "execution_count": 55,
   "id": "a8096e66",
   "metadata": {},
   "outputs": [],
   "source": [
    "from pysal.model import spreg\n",
    "from pysal.lib import weights\n",
    "from scipy import stats\n",
    "import numpy as np\n",
    "import pandas as pd\n",
    "import geopandas as gpd\n",
    "import seaborn as sns\n"
   ]
  },
  {
   "cell_type": "code",
   "execution_count": 56,
   "id": "0736ec10",
   "metadata": {},
   "outputs": [
    {
     "data": {
      "text/html": [
       "<div>\n",
       "<style scoped>\n",
       "    .dataframe tbody tr th:only-of-type {\n",
       "        vertical-align: middle;\n",
       "    }\n",
       "\n",
       "    .dataframe tbody tr th {\n",
       "        vertical-align: top;\n",
       "    }\n",
       "\n",
       "    .dataframe thead th {\n",
       "        text-align: right;\n",
       "    }\n",
       "</style>\n",
       "<table border=\"1\" class=\"dataframe\">\n",
       "  <thead>\n",
       "    <tr style=\"text-align: right;\">\n",
       "      <th></th>\n",
       "      <th>room_shared</th>\n",
       "      <th>room_private</th>\n",
       "      <th>person_capacity</th>\n",
       "      <th>host_is_superhost</th>\n",
       "      <th>multi</th>\n",
       "      <th>biz</th>\n",
       "      <th>cleanliness_rating</th>\n",
       "      <th>guest_satisfaction_overall</th>\n",
       "      <th>bedrooms</th>\n",
       "      <th>dist</th>\n",
       "      <th>...</th>\n",
       "      <th>Budapest</th>\n",
       "      <th>Lisbon</th>\n",
       "      <th>London</th>\n",
       "      <th>Paris</th>\n",
       "      <th>Rome</th>\n",
       "      <th>Vienna</th>\n",
       "      <th>Weekdays</th>\n",
       "      <th>Weekends</th>\n",
       "      <th>realSum</th>\n",
       "      <th>geometry</th>\n",
       "    </tr>\n",
       "  </thead>\n",
       "  <tbody>\n",
       "    <tr>\n",
       "      <th>0</th>\n",
       "      <td>0</td>\n",
       "      <td>1</td>\n",
       "      <td>2.0</td>\n",
       "      <td>0</td>\n",
       "      <td>1</td>\n",
       "      <td>0</td>\n",
       "      <td>10.0</td>\n",
       "      <td>93.0</td>\n",
       "      <td>1</td>\n",
       "      <td>5.022964</td>\n",
       "      <td>...</td>\n",
       "      <td>0</td>\n",
       "      <td>0</td>\n",
       "      <td>0</td>\n",
       "      <td>0</td>\n",
       "      <td>0</td>\n",
       "      <td>0</td>\n",
       "      <td>1</td>\n",
       "      <td>0</td>\n",
       "      <td>194.033698</td>\n",
       "      <td>POINT (4.90569 52.41772)</td>\n",
       "    </tr>\n",
       "    <tr>\n",
       "      <th>1</th>\n",
       "      <td>0</td>\n",
       "      <td>1</td>\n",
       "      <td>4.0</td>\n",
       "      <td>0</td>\n",
       "      <td>0</td>\n",
       "      <td>0</td>\n",
       "      <td>8.0</td>\n",
       "      <td>85.0</td>\n",
       "      <td>1</td>\n",
       "      <td>0.488389</td>\n",
       "      <td>...</td>\n",
       "      <td>0</td>\n",
       "      <td>0</td>\n",
       "      <td>0</td>\n",
       "      <td>0</td>\n",
       "      <td>0</td>\n",
       "      <td>0</td>\n",
       "      <td>1</td>\n",
       "      <td>0</td>\n",
       "      <td>344.245776</td>\n",
       "      <td>POINT (4.90005 52.37432)</td>\n",
       "    </tr>\n",
       "    <tr>\n",
       "      <th>2</th>\n",
       "      <td>0</td>\n",
       "      <td>1</td>\n",
       "      <td>2.0</td>\n",
       "      <td>0</td>\n",
       "      <td>0</td>\n",
       "      <td>1</td>\n",
       "      <td>9.0</td>\n",
       "      <td>87.0</td>\n",
       "      <td>1</td>\n",
       "      <td>5.748312</td>\n",
       "      <td>...</td>\n",
       "      <td>0</td>\n",
       "      <td>0</td>\n",
       "      <td>0</td>\n",
       "      <td>0</td>\n",
       "      <td>0</td>\n",
       "      <td>0</td>\n",
       "      <td>1</td>\n",
       "      <td>0</td>\n",
       "      <td>264.101422</td>\n",
       "      <td>POINT (4.97512 52.36103)</td>\n",
       "    </tr>\n",
       "    <tr>\n",
       "      <th>3</th>\n",
       "      <td>0</td>\n",
       "      <td>1</td>\n",
       "      <td>4.0</td>\n",
       "      <td>0</td>\n",
       "      <td>0</td>\n",
       "      <td>1</td>\n",
       "      <td>9.0</td>\n",
       "      <td>90.0</td>\n",
       "      <td>2</td>\n",
       "      <td>0.384862</td>\n",
       "      <td>...</td>\n",
       "      <td>0</td>\n",
       "      <td>0</td>\n",
       "      <td>0</td>\n",
       "      <td>0</td>\n",
       "      <td>0</td>\n",
       "      <td>0</td>\n",
       "      <td>1</td>\n",
       "      <td>0</td>\n",
       "      <td>433.529398</td>\n",
       "      <td>POINT (4.89417 52.37663)</td>\n",
       "    </tr>\n",
       "    <tr>\n",
       "      <th>4</th>\n",
       "      <td>0</td>\n",
       "      <td>1</td>\n",
       "      <td>2.0</td>\n",
       "      <td>1</td>\n",
       "      <td>0</td>\n",
       "      <td>0</td>\n",
       "      <td>10.0</td>\n",
       "      <td>98.0</td>\n",
       "      <td>1</td>\n",
       "      <td>0.544738</td>\n",
       "      <td>...</td>\n",
       "      <td>0</td>\n",
       "      <td>0</td>\n",
       "      <td>0</td>\n",
       "      <td>0</td>\n",
       "      <td>0</td>\n",
       "      <td>0</td>\n",
       "      <td>1</td>\n",
       "      <td>0</td>\n",
       "      <td>485.552926</td>\n",
       "      <td>POINT (4.90051 52.37508)</td>\n",
       "    </tr>\n",
       "  </tbody>\n",
       "</table>\n",
       "<p>5 rows × 31 columns</p>\n",
       "</div>"
      ],
      "text/plain": [
       "   room_shared  room_private  person_capacity  host_is_superhost multi biz   \n",
       "0            0             1              2.0                  0     1   0  \\\n",
       "1            0             1              4.0                  0     0   0   \n",
       "2            0             1              2.0                  0     0   1   \n",
       "3            0             1              4.0                  0     0   1   \n",
       "4            0             1              2.0                  1     0   0   \n",
       "\n",
       "   cleanliness_rating  guest_satisfaction_overall  bedrooms      dist  ...   \n",
       "0                10.0                        93.0         1  5.022964  ...  \\\n",
       "1                 8.0                        85.0         1  0.488389  ...   \n",
       "2                 9.0                        87.0         1  5.748312  ...   \n",
       "3                 9.0                        90.0         2  0.384862  ...   \n",
       "4                10.0                        98.0         1  0.544738  ...   \n",
       "\n",
       "   Budapest  Lisbon  London  Paris  Rome  Vienna  Weekdays  Weekends   \n",
       "0         0       0       0      0     0       0         1         0  \\\n",
       "1         0       0       0      0     0       0         1         0   \n",
       "2         0       0       0      0     0       0         1         0   \n",
       "3         0       0       0      0     0       0         1         0   \n",
       "4         0       0       0      0     0       0         1         0   \n",
       "\n",
       "      realSum                  geometry  \n",
       "0  194.033698  POINT (4.90569 52.41772)  \n",
       "1  344.245776  POINT (4.90005 52.37432)  \n",
       "2  264.101422  POINT (4.97512 52.36103)  \n",
       "3  433.529398  POINT (4.89417 52.37663)  \n",
       "4  485.552926  POINT (4.90051 52.37508)  \n",
       "\n",
       "[5 rows x 31 columns]"
      ]
     },
     "execution_count": 56,
     "metadata": {},
     "output_type": "execute_result"
    }
   ],
   "source": [
    "import geopandas as gpd\n",
    "from pysal.model import spreg\n",
    "from pysal.lib import weights\n",
    "from scipy import stats\n",
    "# Create a GeoDataFrame\n",
    "final_train_data[\"geometry\"] = gpd.points_from_xy(final_train_data[\"lng\"], data[\"lat\"])\n",
    "final_train_data = gpd.GeoDataFrame(final_train_data, crs=\"epsg:4326\")\n",
    "\n",
    "final_train_data = final_train_data.reset_index(drop=True)\n",
    "\n",
    "# Check the first rows\n",
    "final_train_data.head()"
   ]
  },
  {
   "cell_type": "code",
   "execution_count": 57,
   "id": "3b70e886",
   "metadata": {},
   "outputs": [],
   "source": [
    "final_train_data[\"log_price\"] = np.log(final_train_data[\"realSum\"] + 0.000001)"
   ]
  },
  {
   "cell_type": "code",
   "execution_count": 58,
   "id": "ab98625e",
   "metadata": {},
   "outputs": [],
   "source": [
    "final_train_data[['multi', 'biz']]=final_train_data[['multi', 'biz']].astype('float64')\n"
   ]
  },
  {
   "cell_type": "code",
   "execution_count": 59,
   "id": "2e104372",
   "metadata": {},
   "outputs": [],
   "source": [
    "train_data, test_data = train_test_split(final_train_data, test_size=0.2, random_state=42)"
   ]
  },
  {
   "cell_type": "code",
   "execution_count": 60,
   "id": "0d5da8ae",
   "metadata": {},
   "outputs": [
    {
     "name": "stderr",
     "output_type": "stream",
     "text": [
      "/Users/lauraforerocamacho/Library/Python/3.8/lib/python/site-packages/libpysal/weights/weights.py:172: UserWarning: The weights matrix is not fully connected: \n",
      " There are 21 disconnected components.\n",
      "  warnings.warn(message)\n"
     ]
    },
    {
     "data": {
      "text/plain": [
       "<libpysal.weights.distance.KNN at 0x13ef79fd0>"
      ]
     },
     "execution_count": 60,
     "metadata": {},
     "output_type": "execute_result"
    }
   ],
   "source": [
    "w = weights.KNN.from_dataframe(train_data, k=8)\n",
    "w.transform = 'R'\n",
    "w"
   ]
  },
  {
   "cell_type": "code",
   "execution_count": 61,
   "id": "32eed259",
   "metadata": {},
   "outputs": [
    {
     "data": {
      "text/plain": [
       "Index(['room_shared', 'room_private', 'person_capacity', 'host_is_superhost',\n",
       "       'multi', 'biz', 'cleanliness_rating', 'guest_satisfaction_overall',\n",
       "       'bedrooms', 'dist', 'metro_dist', 'attr_index', 'attr_index_norm',\n",
       "       'rest_index', 'rest_index_norm', 'lng', 'lat', 'Amsterdam', 'Athens',\n",
       "       'Barcelona', 'Berlin', 'Budapest', 'Lisbon', 'London', 'Paris', 'Rome',\n",
       "       'Vienna', 'Weekdays', 'Weekends', 'realSum', 'geometry'],\n",
       "      dtype='object')"
      ]
     },
     "execution_count": 61,
     "metadata": {},
     "output_type": "execute_result"
    }
   ],
   "source": [
    "X_new.columns"
   ]
  },
  {
   "cell_type": "code",
   "execution_count": 62,
   "id": "41e29c9a",
   "metadata": {},
   "outputs": [
    {
     "data": {
      "text/plain": [
       "room_shared                      int64\n",
       "room_private                     int64\n",
       "person_capacity                float64\n",
       "host_is_superhost                int64\n",
       "multi                          float64\n",
       "biz                            float64\n",
       "cleanliness_rating             float64\n",
       "guest_satisfaction_overall     float64\n",
       "bedrooms                         int64\n",
       "dist                           float64\n",
       "metro_dist                     float64\n",
       "attr_index                     float64\n",
       "attr_index_norm                float64\n",
       "rest_index                     float64\n",
       "rest_index_norm                float64\n",
       "lng                            float64\n",
       "lat                            float64\n",
       "Amsterdam                        int64\n",
       "Athens                           int64\n",
       "Barcelona                        int64\n",
       "Berlin                           int64\n",
       "Budapest                         int64\n",
       "Lisbon                           int64\n",
       "London                           int64\n",
       "Paris                            int64\n",
       "Rome                             int64\n",
       "Vienna                           int64\n",
       "Weekdays                         int64\n",
       "Weekends                         int64\n",
       "realSum                        float64\n",
       "geometry                      geometry\n",
       "log_price                      float64\n",
       "dtype: object"
      ]
     },
     "execution_count": 62,
     "metadata": {},
     "output_type": "execute_result"
    }
   ],
   "source": [
    "train_data.dtypes"
   ]
  },
  {
   "cell_type": "code",
   "execution_count": 63,
   "id": "0b35af0c",
   "metadata": {},
   "outputs": [],
   "source": [
    "\n",
    "\n",
    "features = ['room_shared', 'room_private', 'person_capacity', 'host_is_superhost',\n",
    "       'cleanliness_rating', 'guest_satisfaction_overall','multi', 'biz',\n",
    "       'bedrooms', 'dist', 'metro_dist', 'attr_index_norm',\n",
    "       'rest_index_norm', 'Weekdays', 'Athens',\n",
    "       'Barcelona', 'Berlin', 'Budapest', 'Lisbon', 'London', 'Paris', 'Rome',\n",
    "       'Vienna']\n",
    "target = 'realSum'\n"
   ]
  },
  {
   "cell_type": "code",
   "execution_count": 64,
   "id": "ede33a4b",
   "metadata": {},
   "outputs": [
    {
     "name": "stdout",
     "output_type": "stream",
     "text": [
      "Has missing values: False\n"
     ]
    }
   ],
   "source": [
    "all_model_attributes = [\"realSum\"] + features\n",
    "has_nans = False\n",
    "for attr in all_model_attributes:\n",
    "    if train_data[attr].hasnans:\n",
    "        has_nans = True\n",
    "print(\"Has missing values:\", has_nans)"
   ]
  },
  {
   "cell_type": "code",
   "execution_count": 65,
   "id": "e5aa8d20",
   "metadata": {},
   "outputs": [],
   "source": [
    "train_data = train_data.dropna(subset=all_model_attributes).copy()\n"
   ]
  },
  {
   "cell_type": "code",
   "execution_count": 66,
   "id": "24db3fff",
   "metadata": {},
   "outputs": [
    {
     "name": "stdout",
     "output_type": "stream",
     "text": [
      "REGRESSION\n",
      "----------\n",
      "SUMMARY OF OUTPUT: ORDINARY LEAST SQUARES\n",
      "-----------------------------------------\n",
      "Data set            :     unknown\n",
      "Weights matrix      :        None\n",
      "Dependent Variable  :     realSum                Number of Observations:       41365\n",
      "Mean dependent var  :    279.9664                Number of Variables   :          24\n",
      "S.D. dependent var  :    332.8897                Degrees of Freedom    :       41341\n",
      "R-squared           :      0.2359\n",
      "Adjusted R-squared  :      0.2355\n",
      "Sum squared residual:3502512065.856                F-statistic           :    554.8870\n",
      "Sigma-square        :   84722.480                Prob(F-statistic)     :           0\n",
      "S.E. of regression  :     291.071                Log likelihood        : -293369.535\n",
      "Sigma-square ML     :   84673.324                Akaike info criterion :  586787.069\n",
      "S.E of regression ML:    290.9868                Schwarz criterion     :  586994.194\n",
      "\n",
      "------------------------------------------------------------------------------------\n",
      "            Variable     Coefficient       Std.Error     t-Statistic     Probability\n",
      "------------------------------------------------------------------------------------\n",
      "            CONSTANT     245.0735265      19.7031876      12.4382680       0.0000000\n",
      "         room_shared    -202.1003901      17.1289317     -11.7987738       0.0000000\n",
      "        room_private    -117.6008012       3.8194310     -30.7901363       0.0000000\n",
      "     person_capacity      23.5784292       1.5816290      14.9076860       0.0000000\n",
      "   host_is_superhost      -1.4346341       3.5109437      -0.4086178       0.6828223\n",
      "  cleanliness_rating       6.4392842       2.1665552       2.9721302       0.0029591\n",
      "guest_satisfaction_overall       0.5744292       0.2368578       2.4252068       0.0153039\n",
      "               multi       9.7767693       3.6976329       2.6440616       0.0081949\n",
      "                 biz      32.2028827       3.7307664       8.6317070       0.0000000\n",
      "            bedrooms      89.6152557       2.8820186      31.0946143       0.0000000\n",
      "                dist      -1.3087390       1.1142959      -1.1744986       0.2402021\n",
      "          metro_dist      -7.2020780       2.1583064      -3.3369117       0.0008479\n",
      "     attr_index_norm       6.7094841       0.2572103      26.0855922       0.0000000\n",
      "     rest_index_norm      -0.0660235       0.1496030      -0.4413247       0.6589802\n",
      "            Weekdays      -5.1508064       2.8748541      -1.7916758       0.0731922\n",
      "              Athens    -444.8140623       9.2534487     -48.0700848       0.0000000\n",
      "           Barcelona    -249.3220753       9.6953365     -25.7156702       0.0000000\n",
      "              Berlin    -301.2635611      10.3243370     -29.1799427       0.0000000\n",
      "            Budapest    -439.1063160       9.1605808     -47.9343313       0.0000000\n",
      "              Lisbon    -330.7416637       8.8546499     -37.3523140       0.0000000\n",
      "              London    -230.4934562       9.0742854     -25.4007281       0.0000000\n",
      "               Paris    -215.7268072       8.8278056     -24.4371952       0.0000000\n",
      "                Rome    -369.0697611       8.1149103     -45.4804487       0.0000000\n",
      "              Vienna    -329.3082364       9.5969362     -34.3138925       0.0000000\n",
      "------------------------------------------------------------------------------------\n",
      "\n",
      "REGRESSION DIAGNOSTICS\n",
      "MULTICOLLINEARITY CONDITION NUMBER           61.130\n",
      "\n",
      "TEST ON NORMALITY OF ERRORS\n",
      "TEST                             DF        VALUE           PROB\n",
      "Jarque-Bera                       2  3017427845.900           0.0000\n",
      "\n",
      "DIAGNOSTICS FOR HETEROSKEDASTICITY\n",
      "RANDOM COEFFICIENTS\n",
      "TEST                             DF        VALUE           PROB\n",
      "Breusch-Pagan test               23       76367.037           0.0000\n",
      "Koenker-Bassett test             23         115.374           0.0000\n",
      "================================ END OF REPORT =====================================\n"
     ]
    }
   ],
   "source": [
    "m1 = spreg.OLS(train_data[['realSum']].values, train_data[features].values, \n",
    "                  name_y = 'realSum', name_x = features)\n",
    "\n",
    "results = m1\n",
    "\n",
    "print(results.summary)\n"
   ]
  },
  {
   "cell_type": "code",
   "execution_count": 67,
   "id": "10b8801f",
   "metadata": {},
   "outputs": [
    {
     "name": "stdout",
     "output_type": "stream",
     "text": [
      "84673.3244495614\n",
      "69139.66517001996\n"
     ]
    }
   ],
   "source": [
    "from sklearn.metrics import mean_squared_error\n",
    "\n",
    "m1.intercept = m1.betas[0]  # Get the intercept from the betas array\n",
    "m1.coefficients = m1.betas[1:len(m1.betas)] # Get the coefficients from the betas array\n",
    "predicted_price = m1.intercept + test_data[features].dot(  m1.coefficients) \n",
    "predicted_price_2 = m1.intercept + train_data[features].dot(  m1.coefficients) \n",
    "\n",
    "# Calculate MSE for different models\n",
    "mse_ols_1 = mean_squared_error(train_data[\"realSum\"], predicted_price_2)\n",
    "mse_ols = mean_squared_error(test_data[\"realSum\"], predicted_price)\n",
    "\n",
    "print(mse_ols_1)\n",
    "print(mse_ols)\n",
    "\n",
    "\n"
   ]
  },
  {
   "cell_type": "code",
   "execution_count": 68,
   "id": "efa55dd9",
   "metadata": {},
   "outputs": [
    {
     "ename": "LinAlgError",
     "evalue": "Singular matrix",
     "output_type": "error",
     "traceback": [
      "\u001b[0;31m---------------------------------------------------------------------------\u001b[0m",
      "\u001b[0;31mLinAlgError\u001b[0m                               Traceback (most recent call last)",
      "\u001b[1;32m/Users/lauraforerocamacho/Library/CloudStorage/GoogleDrive-lauisa341@gmail.com/My Drive/Maestria/Barcelona/Notas/ML/MachineLearningProject/FinalModel _SpatialModel.ipynb Cell 25\u001b[0m in \u001b[0;36m<module>\u001b[0;34m\u001b[0m\n\u001b[0;32m----> <a href='vscode-notebook-cell:/Users/lauraforerocamacho/Library/CloudStorage/GoogleDrive-lauisa341%40gmail.com/My%20Drive/Maestria/Barcelona/Notas/ML/MachineLearningProject/FinalModel%20_SpatialModel.ipynb#X30sZmlsZQ%3D%3D?line=0'>1</a>\u001b[0m m1 \u001b[39m=\u001b[39m spreg\u001b[39m.\u001b[39;49mGM_Lag(train_data[[\u001b[39m'\u001b[39;49m\u001b[39mrealSum\u001b[39;49m\u001b[39m'\u001b[39;49m]]\u001b[39m.\u001b[39;49mvalues, train_data[features]\u001b[39m.\u001b[39;49mvalues, w\u001b[39m=\u001b[39;49mw,\n\u001b[1;32m      <a href='vscode-notebook-cell:/Users/lauraforerocamacho/Library/CloudStorage/GoogleDrive-lauisa341%40gmail.com/My%20Drive/Maestria/Barcelona/Notas/ML/MachineLearningProject/FinalModel%20_SpatialModel.ipynb#X30sZmlsZQ%3D%3D?line=1'>2</a>\u001b[0m                   name_y \u001b[39m=\u001b[39;49m \u001b[39m'\u001b[39;49m\u001b[39mrealSum\u001b[39;49m\u001b[39m'\u001b[39;49m, name_x \u001b[39m=\u001b[39;49m features)\n\u001b[1;32m      <a href='vscode-notebook-cell:/Users/lauraforerocamacho/Library/CloudStorage/GoogleDrive-lauisa341%40gmail.com/My%20Drive/Maestria/Barcelona/Notas/ML/MachineLearningProject/FinalModel%20_SpatialModel.ipynb#X30sZmlsZQ%3D%3D?line=3'>4</a>\u001b[0m results \u001b[39m=\u001b[39m m1\n\u001b[1;32m      <a href='vscode-notebook-cell:/Users/lauraforerocamacho/Library/CloudStorage/GoogleDrive-lauisa341%40gmail.com/My%20Drive/Maestria/Barcelona/Notas/ML/MachineLearningProject/FinalModel%20_SpatialModel.ipynb#X30sZmlsZQ%3D%3D?line=5'>6</a>\u001b[0m \u001b[39mprint\u001b[39m(results\u001b[39m.\u001b[39msummary)\n",
      "File \u001b[0;32m~/Library/Python/3.8/lib/python/site-packages/spreg/twosls_sp.py:501\u001b[0m, in \u001b[0;36mGM_Lag.__init__\u001b[0;34m(self, y, x, yend, q, w, w_lags, lag_q, robust, gwk, sig2n_k, spat_diag, vm, name_y, name_x, name_yend, name_q, name_w, name_gwk, name_ds)\u001b[0m\n\u001b[1;32m    499\u001b[0m x_constant, name_x, warn \u001b[39m=\u001b[39m USER\u001b[39m.\u001b[39mcheck_constant(x, name_x)\n\u001b[1;32m    500\u001b[0m set_warn(\u001b[39mself\u001b[39m, warn)\n\u001b[0;32m--> 501\u001b[0m BaseGM_Lag\u001b[39m.\u001b[39;49m\u001b[39m__init__\u001b[39;49m(\n\u001b[1;32m    502\u001b[0m     \u001b[39mself\u001b[39;49m,\n\u001b[1;32m    503\u001b[0m     y\u001b[39m=\u001b[39;49my,\n\u001b[1;32m    504\u001b[0m     x\u001b[39m=\u001b[39;49mx_constant,\n\u001b[1;32m    505\u001b[0m     w\u001b[39m=\u001b[39;49mw,\n\u001b[1;32m    506\u001b[0m     yend\u001b[39m=\u001b[39;49myend,\n\u001b[1;32m    507\u001b[0m     q\u001b[39m=\u001b[39;49mq,\n\u001b[1;32m    508\u001b[0m     w_lags\u001b[39m=\u001b[39;49mw_lags,\n\u001b[1;32m    509\u001b[0m     robust\u001b[39m=\u001b[39;49mrobust,\n\u001b[1;32m    510\u001b[0m     gwk\u001b[39m=\u001b[39;49mgwk,\n\u001b[1;32m    511\u001b[0m     lag_q\u001b[39m=\u001b[39;49mlag_q,\n\u001b[1;32m    512\u001b[0m     sig2n_k\u001b[39m=\u001b[39;49msig2n_k,\n\u001b[1;32m    513\u001b[0m )\n\u001b[1;32m    514\u001b[0m \u001b[39mself\u001b[39m\u001b[39m.\u001b[39mrho \u001b[39m=\u001b[39m \u001b[39mself\u001b[39m\u001b[39m.\u001b[39mbetas[\u001b[39m-\u001b[39m\u001b[39m1\u001b[39m]\n\u001b[1;32m    515\u001b[0m \u001b[39mself\u001b[39m\u001b[39m.\u001b[39mpredy_e, \u001b[39mself\u001b[39m\u001b[39m.\u001b[39me_pred, warn \u001b[39m=\u001b[39m sp_att(\n\u001b[1;32m    516\u001b[0m     w, \u001b[39mself\u001b[39m\u001b[39m.\u001b[39my, \u001b[39mself\u001b[39m\u001b[39m.\u001b[39mpredy, \u001b[39mself\u001b[39m\u001b[39m.\u001b[39myend[:, \u001b[39m-\u001b[39m\u001b[39m1\u001b[39m]\u001b[39m.\u001b[39mreshape(\u001b[39mself\u001b[39m\u001b[39m.\u001b[39mn, \u001b[39m1\u001b[39m), \u001b[39mself\u001b[39m\u001b[39m.\u001b[39mrho\n\u001b[1;32m    517\u001b[0m )\n",
      "File \u001b[0;32m~/Library/Python/3.8/lib/python/site-packages/spreg/twosls_sp.py:184\u001b[0m, in \u001b[0;36mBaseGM_Lag.__init__\u001b[0;34m(self, y, x, yend, q, w, w_lags, lag_q, robust, gwk, sig2n_k)\u001b[0m\n\u001b[1;32m    167\u001b[0m \u001b[39mdef\u001b[39;00m \u001b[39m__init__\u001b[39m(\n\u001b[1;32m    168\u001b[0m     \u001b[39mself\u001b[39m,\n\u001b[1;32m    169\u001b[0m     y,\n\u001b[0;32m   (...)\u001b[0m\n\u001b[1;32m    178\u001b[0m     sig2n_k\u001b[39m=\u001b[39m\u001b[39mFalse\u001b[39;00m,\n\u001b[1;32m    179\u001b[0m ):\n\u001b[1;32m    181\u001b[0m     yend2, q2 \u001b[39m=\u001b[39m set_endog(\n\u001b[1;32m    182\u001b[0m         y, x[:, \u001b[39m1\u001b[39m:], w, yend, q, w_lags, lag_q\n\u001b[1;32m    183\u001b[0m     )  \u001b[39m# assumes constant in first column\u001b[39;00m\n\u001b[0;32m--> 184\u001b[0m     TSLS\u001b[39m.\u001b[39;49mBaseTSLS\u001b[39m.\u001b[39;49m\u001b[39m__init__\u001b[39;49m(\n\u001b[1;32m    185\u001b[0m         \u001b[39mself\u001b[39;49m, y\u001b[39m=\u001b[39;49my, x\u001b[39m=\u001b[39;49mx, yend\u001b[39m=\u001b[39;49myend2, q\u001b[39m=\u001b[39;49mq2, robust\u001b[39m=\u001b[39;49mrobust, gwk\u001b[39m=\u001b[39;49mgwk, sig2n_k\u001b[39m=\u001b[39;49msig2n_k\n\u001b[1;32m    186\u001b[0m     )\n",
      "File \u001b[0;32m~/Library/Python/3.8/lib/python/site-packages/spreg/twosls.py:160\u001b[0m, in \u001b[0;36mBaseTSLS.__init__\u001b[0;34m(self, y, x, yend, q, h, robust, gwk, sig2n_k)\u001b[0m\n\u001b[1;32m    158\u001b[0m \u001b[39mself\u001b[39m\u001b[39m.\u001b[39mk \u001b[39m=\u001b[39m z\u001b[39m.\u001b[39mshape[\u001b[39m1\u001b[39m]\n\u001b[1;32m    159\u001b[0m hth \u001b[39m=\u001b[39m spdot(h\u001b[39m.\u001b[39mT, h)\n\u001b[0;32m--> 160\u001b[0m hthi \u001b[39m=\u001b[39m la\u001b[39m.\u001b[39;49minv(hth)\n\u001b[1;32m    161\u001b[0m zth \u001b[39m=\u001b[39m spdot(z\u001b[39m.\u001b[39mT, h)\n\u001b[1;32m    162\u001b[0m hty \u001b[39m=\u001b[39m spdot(h\u001b[39m.\u001b[39mT, y)\n",
      "File \u001b[0;32m<__array_function__ internals>:200\u001b[0m, in \u001b[0;36minv\u001b[0;34m(*args, **kwargs)\u001b[0m\n",
      "File \u001b[0;32m~/Library/Python/3.8/lib/python/site-packages/numpy/linalg/linalg.py:538\u001b[0m, in \u001b[0;36minv\u001b[0;34m(a)\u001b[0m\n\u001b[1;32m    536\u001b[0m signature \u001b[39m=\u001b[39m \u001b[39m'\u001b[39m\u001b[39mD->D\u001b[39m\u001b[39m'\u001b[39m \u001b[39mif\u001b[39;00m isComplexType(t) \u001b[39melse\u001b[39;00m \u001b[39m'\u001b[39m\u001b[39md->d\u001b[39m\u001b[39m'\u001b[39m\n\u001b[1;32m    537\u001b[0m extobj \u001b[39m=\u001b[39m get_linalg_error_extobj(_raise_linalgerror_singular)\n\u001b[0;32m--> 538\u001b[0m ainv \u001b[39m=\u001b[39m _umath_linalg\u001b[39m.\u001b[39;49minv(a, signature\u001b[39m=\u001b[39;49msignature, extobj\u001b[39m=\u001b[39;49mextobj)\n\u001b[1;32m    539\u001b[0m \u001b[39mreturn\u001b[39;00m wrap(ainv\u001b[39m.\u001b[39mastype(result_t, copy\u001b[39m=\u001b[39m\u001b[39mFalse\u001b[39;00m))\n",
      "File \u001b[0;32m~/Library/Python/3.8/lib/python/site-packages/numpy/linalg/linalg.py:89\u001b[0m, in \u001b[0;36m_raise_linalgerror_singular\u001b[0;34m(err, flag)\u001b[0m\n\u001b[1;32m     88\u001b[0m \u001b[39mdef\u001b[39;00m \u001b[39m_raise_linalgerror_singular\u001b[39m(err, flag):\n\u001b[0;32m---> 89\u001b[0m     \u001b[39mraise\u001b[39;00m LinAlgError(\u001b[39m\"\u001b[39m\u001b[39mSingular matrix\u001b[39m\u001b[39m\"\u001b[39m)\n",
      "\u001b[0;31mLinAlgError\u001b[0m: Singular matrix"
     ]
    }
   ],
   "source": [
    "m1 = spreg.GM_Lag(train_data[['realSum']].values, train_data[features].values, w=w,\n",
    "                  name_y = 'realSum', name_x = features)\n",
    "\n",
    "results = m1\n",
    "\n",
    "print(results.summary)\n"
   ]
  },
  {
   "cell_type": "code",
   "execution_count": null,
   "id": "b4eeb7ae",
   "metadata": {},
   "outputs": [
    {
     "name": "stdout",
     "output_type": "stream",
     "text": [
      "572528151.8393285\n",
      "559150800.3682243\n"
     ]
    }
   ],
   "source": [
    "from sklearn.metrics import mean_squared_error\n",
    "\n",
    "m1.intercept = m1.betas[0]  # Get the intercept from the betas array\n",
    "m1.coefficients = m1.betas[1:len(m1.betas)-1] # Get the coefficients from the betas array\n",
    "predicted_price = m1.intercept + test_data[features].dot( m1.coefficients) \n",
    "predicted_price_2 = m1.intercept + train_data[features].dot( m1.coefficients) \n",
    "\n",
    "# Calculate MSE for different models\n",
    "mse_ols_1 = mean_squared_error(train_data[\"realSum\"], predicted_price_2)\n",
    "mse_ols = mean_squared_error(test_data[\"realSum\"], predicted_price)\n",
    "\n",
    "print(mse_ols_1)\n",
    "print(mse_ols)"
   ]
  },
  {
   "cell_type": "code",
   "execution_count": null,
   "id": "0b749c92",
   "metadata": {},
   "outputs": [
    {
     "name": "stderr",
     "output_type": "stream",
     "text": [
      "/Users/lauraforerocamacho/Library/Python/3.8/lib/python/site-packages/libpysal/weights/weights.py:172: UserWarning: The weights matrix is not fully connected: \n",
      " There are 21 disconnected components.\n",
      "  warnings.warn(message)\n"
     ]
    }
   ],
   "source": [
    "w_pool = weights.KNN.from_dataframe(train_data, k=8)\n",
    "lagged = train_data.assign(w_pool=weights.spatial_lag.lag_spatial(w_pool, train_data['rest_index'].values))\n"
   ]
  },
  {
   "cell_type": "code",
   "execution_count": null,
   "id": "f44e220b",
   "metadata": {},
   "outputs": [
    {
     "name": "stdout",
     "output_type": "stream",
     "text": [
      "REGRESSION\n",
      "----------\n",
      "SUMMARY OF OUTPUT: ORDINARY LEAST SQUARES\n",
      "-----------------------------------------\n",
      "Data set            :     unknown\n",
      "Weights matrix      :        None\n",
      "Dependent Variable  :     realSum                Number of Observations:       41365\n",
      "Mean dependent var  :    279.9664                Number of Variables   :          27\n",
      "S.D. dependent var  :    332.8897                Degrees of Freedom    :       41338\n",
      "R-squared           :      0.2380\n",
      "Adjusted R-squared  :      0.2375\n",
      "Sum squared residual:3493019364.335                F-statistic           :    496.4806\n",
      "Sigma-square        :   84498.993                Prob(F-statistic)     :           0\n",
      "S.E. of regression  :     290.687                Log likelihood        : -293313.404\n",
      "Sigma-square ML     :   84443.838                Akaike info criterion :  586680.807\n",
      "S.E of regression ML:    290.5922                Schwarz criterion     :  586913.822\n",
      "\n",
      "------------------------------------------------------------------------------------\n",
      "            Variable     Coefficient       Std.Error     t-Statistic     Probability\n",
      "------------------------------------------------------------------------------------\n",
      "            CONSTANT     234.9402766      19.7841600      11.8751707       0.0000000\n",
      "         room_shared    -202.3290128      17.1068909     -11.8273399       0.0000000\n",
      "        room_private    -117.5743281       3.8192347     -30.7847877       0.0000000\n",
      "     person_capacity      23.7004493       1.5796771      15.0033506       0.0000000\n",
      "   host_is_superhost      -0.9654699       3.5066153      -0.2753281       0.7830655\n",
      "  cleanliness_rating       6.1099808       2.1642146       2.8231862       0.0047572\n",
      "guest_satisfaction_overall       0.6167548       0.2365897       2.6068539       0.0091411\n",
      "               multi       9.7123112       3.6928296       2.6300459       0.0085405\n",
      "                 biz      31.7848759       3.7308900       8.5193816       0.0000000\n",
      "            bedrooms      89.4620329       2.8783847      31.0806385       0.0000000\n",
      "                dist       1.2321564       1.1410657       1.0798295       0.2802244\n",
      "          metro_dist      -7.1488131       2.1685477      -3.2965901       0.0009795\n",
      "          attr_index      -0.1965872       0.0197416      -9.9580067       0.0000000\n",
      "     attr_index_norm       9.8220694       0.4265178      23.0285106       0.0000000\n",
      "          rest_index      -0.0691022       0.0236498      -2.9218857       0.0034811\n",
      "     rest_index_norm      -0.2787251       0.1949619      -1.4296387       0.1528283\n",
      "            Weekdays      -4.7193111       2.8749299      -1.6415395       0.1006931\n",
      "              Athens    -436.7060018       9.4733819     -46.0982156       0.0000000\n",
      "           Barcelona    -243.8534355      10.8155571     -22.5465442       0.0000000\n",
      "              Berlin    -336.5486172      11.0973101     -30.3270445       0.0000000\n",
      "            Budapest    -445.0924307       9.1726364     -48.5239368       0.0000000\n",
      "              Lisbon    -325.6819081       9.0821920     -35.8593949       0.0000000\n",
      "              London    -267.5941348      10.3562088     -25.8390055       0.0000000\n",
      "               Paris    -226.3663644       8.9547335     -25.2789616       0.0000000\n",
      "                Rome    -355.9180952      10.5729739     -33.6630070       0.0000000\n",
      "              Vienna    -338.9951323       9.8603924     -34.3794767       0.0000000\n",
      "              w_pool       0.0143761       0.0029599       4.8570252       0.0000012\n",
      "------------------------------------------------------------------------------------\n",
      "\n",
      "REGRESSION DIAGNOSTICS\n",
      "MULTICOLLINEARITY CONDITION NUMBER           67.435\n",
      "\n",
      "TEST ON NORMALITY OF ERRORS\n",
      "TEST                             DF        VALUE           PROB\n",
      "Jarque-Bera                       2  3031858539.172           0.0000\n",
      "\n",
      "DIAGNOSTICS FOR HETEROSKEDASTICITY\n",
      "RANDOM COEFFICIENTS\n",
      "TEST                             DF        VALUE           PROB\n",
      "Breusch-Pagan test               26       82748.660           0.0000\n",
      "Koenker-Bassett test             26         124.717           0.0000\n",
      "================================ END OF REPORT =====================================\n"
     ]
    }
   ],
   "source": [
    "extended_vars = features\n",
    "extended_vars.append(\"w_pool\")\n",
    "train_data['w_pool']=lagged['w_pool']\n",
    "m1 = spreg.OLS(train_data[['realSum']].values, train_data[extended_vars].values,\n",
    "                  name_y = 'realSum', name_x = extended_vars)\n",
    "\n",
    "results = m1\n",
    "\n",
    "print(results.summary)\n"
   ]
  },
  {
   "cell_type": "code",
   "execution_count": null,
   "id": "618a0fc6",
   "metadata": {},
   "outputs": [
    {
     "name": "stderr",
     "output_type": "stream",
     "text": [
      "/Users/lauraforerocamacho/Library/Python/3.8/lib/python/site-packages/libpysal/weights/weights.py:172: UserWarning: The weights matrix is not fully connected: \n",
      " There are 11 disconnected components.\n",
      "  warnings.warn(message)\n"
     ]
    }
   ],
   "source": [
    "w_pool = weights.KNN.from_dataframe(test_data, k=8)\n",
    "lagged = test_data.assign(w_pool=weights.spatial_lag.lag_spatial(w_pool, test_data['rest_index'].values))\n",
    "test_data['w_pool']=lagged['w_pool']\n"
   ]
  },
  {
   "cell_type": "code",
   "execution_count": null,
   "id": "eb2e2679",
   "metadata": {},
   "outputs": [
    {
     "name": "stdout",
     "output_type": "stream",
     "text": [
      "84443.83813211157\n",
      "69192.83142720976\n"
     ]
    }
   ],
   "source": [
    "from sklearn.metrics import mean_squared_error\n",
    "\n",
    "m1.intercept = m1.betas[0]  # Get the intercept from the betas array\n",
    "m1.coefficients = m1.betas[1:len(m1.betas)] # Get the coefficients from the betas array\n",
    "predicted_price = m1.intercept + test_data[extended_vars].dot( m1.coefficients) \n",
    "predicted_price_2 = m1.intercept + train_data[extended_vars].dot( m1.coefficients) \n",
    "\n",
    "# Calculate MSE for different models\n",
    "mse_ols_1 = mean_squared_error(train_data[\"realSum\"], predicted_price_2)\n",
    "mse_ols = mean_squared_error(test_data[\"realSum\"], predicted_price)\n",
    "\n",
    "print(mse_ols_1)\n",
    "print(mse_ols)"
   ]
  }
 ],
 "metadata": {
  "kernelspec": {
   "display_name": "Python 3 (ipykernel)",
   "language": "python",
   "name": "python3"
  },
  "language_info": {
   "codemirror_mode": {
    "name": "ipython",
    "version": 3
   },
   "file_extension": ".py",
   "mimetype": "text/x-python",
   "name": "python",
   "nbconvert_exporter": "python",
   "pygments_lexer": "ipython3",
   "version": "3.8.9"
  }
 },
 "nbformat": 4,
 "nbformat_minor": 5
}
